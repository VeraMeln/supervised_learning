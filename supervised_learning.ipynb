{
 "cells": [
  {
   "cell_type": "markdown",
   "metadata": {
    "toc": true
   },
   "source": [
    "<h1>Содержание<span class=\"tocSkip\"></span></h1>\n",
    "<div class=\"toc\"><ul class=\"toc-item\"><li><span><a href=\"#Введение\" data-toc-modified-id=\"Введение-1\"><span class=\"toc-item-num\">1&nbsp;&nbsp;</span>Введение</a></span></li><li><span><a href=\"#Импорт-библиотек\" data-toc-modified-id=\"Импорт-библиотек-2\"><span class=\"toc-item-num\">2&nbsp;&nbsp;</span>Импорт библиотек</a></span></li><li><span><a href=\"#Подготовка-данных\" data-toc-modified-id=\"Подготовка-данных-3\"><span class=\"toc-item-num\">3&nbsp;&nbsp;</span>Подготовка данных</a></span><ul class=\"toc-item\"><li><span><a href=\"#Знакомство-с-данными\" data-toc-modified-id=\"Знакомство-с-данными-3.1\"><span class=\"toc-item-num\">3.1&nbsp;&nbsp;</span>Знакомство с данными</a></span></li><li><span><a href=\"#Обработка-пропусков\" data-toc-modified-id=\"Обработка-пропусков-3.2\"><span class=\"toc-item-num\">3.2&nbsp;&nbsp;</span>Обработка пропусков</a></span></li><li><span><a href=\"#Обработка-категориальных-признаков\" data-toc-modified-id=\"Обработка-категориальных-признаков-3.3\"><span class=\"toc-item-num\">3.3&nbsp;&nbsp;</span>Обработка категориальных признаков</a></span></li><li><span><a href=\"#Выводы\" data-toc-modified-id=\"Выводы-3.4\"><span class=\"toc-item-num\">3.4&nbsp;&nbsp;</span>Выводы</a></span></li></ul></li><li><span><a href=\"#Исследование-задачи\" data-toc-modified-id=\"Исследование-задачи-4\"><span class=\"toc-item-num\">4&nbsp;&nbsp;</span>Исследование задачи</a></span><ul class=\"toc-item\"><li><span><a href=\"#Дисбаланс-классов\" data-toc-modified-id=\"Дисбаланс-классов-4.1\"><span class=\"toc-item-num\">4.1&nbsp;&nbsp;</span>Дисбаланс классов</a></span></li><li><span><a href=\"#Подготовка-обучающей,-валидационной-и-тестовой-выборок\" data-toc-modified-id=\"Подготовка-обучающей,-валидационной-и-тестовой-выборок-4.2\"><span class=\"toc-item-num\">4.2&nbsp;&nbsp;</span>Подготовка обучающей, валидационной и тестовой выборок</a></span></li><li><span><a href=\"#Масштабирование-признаков\" data-toc-modified-id=\"Масштабирование-признаков-4.3\"><span class=\"toc-item-num\">4.3&nbsp;&nbsp;</span>Масштабирование признаков</a></span></li><li><span><a href=\"#Обучение-моделей-и-выбор-лучшей\" data-toc-modified-id=\"Обучение-моделей-и-выбор-лучшей-4.4\"><span class=\"toc-item-num\">4.4&nbsp;&nbsp;</span>Обучение моделей и выбор лучшей</a></span><ul class=\"toc-item\"><li><span><a href=\"#Логистическая-регрессия\" data-toc-modified-id=\"Логистическая-регрессия-4.4.1\"><span class=\"toc-item-num\">4.4.1&nbsp;&nbsp;</span>Логистическая регрессия</a></span></li><li><span><a href=\"#Дерево-решений\" data-toc-modified-id=\"Дерево-решений-4.4.2\"><span class=\"toc-item-num\">4.4.2&nbsp;&nbsp;</span>Дерево решений</a></span></li><li><span><a href=\"#Случайный-лес\" data-toc-modified-id=\"Случайный-лес-4.4.3\"><span class=\"toc-item-num\">4.4.3&nbsp;&nbsp;</span>Случайный лес</a></span></li></ul></li><li><span><a href=\"#ROC-кривые\" data-toc-modified-id=\"ROC-кривые-4.5\"><span class=\"toc-item-num\">4.5&nbsp;&nbsp;</span>ROC-кривые</a></span></li><li><span><a href=\"#Выводы\" data-toc-modified-id=\"Выводы-4.6\"><span class=\"toc-item-num\">4.6&nbsp;&nbsp;</span>Выводы</a></span></li></ul></li><li><span><a href=\"#Борьба-с-дисбалансом\" data-toc-modified-id=\"Борьба-с-дисбалансом-5\"><span class=\"toc-item-num\">5&nbsp;&nbsp;</span>Борьба с дисбалансом</a></span><ul class=\"toc-item\"><li><span><a href=\"#Взвешивание-классов\" data-toc-modified-id=\"Взвешивание-классов-5.1\"><span class=\"toc-item-num\">5.1&nbsp;&nbsp;</span>Взвешивание классов</a></span></li><li><span><a href=\"#Увеличение-выборки\" data-toc-modified-id=\"Увеличение-выборки-5.2\"><span class=\"toc-item-num\">5.2&nbsp;&nbsp;</span>Увеличение выборки</a></span></li><li><span><a href=\"#Уменьшение-выборки\" data-toc-modified-id=\"Уменьшение-выборки-5.3\"><span class=\"toc-item-num\">5.3&nbsp;&nbsp;</span>Уменьшение выборки</a></span></li><li><span><a href=\"#ROC-кривые\" data-toc-modified-id=\"ROC-кривые-5.4\"><span class=\"toc-item-num\">5.4&nbsp;&nbsp;</span>ROC-кривые</a></span></li><li><span><a href=\"#Выводы\" data-toc-modified-id=\"Выводы-5.5\"><span class=\"toc-item-num\">5.5&nbsp;&nbsp;</span>Выводы</a></span></li></ul></li><li><span><a href=\"#Тестирование-модели\" data-toc-modified-id=\"Тестирование-модели-6\"><span class=\"toc-item-num\">6&nbsp;&nbsp;</span>Тестирование модели</a></span><ul class=\"toc-item\"><li><span><a href=\"#Обучение-модели\" data-toc-modified-id=\"Обучение-модели-6.1\"><span class=\"toc-item-num\">6.1&nbsp;&nbsp;</span>Обучение модели</a></span></li><li><span><a href=\"#Подготовка-набора-характеристик-для-предсказаний\" data-toc-modified-id=\"Подготовка-набора-характеристик-для-предсказаний-6.2\"><span class=\"toc-item-num\">6.2&nbsp;&nbsp;</span>Подготовка набора характеристик для предсказаний</a></span></li><li><span><a href=\"#Оценка-качества-модели\" data-toc-modified-id=\"Оценка-качества-модели-6.3\"><span class=\"toc-item-num\">6.3&nbsp;&nbsp;</span>Оценка качества модели</a></span></li><li><span><a href=\"#Вывод\" data-toc-modified-id=\"Вывод-6.4\"><span class=\"toc-item-num\">6.4&nbsp;&nbsp;</span>Вывод</a></span></li></ul></li><li><span><a href=\"#Общий-вывод-исследования\" data-toc-modified-id=\"Общий-вывод-исследования-7\"><span class=\"toc-item-num\">7&nbsp;&nbsp;</span>Общий вывод исследования</a></span></li></ul></div>"
   ]
  },
  {
   "cell_type": "markdown",
   "metadata": {},
   "source": [
    "# Отток клиентов"
   ]
  },
  {
   "cell_type": "markdown",
   "metadata": {},
   "source": [
    "## Введение"
   ]
  },
  {
   "cell_type": "markdown",
   "metadata": {},
   "source": [
    "Из «Бета-Банка» стали уходить клиенты. Каждый месяц. Немного, но заметно. Банковские маркетологи посчитали: сохранять текущих клиентов дешевле, чем привлекать новых.\n",
    "\n",
    "Нужно спрогнозировать, уйдёт клиент из банка в ближайшее время или нет. Вам предоставлены исторические данные о поведении клиентов и расторжении договоров с банком. \n",
    "\n",
    "Постройте модель с предельно большим значением *F1*-меры. Чтобы сдать проект успешно, нужно довести метрику до 0.59. Проверьте *F1*-меру на тестовой выборке самостоятельно.\n",
    "\n",
    "Дополнительно измеряйте *AUC-ROC*, сравнивайте её значение с *F1*-мерой.\n",
    "\n",
    "Источник данных: [https://www.kaggle.com/barelydedicated/bank-customer-churn-modeling](https://www.kaggle.com/barelydedicated/bank-customer-churn-modeling)"
   ]
  },
  {
   "cell_type": "markdown",
   "metadata": {},
   "source": [
    "Описание данных. Признаки\n",
    "- RowNumber — индекс строки в данных\n",
    "- CustomerId — уникальный идентификатор клиента\n",
    "- Surname — фамилия\n",
    "- CreditScore — кредитный рейтинг\n",
    "- Geography — страна проживания\n",
    "- Gender — пол\n",
    "- Age — возраст\n",
    "- Tenure — сколько лет человек является клиентом банка\n",
    "- Balance — баланс на счёте\n",
    "- NumOfProducts — количество продуктов банка, используемых клиентом\n",
    "- HasCrCard — наличие кредитной карты\n",
    "- IsActiveMember — активность клиента\n",
    "- EstimatedSalary — предполагаемая зарплата\n",
    "\n",
    "Целевой признак\n",
    "- Exited — факт ухода клиента\n"
   ]
  },
  {
   "cell_type": "markdown",
   "metadata": {},
   "source": [
    "## Импорт библиотек"
   ]
  },
  {
   "cell_type": "code",
   "execution_count": 1,
   "metadata": {},
   "outputs": [],
   "source": [
    "# импортируем необходимые библиотеки, функции и модели\n",
    "import pandas as pd\n",
    "import numpy as np\n",
    "import matplotlib.pyplot as plt\n",
    "\n",
    "from sklearn.model_selection import train_test_split\n",
    "\n",
    "from sklearn.preprocessing import StandardScaler\n",
    "\n",
    "from sklearn.metrics import roc_curve \n",
    "from sklearn.metrics import accuracy_score\n",
    "from sklearn.metrics import recall_score\n",
    "from sklearn.metrics import precision_score\n",
    "from sklearn.metrics import f1_score\n",
    "from sklearn.metrics import roc_auc_score\n",
    "\n",
    "from sklearn.utils import shuffle\n",
    "\n",
    "from sklearn.linear_model import LogisticRegression\n",
    "from sklearn.tree import DecisionTreeClassifier\n",
    "from sklearn.ensemble import RandomForestClassifier\n",
    "\n",
    "RANDOM_STATE = 12345"
   ]
  },
  {
   "cell_type": "markdown",
   "metadata": {},
   "source": [
    "## Подготовка данных"
   ]
  },
  {
   "cell_type": "markdown",
   "metadata": {},
   "source": [
    "### Знакомство с данными"
   ]
  },
  {
   "cell_type": "markdown",
   "metadata": {},
   "source": [
    "Прочитаем файл с данными, посмотрим на их описание, первые строки и постараемся понять, что из себя представляют характеристики, на которых предстоит обучать модель."
   ]
  },
  {
   "cell_type": "code",
   "execution_count": 2,
   "metadata": {},
   "outputs": [
    {
     "name": "stdout",
     "output_type": "stream",
     "text": [
      "<class 'pandas.core.frame.DataFrame'>\n",
      "RangeIndex: 10000 entries, 0 to 9999\n",
      "Data columns (total 14 columns):\n",
      " #   Column           Non-Null Count  Dtype  \n",
      "---  ------           --------------  -----  \n",
      " 0   RowNumber        10000 non-null  int64  \n",
      " 1   CustomerId       10000 non-null  int64  \n",
      " 2   Surname          10000 non-null  object \n",
      " 3   CreditScore      10000 non-null  int64  \n",
      " 4   Geography        10000 non-null  object \n",
      " 5   Gender           10000 non-null  object \n",
      " 6   Age              10000 non-null  int64  \n",
      " 7   Tenure           9091 non-null   float64\n",
      " 8   Balance          10000 non-null  float64\n",
      " 9   NumOfProducts    10000 non-null  int64  \n",
      " 10  HasCrCard        10000 non-null  int64  \n",
      " 11  IsActiveMember   10000 non-null  int64  \n",
      " 12  EstimatedSalary  10000 non-null  float64\n",
      " 13  Exited           10000 non-null  int64  \n",
      "dtypes: float64(3), int64(8), object(3)\n",
      "memory usage: 1.1+ MB\n"
     ]
    }
   ],
   "source": [
    "data = pd.read_csv('datasets/Churn.csv')\n",
    "data.info()"
   ]
  },
  {
   "cell_type": "code",
   "execution_count": 3,
   "metadata": {},
   "outputs": [
    {
     "data": {
      "text/html": [
       "<div>\n",
       "<style scoped>\n",
       "    .dataframe tbody tr th:only-of-type {\n",
       "        vertical-align: middle;\n",
       "    }\n",
       "\n",
       "    .dataframe tbody tr th {\n",
       "        vertical-align: top;\n",
       "    }\n",
       "\n",
       "    .dataframe thead th {\n",
       "        text-align: right;\n",
       "    }\n",
       "</style>\n",
       "<table border=\"1\" class=\"dataframe\">\n",
       "  <thead>\n",
       "    <tr style=\"text-align: right;\">\n",
       "      <th></th>\n",
       "      <th>RowNumber</th>\n",
       "      <th>CustomerId</th>\n",
       "      <th>Surname</th>\n",
       "      <th>CreditScore</th>\n",
       "      <th>Geography</th>\n",
       "      <th>Gender</th>\n",
       "      <th>Age</th>\n",
       "      <th>Tenure</th>\n",
       "      <th>Balance</th>\n",
       "      <th>NumOfProducts</th>\n",
       "      <th>HasCrCard</th>\n",
       "      <th>IsActiveMember</th>\n",
       "      <th>EstimatedSalary</th>\n",
       "      <th>Exited</th>\n",
       "    </tr>\n",
       "  </thead>\n",
       "  <tbody>\n",
       "    <tr>\n",
       "      <th>0</th>\n",
       "      <td>1</td>\n",
       "      <td>15634602</td>\n",
       "      <td>Hargrave</td>\n",
       "      <td>619</td>\n",
       "      <td>France</td>\n",
       "      <td>Female</td>\n",
       "      <td>42</td>\n",
       "      <td>2.0</td>\n",
       "      <td>0.00</td>\n",
       "      <td>1</td>\n",
       "      <td>1</td>\n",
       "      <td>1</td>\n",
       "      <td>101348.88</td>\n",
       "      <td>1</td>\n",
       "    </tr>\n",
       "    <tr>\n",
       "      <th>1</th>\n",
       "      <td>2</td>\n",
       "      <td>15647311</td>\n",
       "      <td>Hill</td>\n",
       "      <td>608</td>\n",
       "      <td>Spain</td>\n",
       "      <td>Female</td>\n",
       "      <td>41</td>\n",
       "      <td>1.0</td>\n",
       "      <td>83807.86</td>\n",
       "      <td>1</td>\n",
       "      <td>0</td>\n",
       "      <td>1</td>\n",
       "      <td>112542.58</td>\n",
       "      <td>0</td>\n",
       "    </tr>\n",
       "    <tr>\n",
       "      <th>2</th>\n",
       "      <td>3</td>\n",
       "      <td>15619304</td>\n",
       "      <td>Onio</td>\n",
       "      <td>502</td>\n",
       "      <td>France</td>\n",
       "      <td>Female</td>\n",
       "      <td>42</td>\n",
       "      <td>8.0</td>\n",
       "      <td>159660.80</td>\n",
       "      <td>3</td>\n",
       "      <td>1</td>\n",
       "      <td>0</td>\n",
       "      <td>113931.57</td>\n",
       "      <td>1</td>\n",
       "    </tr>\n",
       "    <tr>\n",
       "      <th>3</th>\n",
       "      <td>4</td>\n",
       "      <td>15701354</td>\n",
       "      <td>Boni</td>\n",
       "      <td>699</td>\n",
       "      <td>France</td>\n",
       "      <td>Female</td>\n",
       "      <td>39</td>\n",
       "      <td>1.0</td>\n",
       "      <td>0.00</td>\n",
       "      <td>2</td>\n",
       "      <td>0</td>\n",
       "      <td>0</td>\n",
       "      <td>93826.63</td>\n",
       "      <td>0</td>\n",
       "    </tr>\n",
       "    <tr>\n",
       "      <th>4</th>\n",
       "      <td>5</td>\n",
       "      <td>15737888</td>\n",
       "      <td>Mitchell</td>\n",
       "      <td>850</td>\n",
       "      <td>Spain</td>\n",
       "      <td>Female</td>\n",
       "      <td>43</td>\n",
       "      <td>2.0</td>\n",
       "      <td>125510.82</td>\n",
       "      <td>1</td>\n",
       "      <td>1</td>\n",
       "      <td>1</td>\n",
       "      <td>79084.10</td>\n",
       "      <td>0</td>\n",
       "    </tr>\n",
       "  </tbody>\n",
       "</table>\n",
       "</div>"
      ],
      "text/plain": [
       "   RowNumber  CustomerId   Surname  CreditScore Geography  Gender  Age  \\\n",
       "0          1    15634602  Hargrave          619    France  Female   42   \n",
       "1          2    15647311      Hill          608     Spain  Female   41   \n",
       "2          3    15619304      Onio          502    France  Female   42   \n",
       "3          4    15701354      Boni          699    France  Female   39   \n",
       "4          5    15737888  Mitchell          850     Spain  Female   43   \n",
       "\n",
       "   Tenure    Balance  NumOfProducts  HasCrCard  IsActiveMember  \\\n",
       "0     2.0       0.00              1          1               1   \n",
       "1     1.0   83807.86              1          0               1   \n",
       "2     8.0  159660.80              3          1               0   \n",
       "3     1.0       0.00              2          0               0   \n",
       "4     2.0  125510.82              1          1               1   \n",
       "\n",
       "   EstimatedSalary  Exited  \n",
       "0        101348.88       1  \n",
       "1        112542.58       0  \n",
       "2        113931.57       1  \n",
       "3         93826.63       0  \n",
       "4         79084.10       0  "
      ]
     },
     "execution_count": 3,
     "metadata": {},
     "output_type": "execute_result"
    }
   ],
   "source": [
    "data.head()"
   ]
  },
  {
   "cell_type": "code",
   "execution_count": 4,
   "metadata": {},
   "outputs": [
    {
     "data": {
      "image/png": "[encoded data removed]",
      "text/plain": [
       "<Figure size 1500x1000 with 12 Axes>"
      ]
     },
     "metadata": {},
     "output_type": "display_data"
    }
   ],
   "source": [
    "# Посмотрим на значения, которые хранятся в числовых признаках\n",
    "data.hist(figsize=(15,10));"
   ]
  },
  {
   "cell_type": "markdown",
   "metadata": {},
   "source": [
    "Посмотрим на значения, которые хранятся в категориальных признаках 'Geography' и 'Gender'"
   ]
  },
  {
   "cell_type": "code",
   "execution_count": 5,
   "metadata": {},
   "outputs": [
    {
     "data": {
      "text/plain": [
       "['France', 'Germany', 'Spain']"
      ]
     },
     "execution_count": 5,
     "metadata": {},
     "output_type": "execute_result"
    }
   ],
   "source": [
    "sorted(data['Geography'].unique())"
   ]
  },
  {
   "cell_type": "code",
   "execution_count": 6,
   "metadata": {},
   "outputs": [
    {
     "data": {
      "text/plain": [
       "['Female', 'Male']"
      ]
     },
     "execution_count": 6,
     "metadata": {},
     "output_type": "execute_result"
    }
   ],
   "source": [
    "sorted(data['Gender'].unique())"
   ]
  },
  {
   "cell_type": "markdown",
   "metadata": {},
   "source": [
    "**Выводы**\n",
    "\n",
    "В датасете содержатся данные о 10 000 клиентах банка. Столбец Tenure (сколько лет человек является клиентом банка) содержит пропуски в данных. В основном все характеристики числовые, кроме данных о фамилии, поле и стране проживания клиента.\n",
    "\n",
    "В данных о стране содержится только три варианта: Германия, Испания и Франция.\n",
    "\n",
    "По гистограмме можно сделать следующие выводы:\n",
    "\n",
    "- Из числовых характеристик в датасете NumOfProducts, HasCrCard, IsActiveMember, Exited, являются категориальными признаками. \n",
    "- Большинство клиентов банка имеет кредитный рейтинг от 600 до 700, возраст от 30 до 40 лет, баланс на счете - меньше 25000, используют не больше 2х продуктов банка.\n",
    "- Клиентов банка, имеющих статус активности 1 почти столько же, сколько имеющих статус 0.\n",
    "- Клиентов, у которых есть кредитная карта почти в 2 раза больше, чем тех, у которых ее нет.\n",
    "- Гистограмма столбца с предполагаемой зарплатой говорит о том, что группы клиентов с разным уровнем дохода представлены в данных одинаково.\n",
    "- Количество лет, в течение которых клиент пользуется услугами банка, колеблется от 0 до 10. Больше всего клиентов в группах «10 лет» и «меньше 1 года». В остальных группах практически поровну.\n",
    "\n",
    "За представленный в данных период около 20% клиентов отказались от услуг банка.\n"
   ]
  },
  {
   "cell_type": "markdown",
   "metadata": {},
   "source": [
    "### Обработка пропусков"
   ]
  },
  {
   "cell_type": "markdown",
   "metadata": {},
   "source": [
    "Прежде чем передавать данные модели для обучения, обработаем пропуски в столбце 'Tenure'. "
   ]
  },
  {
   "cell_type": "code",
   "execution_count": 7,
   "metadata": {},
   "outputs": [
    {
     "data": {
      "text/plain": [
       "[0.0, 1.0, 2.0, 3.0, 4.0, 5.0, 6.0, 7.0, 8.0, 9.0, 10.0, nan]"
      ]
     },
     "execution_count": 7,
     "metadata": {},
     "output_type": "execute_result"
    }
   ],
   "source": [
    "# смотрим, какие значения хранятся в столбце\n",
    "sorted(data['Tenure'].unique())"
   ]
  },
  {
   "cell_type": "code",
   "execution_count": 8,
   "metadata": {},
   "outputs": [
    {
     "data": {
      "text/plain": [
       "9.09"
      ]
     },
     "execution_count": 8,
     "metadata": {},
     "output_type": "execute_result"
    }
   ],
   "source": [
    "# вычисляем процент пропусков\n",
    "data['Tenure'].isna().sum() / data.shape[0] * 100"
   ]
  },
  {
   "cell_type": "markdown",
   "metadata": {},
   "source": [
    "Их всего около 9%. Данные других столбцов в строках с пропусками присутствуют. Поэтому, чтобы не терять 9% данных, заполним пропуски медианным значением по столбцу."
   ]
  },
  {
   "cell_type": "code",
   "execution_count": 9,
   "metadata": {},
   "outputs": [
    {
     "data": {
      "text/plain": [
       "5.0"
      ]
     },
     "execution_count": 9,
     "metadata": {},
     "output_type": "execute_result"
    }
   ],
   "source": [
    "# находим медианное значение\n",
    "data['Tenure'].median()"
   ]
  },
  {
   "cell_type": "code",
   "execution_count": 10,
   "metadata": {},
   "outputs": [
    {
     "data": {
      "text/plain": [
       "0"
      ]
     },
     "execution_count": 10,
     "metadata": {},
     "output_type": "execute_result"
    }
   ],
   "source": [
    "# заполняем пропуски и проверяем результат работы\n",
    "data['Tenure'] = data['Tenure'].fillna(data['Tenure'].median())\n",
    "data['Tenure'].isna().sum()"
   ]
  },
  {
   "cell_type": "markdown",
   "metadata": {},
   "source": [
    "Так как значения, хранящиеся в столбце 'Tenure' – целые числа, преобразуем его к типу int."
   ]
  },
  {
   "cell_type": "code",
   "execution_count": 11,
   "metadata": {},
   "outputs": [
    {
     "name": "stdout",
     "output_type": "stream",
     "text": [
      "<class 'pandas.core.frame.DataFrame'>\n",
      "RangeIndex: 10000 entries, 0 to 9999\n",
      "Data columns (total 14 columns):\n",
      " #   Column           Non-Null Count  Dtype  \n",
      "---  ------           --------------  -----  \n",
      " 0   RowNumber        10000 non-null  int64  \n",
      " 1   CustomerId       10000 non-null  int64  \n",
      " 2   Surname          10000 non-null  object \n",
      " 3   CreditScore      10000 non-null  int64  \n",
      " 4   Geography        10000 non-null  object \n",
      " 5   Gender           10000 non-null  object \n",
      " 6   Age              10000 non-null  int64  \n",
      " 7   Tenure           10000 non-null  int32  \n",
      " 8   Balance          10000 non-null  float64\n",
      " 9   NumOfProducts    10000 non-null  int64  \n",
      " 10  HasCrCard        10000 non-null  int64  \n",
      " 11  IsActiveMember   10000 non-null  int64  \n",
      " 12  EstimatedSalary  10000 non-null  float64\n",
      " 13  Exited           10000 non-null  int64  \n",
      "dtypes: float64(2), int32(1), int64(8), object(3)\n",
      "memory usage: 1.0+ MB\n"
     ]
    }
   ],
   "source": [
    "data['Tenure'] = data['Tenure'].astype('int32')\n",
    "data.info()"
   ]
  },
  {
   "cell_type": "markdown",
   "metadata": {},
   "source": [
    "**Вывод.**\n",
    "\n",
    "Мы обработали пропуски, содержащиеся в столбце Tenure. \n",
    "- пропусков около 9%, \n",
    "- мы заполнили их медианным значением\n",
    "- преобразовали тип столбца из float в int\n"
   ]
  },
  {
   "cell_type": "markdown",
   "metadata": {},
   "source": [
    "### Обработка категориальных признаков"
   ]
  },
  {
   "cell_type": "markdown",
   "metadata": {},
   "source": [
    "В данных три столбца содержат не числа, а объекты: пол, фамилия и страна проживания. Столбец с фамилией мы не будем использовать для обучения модели, а столбцы с полом и страной проживания преобразуем в численные с помощью техники прямого кодирования (One-Hot Encoding). Чтобы не попасть в дамми-ловушку, один из новых столбцов удалим, передав в параметр drop_first значение True."
   ]
  },
  {
   "cell_type": "code",
   "execution_count": 12,
   "metadata": {},
   "outputs": [
    {
     "data": {
      "text/html": [
       "<div>\n",
       "<style scoped>\n",
       "    .dataframe tbody tr th:only-of-type {\n",
       "        vertical-align: middle;\n",
       "    }\n",
       "\n",
       "    .dataframe tbody tr th {\n",
       "        vertical-align: top;\n",
       "    }\n",
       "\n",
       "    .dataframe thead th {\n",
       "        text-align: right;\n",
       "    }\n",
       "</style>\n",
       "<table border=\"1\" class=\"dataframe\">\n",
       "  <thead>\n",
       "    <tr style=\"text-align: right;\">\n",
       "      <th></th>\n",
       "      <th>RowNumber</th>\n",
       "      <th>CustomerId</th>\n",
       "      <th>Surname</th>\n",
       "      <th>CreditScore</th>\n",
       "      <th>Age</th>\n",
       "      <th>Tenure</th>\n",
       "      <th>Balance</th>\n",
       "      <th>NumOfProducts</th>\n",
       "      <th>HasCrCard</th>\n",
       "      <th>IsActiveMember</th>\n",
       "      <th>EstimatedSalary</th>\n",
       "      <th>Exited</th>\n",
       "      <th>Gender_Male</th>\n",
       "      <th>Geography_Germany</th>\n",
       "      <th>Geography_Spain</th>\n",
       "    </tr>\n",
       "  </thead>\n",
       "  <tbody>\n",
       "    <tr>\n",
       "      <th>0</th>\n",
       "      <td>1</td>\n",
       "      <td>15634602</td>\n",
       "      <td>Hargrave</td>\n",
       "      <td>619</td>\n",
       "      <td>42</td>\n",
       "      <td>2</td>\n",
       "      <td>0.00</td>\n",
       "      <td>1</td>\n",
       "      <td>1</td>\n",
       "      <td>1</td>\n",
       "      <td>101348.88</td>\n",
       "      <td>1</td>\n",
       "      <td>0</td>\n",
       "      <td>0</td>\n",
       "      <td>0</td>\n",
       "    </tr>\n",
       "    <tr>\n",
       "      <th>1</th>\n",
       "      <td>2</td>\n",
       "      <td>15647311</td>\n",
       "      <td>Hill</td>\n",
       "      <td>608</td>\n",
       "      <td>41</td>\n",
       "      <td>1</td>\n",
       "      <td>83807.86</td>\n",
       "      <td>1</td>\n",
       "      <td>0</td>\n",
       "      <td>1</td>\n",
       "      <td>112542.58</td>\n",
       "      <td>0</td>\n",
       "      <td>0</td>\n",
       "      <td>0</td>\n",
       "      <td>1</td>\n",
       "    </tr>\n",
       "    <tr>\n",
       "      <th>2</th>\n",
       "      <td>3</td>\n",
       "      <td>15619304</td>\n",
       "      <td>Onio</td>\n",
       "      <td>502</td>\n",
       "      <td>42</td>\n",
       "      <td>8</td>\n",
       "      <td>159660.80</td>\n",
       "      <td>3</td>\n",
       "      <td>1</td>\n",
       "      <td>0</td>\n",
       "      <td>113931.57</td>\n",
       "      <td>1</td>\n",
       "      <td>0</td>\n",
       "      <td>0</td>\n",
       "      <td>0</td>\n",
       "    </tr>\n",
       "  </tbody>\n",
       "</table>\n",
       "</div>"
      ],
      "text/plain": [
       "   RowNumber  CustomerId   Surname  CreditScore  Age  Tenure    Balance  \\\n",
       "0          1    15634602  Hargrave          619   42       2       0.00   \n",
       "1          2    15647311      Hill          608   41       1   83807.86   \n",
       "2          3    15619304      Onio          502   42       8  159660.80   \n",
       "\n",
       "   NumOfProducts  HasCrCard  IsActiveMember  EstimatedSalary  Exited  \\\n",
       "0              1          1               1        101348.88       1   \n",
       "1              1          0               1        112542.58       0   \n",
       "2              3          1               0        113931.57       1   \n",
       "\n",
       "   Gender_Male  Geography_Germany  Geography_Spain  \n",
       "0            0                  0                0  \n",
       "1            0                  0                1  \n",
       "2            0                  0                0  "
      ]
     },
     "execution_count": 12,
     "metadata": {},
     "output_type": "execute_result"
    }
   ],
   "source": [
    "data = pd.get_dummies(\n",
    "    data,\n",
    "    columns=['Gender', 'Geography'],\n",
    "    drop_first=True\n",
    ")\n",
    "data.head(3)"
   ]
  },
  {
   "cell_type": "code",
   "execution_count": 13,
   "metadata": {},
   "outputs": [
    {
     "data": {
      "text/plain": [
       "(10000, 15)"
      ]
     },
     "execution_count": 13,
     "metadata": {},
     "output_type": "execute_result"
    }
   ],
   "source": [
    "data.shape"
   ]
  },
  {
   "cell_type": "markdown",
   "metadata": {},
   "source": [
    "**Вывод**\n",
    "\n",
    "Мы преобразовали категориальные признаки (пол и страна проживания) в числовые. Размерность данных изменилась, теперь у нас 10 000 строк и 15 столбцов."
   ]
  },
  {
   "cell_type": "markdown",
   "metadata": {},
   "source": [
    "### Выводы"
   ]
  },
  {
   "cell_type": "markdown",
   "metadata": {},
   "source": [
    "**Выводы**\n",
    "\n",
    "1. Нам предоставлены данные о поведении клиентов и расторжении договоров с банком. В датасете содержатся данные о 10 000 клиентах банка. В основном все характеристики числовые, кроме данных о фамилии, поле и стране проживания клиента.\n",
    "\n",
    "1. Большинство клиентов банка имеет кредитный рейтинг от 600 до 700, возраст от 30 до 40 лет, баланс на счете - меньше 25000, используют не больше 2х продуктов банка. Клиентов банка, имеющих статус активности 1 почти столько же, сколько имеющих статус 0. Клиентов, у которых есть кредитная карта почти в 2 раза больше, чем тех, у которых ее нет. Группы клиентов с разным уровнем дохода представлены в данных одинаково. Количество лет, в течение которых клиент пользуется услугами банка, колеблется от 0 до 10. Больше всего клиентов в группах «10 лет» и «меньше 1 года». \n",
    "\n",
    "1. За представленный в данных период около 20% клиентов отказались от услуг банка.\n",
    "\n",
    "1. Мы обработали пропуски (около 9% от всех данных), содержащиеся в столбце 'Tenure', заполнив их медианным значением.\n",
    "\n",
    "1. Столбцы с полом и страной проживания преобразовали в численные с помощью техники прямого кодирования (One-Hot Encoding). \n",
    "\n",
    "1. Размерность данных изменилась, теперь у нас 10 000 строк и 15 столбцов.\n"
   ]
  },
  {
   "cell_type": "markdown",
   "metadata": {},
   "source": [
    "## Исследование задачи"
   ]
  },
  {
   "cell_type": "markdown",
   "metadata": {},
   "source": [
    "Переходим к исследованию задачи. Исследуем целевой признак, посмотрим, как в данных представлены классы, которые требуется предсказать модели. Разобьем данные на тренировочную, валидационную и тестовую выборки. Попробуем обучить на них несколько разных моделей и подберем для них гиперпараметры. Выберем модель с лучшим показателем F1-метрики."
   ]
  },
  {
   "cell_type": "markdown",
   "metadata": {},
   "source": [
    "### Дисбаланс классов"
   ]
  },
  {
   "cell_type": "markdown",
   "metadata": {},
   "source": [
    "Первичный анализ показал, что в наших исходных данных имеет место дисбаланс классов: от услуг банка отказались около 20% клиентов. Посчитаем точнее."
   ]
  },
  {
   "cell_type": "code",
   "execution_count": 14,
   "metadata": {},
   "outputs": [
    {
     "data": {
      "text/plain": [
       "0    0.7963\n",
       "1    0.2037\n",
       "Name: Exited, dtype: float64"
      ]
     },
     "execution_count": 14,
     "metadata": {},
     "output_type": "execute_result"
    }
   ],
   "source": [
    "# вычислим, какую часть от общего количества составляют представители каждого класса\n",
    "class_frequency = data['Exited'].value_counts(normalize=True)\n",
    "class_frequency"
   ]
  },
  {
   "cell_type": "code",
   "execution_count": 15,
   "metadata": {},
   "outputs": [
    {
     "data": {
      "text/plain": [
       "3.909180166912126"
      ]
     },
     "execution_count": 15,
     "metadata": {},
     "output_type": "execute_result"
    }
   ],
   "source": [
    "# вычислим, во сколько раз класс 0 встречается чаще класса 1\n",
    "class_frequency[0] / class_frequency[1]"
   ]
  },
  {
   "cell_type": "markdown",
   "metadata": {},
   "source": [
    "**Вывод**\n",
    "\n",
    "Класс 0 (клиент продолжает сотрудничать с банком) встречается почти в 4 раза чаще, чем класс 1 (клиент от услуг банка отказался). "
   ]
  },
  {
   "cell_type": "markdown",
   "metadata": {},
   "source": [
    "### Подготовка обучающей, валидационной и тестовой выборок"
   ]
  },
  {
   "cell_type": "markdown",
   "metadata": {},
   "source": [
    "Сначала попробуем обучить модели на наших данных без учета дисбаланса классов."
   ]
  },
  {
   "cell_type": "markdown",
   "metadata": {},
   "source": [
    "Для начала выделим обучающие характеристики и целевой признак в отдельные переменные."
   ]
  },
  {
   "cell_type": "markdown",
   "metadata": {},
   "source": [
    "Из характеристик, на которых будем обучать модель, помимо целевого столбца «Exited» удалим столбцы 'RowNumber', 'CustomerId', 'Surname' как не оказывающие влияние на принятие решения о продолжении сотрудничества с банком."
   ]
  },
  {
   "cell_type": "code",
   "execution_count": 16,
   "metadata": {},
   "outputs": [
    {
     "data": {
      "text/html": [
       "<div>\n",
       "<style scoped>\n",
       "    .dataframe tbody tr th:only-of-type {\n",
       "        vertical-align: middle;\n",
       "    }\n",
       "\n",
       "    .dataframe tbody tr th {\n",
       "        vertical-align: top;\n",
       "    }\n",
       "\n",
       "    .dataframe thead th {\n",
       "        text-align: right;\n",
       "    }\n",
       "</style>\n",
       "<table border=\"1\" class=\"dataframe\">\n",
       "  <thead>\n",
       "    <tr style=\"text-align: right;\">\n",
       "      <th></th>\n",
       "      <th>CreditScore</th>\n",
       "      <th>Age</th>\n",
       "      <th>Tenure</th>\n",
       "      <th>Balance</th>\n",
       "      <th>NumOfProducts</th>\n",
       "      <th>HasCrCard</th>\n",
       "      <th>IsActiveMember</th>\n",
       "      <th>EstimatedSalary</th>\n",
       "      <th>Gender_Male</th>\n",
       "      <th>Geography_Germany</th>\n",
       "      <th>Geography_Spain</th>\n",
       "    </tr>\n",
       "  </thead>\n",
       "  <tbody>\n",
       "    <tr>\n",
       "      <th>0</th>\n",
       "      <td>619</td>\n",
       "      <td>42</td>\n",
       "      <td>2</td>\n",
       "      <td>0.00</td>\n",
       "      <td>1</td>\n",
       "      <td>1</td>\n",
       "      <td>1</td>\n",
       "      <td>101348.88</td>\n",
       "      <td>0</td>\n",
       "      <td>0</td>\n",
       "      <td>0</td>\n",
       "    </tr>\n",
       "    <tr>\n",
       "      <th>1</th>\n",
       "      <td>608</td>\n",
       "      <td>41</td>\n",
       "      <td>1</td>\n",
       "      <td>83807.86</td>\n",
       "      <td>1</td>\n",
       "      <td>0</td>\n",
       "      <td>1</td>\n",
       "      <td>112542.58</td>\n",
       "      <td>0</td>\n",
       "      <td>0</td>\n",
       "      <td>1</td>\n",
       "    </tr>\n",
       "    <tr>\n",
       "      <th>2</th>\n",
       "      <td>502</td>\n",
       "      <td>42</td>\n",
       "      <td>8</td>\n",
       "      <td>159660.80</td>\n",
       "      <td>3</td>\n",
       "      <td>1</td>\n",
       "      <td>0</td>\n",
       "      <td>113931.57</td>\n",
       "      <td>0</td>\n",
       "      <td>0</td>\n",
       "      <td>0</td>\n",
       "    </tr>\n",
       "    <tr>\n",
       "      <th>3</th>\n",
       "      <td>699</td>\n",
       "      <td>39</td>\n",
       "      <td>1</td>\n",
       "      <td>0.00</td>\n",
       "      <td>2</td>\n",
       "      <td>0</td>\n",
       "      <td>0</td>\n",
       "      <td>93826.63</td>\n",
       "      <td>0</td>\n",
       "      <td>0</td>\n",
       "      <td>0</td>\n",
       "    </tr>\n",
       "    <tr>\n",
       "      <th>4</th>\n",
       "      <td>850</td>\n",
       "      <td>43</td>\n",
       "      <td>2</td>\n",
       "      <td>125510.82</td>\n",
       "      <td>1</td>\n",
       "      <td>1</td>\n",
       "      <td>1</td>\n",
       "      <td>79084.10</td>\n",
       "      <td>0</td>\n",
       "      <td>0</td>\n",
       "      <td>1</td>\n",
       "    </tr>\n",
       "  </tbody>\n",
       "</table>\n",
       "</div>"
      ],
      "text/plain": [
       "   CreditScore  Age  Tenure    Balance  NumOfProducts  HasCrCard  \\\n",
       "0          619   42       2       0.00              1          1   \n",
       "1          608   41       1   83807.86              1          0   \n",
       "2          502   42       8  159660.80              3          1   \n",
       "3          699   39       1       0.00              2          0   \n",
       "4          850   43       2  125510.82              1          1   \n",
       "\n",
       "   IsActiveMember  EstimatedSalary  Gender_Male  Geography_Germany  \\\n",
       "0               1        101348.88            0                  0   \n",
       "1               1        112542.58            0                  0   \n",
       "2               0        113931.57            0                  0   \n",
       "3               0         93826.63            0                  0   \n",
       "4               1         79084.10            0                  0   \n",
       "\n",
       "   Geography_Spain  \n",
       "0                0  \n",
       "1                1  \n",
       "2                0  \n",
       "3                0  \n",
       "4                1  "
      ]
     },
     "execution_count": 16,
     "metadata": {},
     "output_type": "execute_result"
    }
   ],
   "source": [
    "# разбиваем данные на характеристики и целевой признак\n",
    "features = data.drop(['RowNumber', 'CustomerId', 'Surname', 'Exited'], axis=1)\n",
    "target = data['Exited']\n",
    "features.head()"
   ]
  },
  {
   "cell_type": "code",
   "execution_count": 17,
   "metadata": {},
   "outputs": [
    {
     "data": {
      "text/plain": [
       "((10000, 15), (10000, 11), (10000,))"
      ]
     },
     "execution_count": 17,
     "metadata": {},
     "output_type": "execute_result"
    }
   ],
   "source": [
    "# проверяем размерности получившихся переменных \n",
    "data.shape, features.shape, target.shape"
   ]
  },
  {
   "cell_type": "markdown",
   "metadata": {},
   "source": [
    "Разделим наш набор данных на обучающую, валидационную и тестовую выборки в отношении 3:1:1."
   ]
  },
  {
   "cell_type": "code",
   "execution_count": 18,
   "metadata": {},
   "outputs": [],
   "source": [
    "# сначала отложим 60% данных для обучения, \n",
    "features_train, features_rest, target_train, target_rest = train_test_split(\n",
    "    features,\n",
    "    target,\n",
    "    test_size=0.4,\n",
    "    random_state=RANDOM_STATE\n",
    ")\n",
    "\n",
    "# потом разделим оставшиеся 40% пополам на валидационную и тестовую выборки.\n",
    "features_valid, features_test, target_valid, target_test = train_test_split(\n",
    "    features_rest,\n",
    "    target_rest,\n",
    "    test_size=0.5,\n",
    "    random_state=RANDOM_STATE\n",
    ")"
   ]
  },
  {
   "cell_type": "markdown",
   "metadata": {},
   "source": [
    "Проверим размерности получившихся выборок."
   ]
  },
  {
   "cell_type": "code",
   "execution_count": 19,
   "metadata": {},
   "outputs": [
    {
     "data": {
      "text/plain": [
       "((6000, 11), (4000, 11))"
      ]
     },
     "execution_count": 19,
     "metadata": {},
     "output_type": "execute_result"
    }
   ],
   "source": [
    "features_train.shape, features_rest.shape"
   ]
  },
  {
   "cell_type": "code",
   "execution_count": 20,
   "metadata": {},
   "outputs": [
    {
     "data": {
      "text/plain": [
       "((6000,), (4000,))"
      ]
     },
     "execution_count": 20,
     "metadata": {},
     "output_type": "execute_result"
    }
   ],
   "source": [
    "target_train.shape, target_rest.shape"
   ]
  },
  {
   "cell_type": "code",
   "execution_count": 21,
   "metadata": {},
   "outputs": [
    {
     "data": {
      "text/plain": [
       "((2000, 11), (2000, 11))"
      ]
     },
     "execution_count": 21,
     "metadata": {},
     "output_type": "execute_result"
    }
   ],
   "source": [
    "features_valid.shape, features_test.shape"
   ]
  },
  {
   "cell_type": "code",
   "execution_count": 22,
   "metadata": {},
   "outputs": [
    {
     "data": {
      "text/plain": [
       "((2000,), (2000,))"
      ]
     },
     "execution_count": 22,
     "metadata": {},
     "output_type": "execute_result"
    }
   ],
   "source": [
    "target_valid.shape, target_test.shape"
   ]
  },
  {
   "cell_type": "markdown",
   "metadata": {},
   "source": [
    "**Вывод**\n",
    "\n",
    "Тестовая выборка отложена. Выборки, необходимые для обучения модели и валидации, сформированы."
   ]
  },
  {
   "cell_type": "markdown",
   "metadata": {},
   "source": [
    "### Масштабирование признаков"
   ]
  },
  {
   "cell_type": "markdown",
   "metadata": {},
   "source": [
    "В наших данных присутствуют числовые характеристики. Посмотрим на пределы, в рамках которых разбросаны значения этих признаков."
   ]
  },
  {
   "cell_type": "code",
   "execution_count": 23,
   "metadata": {},
   "outputs": [
    {
     "data": {
      "image/png": "[encoded data removed]",
      "text/plain": [
       "<Figure size 700x1000 with 6 Axes>"
      ]
     },
     "metadata": {},
     "output_type": "display_data"
    }
   ],
   "source": [
    "# смотрим описание числовых данных\n",
    "numeric_features = ['CreditScore','Age', 'Tenure', 'Balance', 'EstimatedSalary']\n",
    "features_train[numeric_features].hist(figsize=(7, 10));"
   ]
  },
  {
   "cell_type": "markdown",
   "metadata": {},
   "source": [
    "Из этой таблицы видно, что разброс данных отличается по столбцам. Это может негативно сказаться на процессе обучения модели. Проведем масштабирование признаков."
   ]
  },
  {
   "cell_type": "code",
   "execution_count": 24,
   "metadata": {},
   "outputs": [],
   "source": [
    "pd.options.mode.chained_assignment = None\n",
    "\n",
    "# будем использовать для масштабирования метод стандартизации\n",
    "scaler = StandardScaler()\n",
    "\n",
    "# настроим стандартизатор на обучающих данных\n",
    "scaler.fit(features_train[numeric_features])\n",
    "\n",
    "# преобразуем обучающую и валидационную выборки\n",
    "features_train[numeric_features] = scaler.transform(features_train[numeric_features])\n",
    "features_valid[numeric_features] = scaler.transform(features_valid[numeric_features])"
   ]
  },
  {
   "cell_type": "code",
   "execution_count": 25,
   "metadata": {},
   "outputs": [
    {
     "data": {
      "image/png": "[encoded data removed]",
      "text/plain": [
       "<Figure size 700x1000 with 6 Axes>"
      ]
     },
     "metadata": {},
     "output_type": "display_data"
    }
   ],
   "source": [
    "features_train[numeric_features].hist(figsize=(7, 10));"
   ]
  },
  {
   "cell_type": "markdown",
   "metadata": {},
   "source": [
    "**Вывод**\n",
    "\n",
    "Пределы, в рамках которых изменяются числовые характеристики данных, стали сопоставимы друг с другом"
   ]
  },
  {
   "cell_type": "markdown",
   "metadata": {},
   "source": [
    "### Обучение моделей и выбор лучшей"
   ]
  },
  {
   "cell_type": "markdown",
   "metadata": {},
   "source": [
    "Переходим к обучению моделей на подготовленных данных. Для каждой модели будем считать F1-меру и AUC-ROC метрику."
   ]
  },
  {
   "cell_type": "markdown",
   "metadata": {},
   "source": [
    "#### Логистическая регрессия"
   ]
  },
  {
   "cell_type": "markdown",
   "metadata": {},
   "source": [
    "Начнем с модели логистической регрессии"
   ]
  },
  {
   "cell_type": "code",
   "execution_count": 26,
   "metadata": {},
   "outputs": [
    {
     "name": "stdout",
     "output_type": "stream",
     "text": [
      "F1: 0.33108108108108103\n",
      "auc_roc:  0.7586620412656742\n"
     ]
    }
   ],
   "source": [
    "model = LogisticRegression(\n",
    "    random_state=RANDOM_STATE, \n",
    "    solver='liblinear'\n",
    ")\n",
    "# обучаем модель\n",
    "model.fit(features_train, target_train)\n",
    "\n",
    "# формируем предсказания на валидационной выборке\n",
    "predictions = model.predict(features_valid)\n",
    "\n",
    "# вычисляем метрики F1 и AUC-ROC\n",
    "print(\"F1:\", f1_score(target_valid, predictions))\n",
    "\n",
    "# сохраняем предсказания вероятностей класса 1 для построения ROC-кривой\n",
    "probabilities_one_valid_lr = model.predict_proba(features_valid)[:, 1]\n",
    "auc_roc = roc_auc_score(target_valid, probabilities_one_valid_lr)\n",
    "print('auc_roc: ', auc_roc)"
   ]
  },
  {
   "cell_type": "markdown",
   "metadata": {},
   "source": [
    "У модели линейной регрессии низкий показатель метрики F1: 0.3311\n",
    "\n",
    "Величина AUC-ROC: 0.7587"
   ]
  },
  {
   "cell_type": "markdown",
   "metadata": {},
   "source": [
    "#### Дерево решений"
   ]
  },
  {
   "cell_type": "markdown",
   "metadata": {},
   "source": [
    "Попробуем обучить дерево решений. Переберем несколько возможных значений для глубины дерева и выберем наилучший."
   ]
  },
  {
   "cell_type": "code",
   "execution_count": 27,
   "metadata": {},
   "outputs": [
    {
     "name": "stdout",
     "output_type": "stream",
     "text": [
      "depth 1 F1: 0.0 auc_roc:  0.6925565119556736\n",
      "depth 2 F1: 0.5217391304347825 auc_roc:  0.7501814673449512\n",
      "depth 3 F1: 0.4234875444839857 auc_roc:  0.7973440741838507\n",
      "depth 4 F1: 0.5528700906344411 auc_roc:  0.813428129858032\n",
      "depth 5 F1: 0.5406249999999999 auc_roc:  0.8221680508592478\n",
      "depth 6 F1: 0.5696969696969697 auc_roc:  0.8164631712023421\n",
      "depth 7 F1: 0.5446153846153846 auc_roc:  0.81526095004204\n",
      "depth 8 F1: 0.5321100917431192 auc_roc:  0.8061528015533603\n",
      "depth 9 F1: 0.5638148667601683 auc_roc:  0.7781418046322564\n",
      "depth 10 F1: 0.53954802259887 auc_roc:  0.7716755182404927\n",
      "depth 11 F1: 0.5132978723404256 auc_roc:  0.7339613111620564\n",
      "depth 12 F1: 0.5218508997429305 auc_roc:  0.7139862931665446\n",
      "depth 13 F1: 0.5052356020942409 auc_roc:  0.683486169163859\n",
      "depth 14 F1: 0.5 auc_roc:  0.6896500099807041\n",
      "----------------------\n",
      "best_depth 6 best f1 score 0.5696969696969697 best_auc_roc 0.8164631712023421\n"
     ]
    }
   ],
   "source": [
    "best_result=0\n",
    "best_depth=0\n",
    "best_auc_roc = 0\n",
    "best_model = None\n",
    "\n",
    "for depth in range(1, 15):\n",
    "    model = DecisionTreeClassifier(\n",
    "        random_state=RANDOM_STATE, \n",
    "        max_depth=depth\n",
    "    )\n",
    "    \n",
    "    # обучаем модель\n",
    "    model.fit(features_train, target_train)\n",
    "    \n",
    "    # формируем предсказания на валидационной выборке    \n",
    "    predictions = model.predict(features_valid)\n",
    "    \n",
    "    # вычисляем метрики F1 и AUC-ROC\n",
    "    f_one_score=f1_score(target_valid, predictions)\n",
    "    probabilities_one_valid = model.predict_proba(features_valid)[:, 1]\n",
    "    auc_roc = roc_auc_score(target_valid, probabilities_one_valid)\n",
    "    print(\n",
    "        'depth', depth, \n",
    "        \"F1:\", f_one_score, \n",
    "        'auc_roc: ', auc_roc\n",
    "    )\n",
    "    \n",
    "    # запоминаем значения гиперпараметров для лучшей модели\n",
    "    if f_one_score > best_result:\n",
    "        best_result = f_one_score\n",
    "        best_depth = depth\n",
    "        best_auc_roc = auc_roc\n",
    "        best_model = model\n",
    "\n",
    "print('----------------------')\n",
    "print('best_depth', best_depth, 'best f1 score', best_result, 'best_auc_roc', best_auc_roc)\n",
    "\n",
    "# сохраняем предсказания вероятностей класса 1 для построения ROC-кривой\n",
    "probabilities_one_valid_dt = best_model.predict_proba(features_valid)[:, 1]"
   ]
  },
  {
   "cell_type": "markdown",
   "metadata": {},
   "source": [
    "Лучшие результаты показало дерево с глубиной 6.\n",
    "\n",
    "Показатель метрики F1: 0.5697.\n",
    "    \n",
    "Величина AUC-ROC: 0.8165.\n"
   ]
  },
  {
   "cell_type": "markdown",
   "metadata": {},
   "source": [
    "#### Случайный лес"
   ]
  },
  {
   "cell_type": "markdown",
   "metadata": {},
   "source": [
    "Попробуем обучить случайный лес. Переберем несколько возможных значений для глубины деревьев и количества деревьев в лесу. Выберем вариант с наибольшим значением метрики F1."
   ]
  },
  {
   "cell_type": "markdown",
   "metadata": {},
   "source": [
    "Сначала подберем глубину на небольшом количестве деревьев."
   ]
  },
  {
   "cell_type": "code",
   "execution_count": 28,
   "metadata": {},
   "outputs": [
    {
     "name": "stdout",
     "output_type": "stream",
     "text": [
      "depth 1 f1-score 0.0 auc_roc:  0.7921730109666766\n",
      "depth 2 f1-score 0.14601769911504425 auc_roc:  0.8058571610038773\n",
      "depth 3 f1-score 0.29940119760479045 auc_roc:  0.8127635057071481\n",
      "depth 4 f1-score 0.3918669131238447 auc_roc:  0.833676104984908\n",
      "depth 5 f1-score 0.4906303236797275 auc_roc:  0.8424250993533715\n",
      "depth 6 f1-score 0.4949494949494949 auc_roc:  0.8490652919507136\n",
      "depth 7 f1-score 0.5627980922098569 auc_roc:  0.846808291847882\n",
      "depth 8 f1-score 0.555205047318612 auc_roc:  0.8483575693054036\n",
      "depth 9 f1-score 0.571875 auc_roc:  0.84788575420853\n",
      "depth 10 f1-score 0.5642633228840126 auc_roc:  0.8463228667001372\n",
      "depth 11 f1-score 0.5714285714285714 auc_roc:  0.8422080946533672\n",
      "depth 12 f1-score 0.5997001499250375 auc_roc:  0.8375043098494426\n",
      "depth 13 f1-score 0.588410104011887 auc_roc:  0.8379110991477083\n",
      "depth 14 f1-score 0.5718608169440242 auc_roc:  0.8273799442290359\n",
      "depth 15 f1-score 0.5589123867069486 auc_roc:  0.8230466552543869\n",
      "---------------------------------\n",
      "best_depth 12 best_score 0.5997001499250375 best_auc_roc 0.8375043098494426\n"
     ]
    }
   ],
   "source": [
    "best_depth = 0\n",
    "best_score = 0\n",
    "best_auc_roc = 0\n",
    "\n",
    "for depth in range(1, 16, 1):\n",
    "    model = RandomForestClassifier(\n",
    "        n_estimators=20, \n",
    "        max_depth=depth, \n",
    "        random_state=RANDOM_STATE)\n",
    "    \n",
    "    # обучаем модель    \n",
    "    model.fit(features_train, target_train)\n",
    "    \n",
    "    # формируем предсказания на валидационной выборке\n",
    "    predictions = model.predict(features_valid)\n",
    "    \n",
    "    # вычисляем метрики F1 и AUC-ROC\n",
    "    f_one_score = f1_score(target_valid, predictions)\n",
    "    probabilities_one_valid = model.predict_proba(features_valid)[:, 1]\n",
    "    auc_roc = roc_auc_score(target_valid, probabilities_one_valid)\n",
    "    \n",
    "    print('depth', depth, \n",
    "          'f1-score', f_one_score, \n",
    "          'auc_roc: ', auc_roc\n",
    "         )\n",
    "    \n",
    "    # запоминаем значения гиперпараметров для лучшей модели\n",
    "    if f_one_score > best_score:\n",
    "        best_score = f_one_score\n",
    "        best_auc_roc = auc_roc\n",
    "        best_depth = depth\n",
    "        \n",
    "\n",
    "print('---------------------------------')\n",
    "\n",
    "print('best_depth', best_depth, 'best_score', best_score, 'best_auc_roc', best_auc_roc)"
   ]
  },
  {
   "cell_type": "markdown",
   "metadata": {},
   "source": [
    "Лучшая глубина деревьев: 12.\n",
    "\n",
    "Попробуем разные варианты количества деревьев."
   ]
  },
  {
   "cell_type": "code",
   "execution_count": 29,
   "metadata": {},
   "outputs": [
    {
     "name": "stdout",
     "output_type": "stream",
     "text": [
      "estimators 10 f1-score 0.5934718100890208 auc_roc:  0.8343437535915411\n",
      "estimators 20 f1-score 0.5997001499250375 auc_roc:  0.8375043098494426\n",
      "estimators 30 f1-score 0.5875190258751902 auc_roc:  0.8403404932282437\n",
      "estimators 40 f1-score 0.5844748858447488 auc_roc:  0.8415306165655491\n",
      "estimators 50 f1-score 0.5857359635811836 auc_roc:  0.843057966718889\n",
      "estimators 60 f1-score 0.5844748858447488 auc_roc:  0.8432122139620976\n",
      "estimators 70 f1-score 0.5927051671732523 auc_roc:  0.8427434233209734\n",
      "estimators 80 f1-score 0.5866261398176292 auc_roc:  0.8432016283669754\n",
      "estimators 90 f1-score 0.5844748858447488 auc_roc:  0.8436537845014791\n",
      "estimators 100 f1-score 0.5887708649468891 auc_roc:  0.8443342870450461\n",
      "estimators 110 f1-score 0.5878787878787878 auc_roc:  0.8447078073300709\n",
      "estimators 120 f1-score 0.582701062215478 auc_roc:  0.8451372800464556\n",
      "estimators 130 f1-score 0.5818181818181819 auc_roc:  0.8466978992130365\n",
      "estimators 140 f1-score 0.5848484848484847 auc_roc:  0.8460310067203406\n",
      "estimators 150 f1-score 0.5844748858447488 auc_roc:  0.8461988640144207\n",
      "estimators 160 f1-score 0.5857359635811836 auc_roc:  0.8469867347370841\n",
      "estimators 170 f1-score 0.5914634146341463 auc_roc:  0.8476914329266447\n",
      "estimators 180 f1-score 0.5905631659056315 auc_roc:  0.8473466449712374\n",
      "estimators 190 f1-score 0.5960665658093798 auc_roc:  0.8476596761412782\n",
      "estimators 200 f1-score 0.5948406676783005 auc_roc:  0.8483840332932089\n",
      "---------------\n",
      "best_estimators 20 best_f1_score 0.5997001499250375 best_auc_roc 0.8375043098494426\n"
     ]
    }
   ],
   "source": [
    "best_result = 0\n",
    "best_n_estimators = 0\n",
    "best_auc_roc = 0\n",
    "best_model = None\n",
    "\n",
    "for estimators in range(10, 201, 10):\n",
    "    model = RandomForestClassifier(\n",
    "        n_estimators=estimators, \n",
    "        max_depth=12, \n",
    "        random_state=RANDOM_STATE)\n",
    "    \n",
    "    # обучаем модель\n",
    "    model.fit(features_train, target_train)\n",
    "    \n",
    "    # формируем предсказания на валидационной выборке\n",
    "    predictions = model.predict(features_valid)\n",
    "    \n",
    "    # вычисляем метрики F1 и AUC-ROC\n",
    "    f_one_score = f1_score(target_valid, predictions)\n",
    "    probabilities_one_valid = model.predict_proba(features_valid)[:, 1]\n",
    "    auc_roc = roc_auc_score(target_valid, probabilities_one_valid)\n",
    "    \n",
    "    print('estimators', estimators, \n",
    "          'f1-score', f_one_score, \n",
    "          'auc_roc: ', auc_roc\n",
    "         )\n",
    "    \n",
    "    # запоминаем значения гиперпараметров для лучшей модели\n",
    "    if f_one_score > best_result:\n",
    "        best_result = f_one_score\n",
    "        best_auc_roc = auc_roc\n",
    "        best_n_estimators = estimators\n",
    "        best_model = model\n",
    "        \n",
    "print('---------------')\n",
    "print('best_estimators', best_n_estimators, \n",
    "      'best_f1_score', best_result, \n",
    "      'best_auc_roc', best_auc_roc\n",
    "     )\n",
    "\n",
    "# сохраняем предсказания вероятностей класса 1 лучшей модели для построения ROC-кривой\n",
    "probabilities_one_valid_rf = best_model.predict_proba(features_valid)[:, 1]"
   ]
  },
  {
   "cell_type": "markdown",
   "metadata": {},
   "source": [
    "Лучшие результаты показал случайный лес со следующими значениями гиперпараметров:\n",
    "- количество деревьев 20\n",
    "- глубина 12.\n",
    "\n",
    "Показатель метрики F1: 0.5997.\n",
    "    \n",
    "Величина AUC-ROC: 0.8375.\n"
   ]
  },
  {
   "cell_type": "markdown",
   "metadata": {},
   "source": [
    "### ROC-кривые"
   ]
  },
  {
   "cell_type": "markdown",
   "metadata": {},
   "source": [
    "Для наглядного сравнения качества построенных моделей, построим для них и случайной модели на одном графике ROC-кривые. Чем выше качество модели, тем выше находится ее ROC-кривая."
   ]
  },
  {
   "cell_type": "code",
   "execution_count": 30,
   "metadata": {},
   "outputs": [
    {
     "data": {
      "image/png": "[encoded data removed]",
      "text/plain": [
       "<Figure size 1200x800 with 1 Axes>"
      ]
     },
     "metadata": {},
     "output_type": "display_data"
    }
   ],
   "source": [
    "fpr_lr, tpr_lr, thresholds_lr = roc_curve(target_valid, probabilities_one_valid_lr)\n",
    "fpr_dt, tpr_dt, thresholds_dt = roc_curve(target_valid, probabilities_one_valid_dt)\n",
    "fpr_rf, tpr_rf, thresholds_rf = roc_curve(target_valid, probabilities_one_valid_rf)\n",
    "\n",
    "plt.figure(figsize=(12, 8))\n",
    "\n",
    "# строим графики\n",
    "plt.plot(fpr_lr, tpr_lr, c='b', label='Logistic Regression')\n",
    "plt.plot(fpr_dt, tpr_dt, c='g', label='Decision Tree')\n",
    "plt.plot(fpr_rf, tpr_rf, c='r', label='RandomForest')\n",
    "\n",
    "\n",
    "# ROC-кривая случайной модели (выглядит как прямая)\n",
    "plt.plot([0, 1], [0, 1], linestyle='--')\n",
    "\n",
    "# устанавливаем границы осей от 0 до 1 \n",
    "plt.xlim([0.0, 1.0])\n",
    "plt.ylim([0.0, 1.0])\n",
    "\n",
    "# задаем подписи к осям \"False Positive Rate\" и \"True Positive Rate\" \n",
    "plt.xlabel(\"False Positive Rate\") \n",
    "plt.ylabel(\"True Positive Rate\")\n",
    "\n",
    "# выводим легенду и заголовок графика\n",
    "plt.legend()\n",
    "plt.title(\"ROC-кривая\");"
   ]
  },
  {
   "cell_type": "markdown",
   "metadata": {},
   "source": [
    "При построении графика ROC-кривых, кривая случайного леса оказалась выше всех. Площадь под кривой показывает качество алгоритма (больше – лучше). Кроме того, ROC-кривая случайного леса является самой крутой, то есть ближе всех подходит к точке (0, 1) (а это идеальный случай, когда классификатор не делает ошибок FPR = 0, TPR =1).\n",
    "\n",
    "\n",
    "Дальнейшую работу по улучшению показателей F1-метрики будем проводить с ней."
   ]
  },
  {
   "cell_type": "markdown",
   "metadata": {},
   "source": [
    "### Выводы"
   ]
  },
  {
   "cell_type": "markdown",
   "metadata": {},
   "source": [
    "1. В имеющихся данных наблюдается дисбаланс классов. Класс 0 (клиент продолжает сотрудничать с банком) встречается почти в 4 раза чаще, чем класс 1 (клиент от услуг банка отказался).\n",
    "1. Первоначальное исследование моделей проводилось без учета дисбаланса. При подготовке данных была отложена тестовая выборка. Выборки, необходимые для обучения модели и валидации, сформированы. Числовые характеристики данных прошли масштабирование и пределы, в рамках которых они изменяются, стали сопоставимы друг с другом.\n",
    "1. В процессе обучения на данных без учета дисбаланса классов лучшие результаты показал случайный лес со следующими значениями гиперпараметров:\n",
    "- количество деревьев 20\n",
    "- глубина 12.\n",
    "\n",
    "На валидационной выборке показатель метрики F1: 0.5997.\n",
    "Величина AUC-ROC: 0.8375.\n",
    "\n",
    "Дальнейшую работу по улучшению показателей F1-метрики будем проводить с моделью случайного леса."
   ]
  },
  {
   "cell_type": "markdown",
   "metadata": {},
   "source": [
    "## Борьба с дисбалансом"
   ]
  },
  {
   "cell_type": "markdown",
   "metadata": {},
   "source": [
    "Для улучшения качества модели, проведем ее обучение с учетом дисбаланса классов. Попробуем три подхода: \n",
    "1. параметр class_weight, доступный нам среди стандартных гиперпараметров модели, \n",
    "1. увеличение выборки (upsampling)\n",
    "1. уменьшение выборки (dowsampling)\n",
    "\n",
    "Для контроля качества также будем следить за показателями F1-меры, величиной AUC-ROC, в конце построим график ROC-кривых.\n"
   ]
  },
  {
   "cell_type": "markdown",
   "metadata": {},
   "source": [
    "### Взвешивание классов"
   ]
  },
  {
   "cell_type": "markdown",
   "metadata": {},
   "source": [
    "Передадим параметру 'class_weight' значение 'balanced'"
   ]
  },
  {
   "cell_type": "code",
   "execution_count": 31,
   "metadata": {},
   "outputs": [
    {
     "name": "stdout",
     "output_type": "stream",
     "text": [
      "f1_score 0.5913272010512483\n",
      "auc_roc:  0.843055698377077\n"
     ]
    }
   ],
   "source": [
    "model = RandomForestClassifier(\n",
    "    n_estimators=20, \n",
    "    max_depth=12, \n",
    "    class_weight='balanced',\n",
    "    random_state=RANDOM_STATE\n",
    ")\n",
    "\n",
    "# обучаем модель\n",
    "model.fit(features_train, target_train)\n",
    "\n",
    "# формируем предсказания на валидационной выборке\n",
    "predictions = model.predict(features_valid)\n",
    "\n",
    "# вычисляем метрики F1, AUC-ROC\n",
    "# и сохраняем предсказания вероятностей класса 1 для построения ROC-кривой\n",
    "\n",
    "f_one_score = f1_score(target_valid, predictions)\n",
    "print('f1_score', f_one_score)\n",
    "\n",
    "probabilities_one_valid_cw = model.predict_proba(features_valid)[:, 1]\n",
    "auc_roc = roc_auc_score(target_valid, probabilities_one_valid_cw)\n",
    "print('auc_roc: ', auc_roc)"
   ]
  },
  {
   "cell_type": "markdown",
   "metadata": {},
   "source": [
    "Показатель метрики F1 повысился с 0.5997 до 0.6032.\n",
    "\n",
    "Величина AUC-ROC повысилась в третьем знаке после запятой: с 0.8375 до 0.8400"
   ]
  },
  {
   "cell_type": "markdown",
   "metadata": {},
   "source": [
    "### Увеличение выборки"
   ]
  },
  {
   "cell_type": "markdown",
   "metadata": {},
   "source": [
    "Так как при исследовании дисбаланса классов, мы установили, что объектов класса 0 почти в 4 раза больше, чем объектов класса 1, попробуем уравнять количество объектов разных классов за счет того, что увеличим в датасете количество строк, содержащих 1."
   ]
  },
  {
   "cell_type": "markdown",
   "metadata": {},
   "source": [
    "Напишем функцию, которая создает новые выборки данных для обучения так, что в них одинаковое количество представителей каждого класса."
   ]
  },
  {
   "cell_type": "code",
   "execution_count": 32,
   "metadata": {},
   "outputs": [],
   "source": [
    "def upsample(features, target, repeat):\n",
    "    # создаем вспомогательные переменные для каждого класса\n",
    "    features_zeros = features[target == 0]\n",
    "    features_ones = features[target == 1]\n",
    "    target_zeros = target[target == 0]\n",
    "    target_ones = target[target == 1]\n",
    "    \n",
    "    # увеличиваем с помощью копирования число объектов более редкого класса\n",
    "    features_upsampled = pd.concat([features_zeros] + [features_ones] * repeat)\n",
    "    target_upsampled = pd.concat([target_zeros] + [target_ones] * repeat)\n",
    "    \n",
    "    # перемешиваем выборки\n",
    "    features_upsampled = shuffle(features_upsampled, random_state=RANDOM_STATE)\n",
    "    target_upsampled = shuffle(target_upsampled, random_state=RANDOM_STATE)\n",
    "    \n",
    "    return features_upsampled, target_upsampled"
   ]
  },
  {
   "cell_type": "markdown",
   "metadata": {},
   "source": [
    "Вычисляем число объектов каждого класса, чтобы определить, во сколько раз нужно увеличить число объектов редкого класса"
   ]
  },
  {
   "cell_type": "code",
   "execution_count": 33,
   "metadata": {},
   "outputs": [
    {
     "data": {
      "text/plain": [
       "0    4804\n",
       "1    1196\n",
       "Name: Exited, dtype: int64"
      ]
     },
     "execution_count": 33,
     "metadata": {},
     "output_type": "execute_result"
    }
   ],
   "source": [
    "class_frequency = target_train.value_counts()\n",
    "class_frequency"
   ]
  },
  {
   "cell_type": "code",
   "execution_count": 34,
   "metadata": {},
   "outputs": [
    {
     "name": "stdout",
     "output_type": "stream",
     "text": [
      "(6000, 11) (6000,)\n",
      "(9588, 11) (9588,)\n"
     ]
    }
   ],
   "source": [
    "# увеличиваем количество объектов тренировочной выборки \n",
    "# и смотрим, как при этом изменятся размерности переменных.\n",
    "\n",
    "features_upsampled, target_upsampled = upsample(\n",
    "    features_train, \n",
    "    target_train, \n",
    "    round(class_frequency[0]/class_frequency[1])\n",
    ")\n",
    "\n",
    "print(features_train.shape, target_train.shape)\n",
    "print(features_upsampled.shape, target_upsampled.shape)"
   ]
  },
  {
   "cell_type": "code",
   "execution_count": 35,
   "metadata": {},
   "outputs": [
    {
     "data": {
      "text/plain": [
       "0    0.501043\n",
       "1    0.498957\n",
       "Name: Exited, dtype: float64"
      ]
     },
     "execution_count": 35,
     "metadata": {},
     "output_type": "execute_result"
    }
   ],
   "source": [
    "# посмотрим соотношение классов теперь\n",
    "target_upsampled.value_counts(normalize=True)"
   ]
  },
  {
   "cell_type": "markdown",
   "metadata": {},
   "source": [
    "Доли представителей разных классов практически сравнялись.\n",
    "\t\n",
    "Переходим к обучению модели на увеличенных данных."
   ]
  },
  {
   "cell_type": "code",
   "execution_count": 36,
   "metadata": {},
   "outputs": [
    {
     "name": "stdout",
     "output_type": "stream",
     "text": [
      "f1_score 0.607773851590106\n",
      "auc_roc:  0.8391768338787435\n"
     ]
    }
   ],
   "source": [
    "model = RandomForestClassifier(\n",
    "    n_estimators=20, \n",
    "    max_depth=12, \n",
    "    random_state=RANDOM_STATE\n",
    ")\n",
    "\n",
    "# обучаем модель\n",
    "model.fit(features_upsampled, target_upsampled)\n",
    "\n",
    "# формируем предсказания на валидационной выборке\n",
    "predictions = model.predict(features_valid)\n",
    "\n",
    "# вычисляем метрики F1, AUC-ROC\n",
    "# и сохраняем предсказания вероятностей класса 1 для построения ROC-кривой\n",
    "f_one_score = f1_score(target_valid, predictions)\n",
    "print('f1_score', f_one_score)\n",
    "\n",
    "probabilities_one_valid_up = model.predict_proba(features_valid)[:, 1]\n",
    "auc_roc = roc_auc_score(target_valid, probabilities_one_valid_up)\n",
    "print('auc_roc: ', auc_roc)"
   ]
  },
  {
   "cell_type": "markdown",
   "metadata": {},
   "source": [
    "Показатель метрики F1 повысился с 0,5997 до 0.6078 (это выше, чем при использовании гиперпараметров модели).\n",
    "\n",
    "Величина AUC-ROC повысилась в третьем знаке после запятой: с 0.8375 до 0.8392"
   ]
  },
  {
   "cell_type": "markdown",
   "metadata": {},
   "source": [
    "### Уменьшение выборки"
   ]
  },
  {
   "cell_type": "markdown",
   "metadata": {},
   "source": [
    "Теперь будем уменьшать количество представителей класса 0, чтобы уравнять из с представителями класса 1."
   ]
  },
  {
   "cell_type": "markdown",
   "metadata": {},
   "source": [
    "Напишем функцию, которая создает новые выборки данных для обучения так, что в них одинаковое количество представителей каждого класса."
   ]
  },
  {
   "cell_type": "code",
   "execution_count": 37,
   "metadata": {},
   "outputs": [],
   "source": [
    "def downsample(features, target, fraction):\n",
    "    # создаем вспомогательные переменные для каждого класса\n",
    "    features_zeros = features[target == 0]\n",
    "    features_ones = features[target == 1]\n",
    "    target_zeros = target[target == 0]\n",
    "    target_ones = target[target == 1]    \n",
    "\n",
    "    # уменьшаем с помощью sample число объектов более частого класса\n",
    "    features_downsampled = pd.concat(\n",
    "        [features_zeros.sample(frac=fraction, random_state=RANDOM_STATE)] + [features_ones]\n",
    "    )\n",
    "    target_downsampled = pd.concat(\n",
    "        [target_zeros.sample(frac=fraction, random_state=RANDOM_STATE)] + [target_ones])\n",
    "    \n",
    "    # перемешиваем выборки\n",
    "    features_downsampled = shuffle(\n",
    "        features_downsampled,\n",
    "        random_state=RANDOM_STATE\n",
    "    )\n",
    "    target_downsampled = shuffle(\n",
    "        target_downsampled,\n",
    "        random_state=RANDOM_STATE\n",
    "    )\n",
    "    \n",
    "    return features_downsampled, target_downsampled"
   ]
  },
  {
   "cell_type": "markdown",
   "metadata": {},
   "source": [
    "Наша цель – сделать данные для обучения модели такими, чтобы в них было поровну объектов каждого предсказываемого класса. Для того, чтобы рассчитать, какая часть объектов класса 0 должна остаться, используем ранее вычислкнное количество объектов каждого класса в тренировочной выборке, и передадим их отношение в нашу функцию."
   ]
  },
  {
   "cell_type": "code",
   "execution_count": 38,
   "metadata": {},
   "outputs": [
    {
     "data": {
      "text/plain": [
       "((2392, 11), (2392,))"
      ]
     },
     "execution_count": 38,
     "metadata": {},
     "output_type": "execute_result"
    }
   ],
   "source": [
    "features_downsampled, target_downsampled = downsample(\n",
    "    features_train, \n",
    "    target_train, \n",
    "    class_frequency[1]/class_frequency[0]\n",
    ")\n",
    "\n",
    "features_downsampled.shape, target_downsampled.shape"
   ]
  },
  {
   "cell_type": "code",
   "execution_count": 39,
   "metadata": {},
   "outputs": [
    {
     "data": {
      "text/plain": [
       "1    0.5\n",
       "0    0.5\n",
       "Name: Exited, dtype: float64"
      ]
     },
     "execution_count": 39,
     "metadata": {},
     "output_type": "execute_result"
    }
   ],
   "source": [
    "# посмотрим соотношение классов теперь\n",
    "target_downsampled.value_counts(normalize=True)"
   ]
  },
  {
   "cell_type": "markdown",
   "metadata": {},
   "source": [
    "Доли представителей разных классов сравнялись.\n",
    "\t\n",
    "Переходим к обучению модели на увеличенных данных."
   ]
  },
  {
   "cell_type": "code",
   "execution_count": 40,
   "metadata": {},
   "outputs": [
    {
     "name": "stdout",
     "output_type": "stream",
     "text": [
      "f1_score 0.5708989805375347\n",
      "auc_roc:  0.8292399845147865\n"
     ]
    }
   ],
   "source": [
    "model = RandomForestClassifier(\n",
    "    n_estimators=20, \n",
    "    max_depth=12, \n",
    "    random_state=RANDOM_STATE\n",
    ")\n",
    "\n",
    "# обучаем модель\n",
    "model.fit(features_downsampled, target_downsampled)\n",
    "\n",
    "# формируем предсказания на валидационной выборке\n",
    "predictions = model.predict(features_valid)\n",
    "\n",
    "# вычисляем метрики F1, AUC-ROC\n",
    "# и сохраняем предсказания вероятностей класса 1 для построения ROC-кривой\n",
    "f_one_score = f1_score(target_valid, predictions)\n",
    "print('f1_score', f_one_score)\n",
    "probabilities_one_valid_dwn = model.predict_proba(features_valid)[:, 1]\n",
    "auc_roc = roc_auc_score(target_valid, probabilities_one_valid_dwn)\n",
    "print('auc_roc: ', auc_roc)"
   ]
  },
  {
   "cell_type": "markdown",
   "metadata": {},
   "source": [
    "Показатель метрики F1 понизился с 0,5997 до 0.5709.\n",
    "\n",
    "Величина AUC-ROC тоже понизилась: с 0.8375 до 0.8292.\n",
    "    \n",
    "Скорее всего, это связано с резким уменьшением общего количества данных, использованных для обучения и вызвано слишком большим разрывом между двумя классами (почти в 4 раза). "
   ]
  },
  {
   "cell_type": "markdown",
   "metadata": {},
   "source": [
    "### ROC-кривые"
   ]
  },
  {
   "cell_type": "markdown",
   "metadata": {},
   "source": [
    "Для наглядного сравнения качества построенных моделей, построим для них и случайной модели на одном графике ROC-кривые. "
   ]
  },
  {
   "cell_type": "code",
   "execution_count": 41,
   "metadata": {},
   "outputs": [
    {
     "data": {
      "image/png": "[encoded data removed]",
      "text/plain": [
       "<Figure size 1200x800 with 1 Axes>"
      ]
     },
     "metadata": {},
     "output_type": "display_data"
    }
   ],
   "source": [
    "fpr_rf, tpr_rf, thresholds_rf = roc_curve(target_valid, probabilities_one_valid_rf)\n",
    "fpr_cw, tpr_cw, thresholds_cw = roc_curve(target_valid, probabilities_one_valid_cw)\n",
    "fpr_up, tpr_up, thresholds_up = roc_curve(target_valid, probabilities_one_valid_up)\n",
    "fpr_dwn, tpr_dwn, thresholds_dwn = roc_curve(target_valid, probabilities_one_valid_dwn)\n",
    "\n",
    "plt.figure(figsize=(12, 8))\n",
    "\n",
    "# строим графики\n",
    "plt.plot(fpr_rf, tpr_rf, c='r', label='RandomForest as it is')\n",
    "plt.plot(fpr_cw, tpr_cw, c='g', label='RandomForest classweight')\n",
    "plt.plot(fpr_up, tpr_up, c='b', label='RandomForest upsampled')\n",
    "plt.plot(fpr_dwn, tpr_dwn, c='c', label='RandomForest dowsampled')\n",
    "\n",
    "# ROC-кривая случайной модели (выглядит как прямая)\n",
    "plt.plot([0, 1], [0, 1], linestyle='--', label='Случайная модель')\n",
    "\n",
    "# устанавливаем границы осей от 0 до 1 \n",
    "plt.xlim([0.0, 1.0])\n",
    "plt.ylim([0.0, 1.0])\n",
    "\n",
    "# задаем подписи к осям \"False Positive Rate\" и \"True Positive Rate\" \n",
    "plt.xlabel(\"False Positive Rate\") \n",
    "plt.ylabel(\"True Positive Rate\")\n",
    "\n",
    "# выводим легенду и заголовок графика\n",
    "plt.legend()\n",
    "plt.title(\"ROC-кривая\");"
   ]
  },
  {
   "cell_type": "markdown",
   "metadata": {},
   "source": [
    "На графике видно, что прирост величины AUC-ROC дали применение параметра class_weight со значением balanced и увеличение выборки (с применением фкункции upsampling)."
   ]
  },
  {
   "cell_type": "markdown",
   "metadata": {},
   "source": [
    "### Выводы"
   ]
  },
  {
   "cell_type": "markdown",
   "metadata": {},
   "source": [
    "Так как при исследовании дисбаланса классов, мы установили, что объектов класса 0 почти в 4 раза больше, чем объектов класса 1, то, для улучшения качества модели, мы провели ее обучение с учетом дисбаланса классов. Было исследовано три подхода:\n",
    "1. параметр class_weight, доступный нам среди стандартных гиперпараметров модели,\n",
    "1. увеличение выборки (upsampling)\n",
    "1. уменьшение выборки (dowsampling)\n",
    "\n",
    "Из этих методов прирост показателя F1-меры и величины AUC-ROC дали применение параметра class_weight со значением balanced и увеличение выборки (с применением техники upsampling).\n",
    "\n",
    "Лучший результат получен при увеличении выборки (upsampling). Показатель метрики F1 повысился с 0.5997 у модели, обученной без учета дисбаланса, до 0.6078. При этом величина AUC-ROC также повысилась: с 0.8375 до 0.8392.\n",
    "\n",
    "Значит, для окончательной проверки на тестовой выборке мы будем использовать случайный лес со следующими значениями гиперпараметров:\n",
    "- количество деревьев 20\n",
    "- глубина 12\n",
    "- class_weight со значением balanced\n",
    "\n",
    "Перед обучением модели, применим к данным функцию увеличения выборки (upsampling)."
   ]
  },
  {
   "cell_type": "markdown",
   "metadata": {},
   "source": [
    "## Тестирование модели"
   ]
  },
  {
   "cell_type": "markdown",
   "metadata": {},
   "source": [
    "Переходим к проверке качества модели на тестовой выборке. Настроим модель с учетом результатов исследования."
   ]
  },
  {
   "cell_type": "markdown",
   "metadata": {},
   "source": [
    "### Обучение модели"
   ]
  },
  {
   "cell_type": "markdown",
   "metadata": {},
   "source": [
    "Так как мы будем проводить проверку качества модели на тестовых данных, то валидационная выборка нам больше не нужна. Значит, мы можем использовать ее вместе с тренировочными данными для обучения модели."
   ]
  },
  {
   "cell_type": "code",
   "execution_count": 42,
   "metadata": {},
   "outputs": [
    {
     "data": {
      "text/plain": [
       "True"
      ]
     },
     "execution_count": 42,
     "metadata": {},
     "output_type": "execute_result"
    }
   ],
   "source": [
    "# объединяем обучающий и валидационный наборы обучающих признаков\n",
    "features_train_new = pd.concat([features_train, features_valid])\n",
    "features_train.shape[0] + features_valid.shape[0] == features_train_new.shape[0]"
   ]
  },
  {
   "cell_type": "code",
   "execution_count": 43,
   "metadata": {},
   "outputs": [
    {
     "data": {
      "text/plain": [
       "True"
      ]
     },
     "execution_count": 43,
     "metadata": {},
     "output_type": "execute_result"
    }
   ],
   "source": [
    "# объединяем обучающий и валидационный наборы целевых признаков\n",
    "target_train_new = pd.concat([target_train, target_valid])\n",
    "target_train.shape[0] + target_valid.shape[0] == target_train_new.shape[0]"
   ]
  },
  {
   "cell_type": "markdown",
   "metadata": {},
   "source": [
    "Настроим баланс классов в новых обучающих данных с помощью функции upsampling."
   ]
  },
  {
   "cell_type": "code",
   "execution_count": 44,
   "metadata": {},
   "outputs": [
    {
     "data": {
      "text/plain": [
       "0    6386\n",
       "1    1614\n",
       "Name: Exited, dtype: int64"
      ]
     },
     "execution_count": 44,
     "metadata": {},
     "output_type": "execute_result"
    }
   ],
   "source": [
    "# Вычисляем число объектов каждого класса\n",
    "class_frequency = target_train_new.value_counts()\n",
    "class_frequency"
   ]
  },
  {
   "cell_type": "code",
   "execution_count": 45,
   "metadata": {},
   "outputs": [
    {
     "name": "stdout",
     "output_type": "stream",
     "text": [
      "(8000, 11) (8000,)\n",
      "(12842, 11) (12842,)\n"
     ]
    }
   ],
   "source": [
    "# преобразуем данные для увеличения доли объектов класса 1\n",
    "features_upsampled, target_upsampled = upsample(\n",
    "    features_train_new, \n",
    "    target_train_new, \n",
    "    round(class_frequency[0]/class_frequency[1])\n",
    ")\n",
    "\n",
    "# сравним размерности до и после преобразования\n",
    "print(features_train_new.shape, target_train_new.shape)\n",
    "print(features_upsampled.shape, target_upsampled.shape)"
   ]
  },
  {
   "cell_type": "markdown",
   "metadata": {},
   "source": [
    "Теперь обучим на этих данных модель случайного леса, в которой 20 деревьев максимальной глубины 12."
   ]
  },
  {
   "cell_type": "code",
   "execution_count": 53,
   "metadata": {},
   "outputs": [
    {
     "data": {
      "text/html": [
       "<style>#sk-container-id-3 {color: black;background-color: white;}#sk-container-id-3 pre{padding: 0;}#sk-container-id-3 div.sk-toggleable {background-color: white;}#sk-container-id-3 label.sk-toggleable__label {cursor: pointer;display: block;width: 100%;margin-bottom: 0;padding: 0.3em;box-sizing: border-box;text-align: center;}#sk-container-id-3 label.sk-toggleable__label-arrow:before {content: \"▸\";float: left;margin-right: 0.25em;color: #696969;}#sk-container-id-3 label.sk-toggleable__label-arrow:hover:before {color: black;}#sk-container-id-3 div.sk-estimator:hover label.sk-toggleable__label-arrow:before {color: black;}#sk-container-id-3 div.sk-toggleable__content {max-height: 0;max-width: 0;overflow: hidden;text-align: left;background-color: #f0f8ff;}#sk-container-id-3 div.sk-toggleable__content pre {margin: 0.2em;color: black;border-radius: 0.25em;background-color: #f0f8ff;}#sk-container-id-3 input.sk-toggleable__control:checked~div.sk-toggleable__content {max-height: 200px;max-width: 100%;overflow: auto;}#sk-container-id-3 input.sk-toggleable__control:checked~label.sk-toggleable__label-arrow:before {content: \"▾\";}#sk-container-id-3 div.sk-estimator input.sk-toggleable__control:checked~label.sk-toggleable__label {background-color: #d4ebff;}#sk-container-id-3 div.sk-label input.sk-toggleable__control:checked~label.sk-toggleable__label {background-color: #d4ebff;}#sk-container-id-3 input.sk-hidden--visually {border: 0;clip: rect(1px 1px 1px 1px);clip: rect(1px, 1px, 1px, 1px);height: 1px;margin: -1px;overflow: hidden;padding: 0;position: absolute;width: 1px;}#sk-container-id-3 div.sk-estimator {font-family: monospace;background-color: #f0f8ff;border: 1px dotted black;border-radius: 0.25em;box-sizing: border-box;margin-bottom: 0.5em;}#sk-container-id-3 div.sk-estimator:hover {background-color: #d4ebff;}#sk-container-id-3 div.sk-parallel-item::after {content: \"\";width: 100%;border-bottom: 1px solid gray;flex-grow: 1;}#sk-container-id-3 div.sk-label:hover label.sk-toggleable__label {background-color: #d4ebff;}#sk-container-id-3 div.sk-serial::before {content: \"\";position: absolute;border-left: 1px solid gray;box-sizing: border-box;top: 0;bottom: 0;left: 50%;z-index: 0;}#sk-container-id-3 div.sk-serial {display: flex;flex-direction: column;align-items: center;background-color: white;padding-right: 0.2em;padding-left: 0.2em;position: relative;}#sk-container-id-3 div.sk-item {position: relative;z-index: 1;}#sk-container-id-3 div.sk-parallel {display: flex;align-items: stretch;justify-content: center;background-color: white;position: relative;}#sk-container-id-3 div.sk-item::before, #sk-container-id-3 div.sk-parallel-item::before {content: \"\";position: absolute;border-left: 1px solid gray;box-sizing: border-box;top: 0;bottom: 0;left: 50%;z-index: -1;}#sk-container-id-3 div.sk-parallel-item {display: flex;flex-direction: column;z-index: 1;position: relative;background-color: white;}#sk-container-id-3 div.sk-parallel-item:first-child::after {align-self: flex-end;width: 50%;}#sk-container-id-3 div.sk-parallel-item:last-child::after {align-self: flex-start;width: 50%;}#sk-container-id-3 div.sk-parallel-item:only-child::after {width: 0;}#sk-container-id-3 div.sk-dashed-wrapped {border: 1px dashed gray;margin: 0 0.4em 0.5em 0.4em;box-sizing: border-box;padding-bottom: 0.4em;background-color: white;}#sk-container-id-3 div.sk-label label {font-family: monospace;font-weight: bold;display: inline-block;line-height: 1.2em;}#sk-container-id-3 div.sk-label-container {text-align: center;}#sk-container-id-3 div.sk-container {/* jupyter's `normalize.less` sets `[hidden] { display: none; }` but bootstrap.min.css set `[hidden] { display: none !important; }` so we also need the `!important` here to be able to override the default hidden behavior on the sphinx rendered scikit-learn.org. See: https://github.com/scikit-learn/scikit-learn/issues/21755 */display: inline-block !important;position: relative;}#sk-container-id-3 div.sk-text-repr-fallback {display: none;}</style><div id=\"sk-container-id-3\" class=\"sk-top-container\"><div class=\"sk-text-repr-fallback\"><pre>RandomForestClassifier(class_weight=&#x27;balanced&#x27;, max_depth=12, n_estimators=20,\n",
       "                       random_state=12345)</pre><b>In a Jupyter environment, please rerun this cell to show the HTML representation or trust the notebook. <br />On GitHub, the HTML representation is unable to render, please try loading this page with nbviewer.org.</b></div><div class=\"sk-container\" hidden><div class=\"sk-item\"><div class=\"sk-estimator sk-toggleable\"><input class=\"sk-toggleable__control sk-hidden--visually\" id=\"sk-estimator-id-3\" type=\"checkbox\" checked><label for=\"sk-estimator-id-3\" class=\"sk-toggleable__label sk-toggleable__label-arrow\">RandomForestClassifier</label><div class=\"sk-toggleable__content\"><pre>RandomForestClassifier(class_weight=&#x27;balanced&#x27;, max_depth=12, n_estimators=20,\n",
       "                       random_state=12345)</pre></div></div></div></div></div>"
      ],
      "text/plain": [
       "RandomForestClassifier(class_weight='balanced', max_depth=12, n_estimators=20,\n",
       "                       random_state=12345)"
      ]
     },
     "execution_count": 53,
     "metadata": {},
     "output_type": "execute_result"
    }
   ],
   "source": [
    "model = RandomForestClassifier(\n",
    "    n_estimators=20, \n",
    "    max_depth=12, \n",
    "    class_weight='balanced',\n",
    "    random_state=RANDOM_STATE\n",
    ")\n",
    "\n",
    "# обучаем модель\n",
    "model.fit(features_upsampled, target_upsampled)"
   ]
  },
  {
   "cell_type": "markdown",
   "metadata": {},
   "source": [
    "### Подготовка набора характеристик для предсказаний "
   ]
  },
  {
   "cell_type": "markdown",
   "metadata": {},
   "source": [
    "На этапе исследования задачи мы производили масштабирование характеристик, которые модель использует для предсказаний. Следовательно, наш тестовый набор характеристик тоже должен быть приведен к тому виду, в котором модель привыкла видеть данные."
   ]
  },
  {
   "cell_type": "code",
   "execution_count": 47,
   "metadata": {},
   "outputs": [
    {
     "data": {
      "text/html": [
       "<div>\n",
       "<style scoped>\n",
       "    .dataframe tbody tr th:only-of-type {\n",
       "        vertical-align: middle;\n",
       "    }\n",
       "\n",
       "    .dataframe tbody tr th {\n",
       "        vertical-align: top;\n",
       "    }\n",
       "\n",
       "    .dataframe thead th {\n",
       "        text-align: right;\n",
       "    }\n",
       "</style>\n",
       "<table border=\"1\" class=\"dataframe\">\n",
       "  <thead>\n",
       "    <tr style=\"text-align: right;\">\n",
       "      <th></th>\n",
       "      <th>CreditScore</th>\n",
       "      <th>Age</th>\n",
       "      <th>Tenure</th>\n",
       "      <th>Balance</th>\n",
       "      <th>EstimatedSalary</th>\n",
       "    </tr>\n",
       "  </thead>\n",
       "  <tbody>\n",
       "    <tr>\n",
       "      <th>count</th>\n",
       "      <td>2000.000000</td>\n",
       "      <td>2000.000000</td>\n",
       "      <td>2000.000000</td>\n",
       "      <td>2000.000000</td>\n",
       "      <td>2000.000000</td>\n",
       "    </tr>\n",
       "    <tr>\n",
       "      <th>mean</th>\n",
       "      <td>648.375000</td>\n",
       "      <td>38.891000</td>\n",
       "      <td>5.065000</td>\n",
       "      <td>75239.376955</td>\n",
       "      <td>100831.310875</td>\n",
       "    </tr>\n",
       "    <tr>\n",
       "      <th>std</th>\n",
       "      <td>97.766751</td>\n",
       "      <td>10.114261</td>\n",
       "      <td>2.775541</td>\n",
       "      <td>62948.812792</td>\n",
       "      <td>56386.212880</td>\n",
       "    </tr>\n",
       "    <tr>\n",
       "      <th>min</th>\n",
       "      <td>350.000000</td>\n",
       "      <td>18.000000</td>\n",
       "      <td>0.000000</td>\n",
       "      <td>0.000000</td>\n",
       "      <td>142.810000</td>\n",
       "    </tr>\n",
       "    <tr>\n",
       "      <th>25%</th>\n",
       "      <td>579.000000</td>\n",
       "      <td>32.000000</td>\n",
       "      <td>3.000000</td>\n",
       "      <td>0.000000</td>\n",
       "      <td>55072.777500</td>\n",
       "    </tr>\n",
       "    <tr>\n",
       "      <th>50%</th>\n",
       "      <td>648.000000</td>\n",
       "      <td>37.000000</td>\n",
       "      <td>5.000000</td>\n",
       "      <td>96367.740000</td>\n",
       "      <td>100583.050000</td>\n",
       "    </tr>\n",
       "    <tr>\n",
       "      <th>75%</th>\n",
       "      <td>719.000000</td>\n",
       "      <td>44.000000</td>\n",
       "      <td>7.000000</td>\n",
       "      <td>127206.852500</td>\n",
       "      <td>148902.897500</td>\n",
       "    </tr>\n",
       "    <tr>\n",
       "      <th>max</th>\n",
       "      <td>850.000000</td>\n",
       "      <td>81.000000</td>\n",
       "      <td>10.000000</td>\n",
       "      <td>221532.800000</td>\n",
       "      <td>199992.480000</td>\n",
       "    </tr>\n",
       "  </tbody>\n",
       "</table>\n",
       "</div>"
      ],
      "text/plain": [
       "       CreditScore          Age       Tenure        Balance  EstimatedSalary\n",
       "count  2000.000000  2000.000000  2000.000000    2000.000000      2000.000000\n",
       "mean    648.375000    38.891000     5.065000   75239.376955    100831.310875\n",
       "std      97.766751    10.114261     2.775541   62948.812792     56386.212880\n",
       "min     350.000000    18.000000     0.000000       0.000000       142.810000\n",
       "25%     579.000000    32.000000     3.000000       0.000000     55072.777500\n",
       "50%     648.000000    37.000000     5.000000   96367.740000    100583.050000\n",
       "75%     719.000000    44.000000     7.000000  127206.852500    148902.897500\n",
       "max     850.000000    81.000000    10.000000  221532.800000    199992.480000"
      ]
     },
     "execution_count": 47,
     "metadata": {},
     "output_type": "execute_result"
    }
   ],
   "source": [
    "# разброс числовых характеристик до преобразования\n",
    "features_test[numeric_features].describe()"
   ]
  },
  {
   "cell_type": "code",
   "execution_count": 48,
   "metadata": {},
   "outputs": [],
   "source": [
    "# будем использовать для масштабирования метод стандартизации,\n",
    "# настроенный ранее\n",
    "features_test[numeric_features] = scaler.transform(features_test[numeric_features])"
   ]
  },
  {
   "cell_type": "code",
   "execution_count": 49,
   "metadata": {},
   "outputs": [
    {
     "data": {
      "text/html": [
       "<div>\n",
       "<style scoped>\n",
       "    .dataframe tbody tr th:only-of-type {\n",
       "        vertical-align: middle;\n",
       "    }\n",
       "\n",
       "    .dataframe tbody tr th {\n",
       "        vertical-align: top;\n",
       "    }\n",
       "\n",
       "    .dataframe thead th {\n",
       "        text-align: right;\n",
       "    }\n",
       "</style>\n",
       "<table border=\"1\" class=\"dataframe\">\n",
       "  <thead>\n",
       "    <tr style=\"text-align: right;\">\n",
       "      <th></th>\n",
       "      <th>CreditScore</th>\n",
       "      <th>Age</th>\n",
       "      <th>Tenure</th>\n",
       "      <th>Balance</th>\n",
       "      <th>EstimatedSalary</th>\n",
       "    </tr>\n",
       "  </thead>\n",
       "  <tbody>\n",
       "    <tr>\n",
       "      <th>count</th>\n",
       "      <td>2000.000000</td>\n",
       "      <td>2000.000000</td>\n",
       "      <td>2000.000000</td>\n",
       "      <td>2000.000000</td>\n",
       "      <td>2000.000000</td>\n",
       "    </tr>\n",
       "    <tr>\n",
       "      <th>mean</th>\n",
       "      <td>-0.041686</td>\n",
       "      <td>-0.003923</td>\n",
       "      <td>0.013953</td>\n",
       "      <td>-0.021850</td>\n",
       "      <td>0.023107</td>\n",
       "    </tr>\n",
       "    <tr>\n",
       "      <th>std</th>\n",
       "      <td>1.015290</td>\n",
       "      <td>0.959877</td>\n",
       "      <td>1.010282</td>\n",
       "      <td>1.013441</td>\n",
       "      <td>0.976558</td>\n",
       "    </tr>\n",
       "    <tr>\n",
       "      <th>min</th>\n",
       "      <td>-3.140255</td>\n",
       "      <td>-1.986549</td>\n",
       "      <td>-1.829679</td>\n",
       "      <td>-1.233163</td>\n",
       "      <td>-1.720726</td>\n",
       "    </tr>\n",
       "    <tr>\n",
       "      <th>25%</th>\n",
       "      <td>-0.762133</td>\n",
       "      <td>-0.657902</td>\n",
       "      <td>-0.737696</td>\n",
       "      <td>-1.233163</td>\n",
       "      <td>-0.769389</td>\n",
       "    </tr>\n",
       "    <tr>\n",
       "      <th>50%</th>\n",
       "      <td>-0.045581</td>\n",
       "      <td>-0.183385</td>\n",
       "      <td>-0.009707</td>\n",
       "      <td>0.318305</td>\n",
       "      <td>0.018807</td>\n",
       "    </tr>\n",
       "    <tr>\n",
       "      <th>75%</th>\n",
       "      <td>0.691741</td>\n",
       "      <td>0.480939</td>\n",
       "      <td>0.718283</td>\n",
       "      <td>0.814798</td>\n",
       "      <td>0.855662</td>\n",
       "    </tr>\n",
       "    <tr>\n",
       "      <th>max</th>\n",
       "      <td>2.052152</td>\n",
       "      <td>3.992363</td>\n",
       "      <td>1.810266</td>\n",
       "      <td>2.333394</td>\n",
       "      <td>1.740487</td>\n",
       "    </tr>\n",
       "  </tbody>\n",
       "</table>\n",
       "</div>"
      ],
      "text/plain": [
       "       CreditScore          Age       Tenure      Balance  EstimatedSalary\n",
       "count  2000.000000  2000.000000  2000.000000  2000.000000      2000.000000\n",
       "mean     -0.041686    -0.003923     0.013953    -0.021850         0.023107\n",
       "std       1.015290     0.959877     1.010282     1.013441         0.976558\n",
       "min      -3.140255    -1.986549    -1.829679    -1.233163        -1.720726\n",
       "25%      -0.762133    -0.657902    -0.737696    -1.233163        -0.769389\n",
       "50%      -0.045581    -0.183385    -0.009707     0.318305         0.018807\n",
       "75%       0.691741     0.480939     0.718283     0.814798         0.855662\n",
       "max       2.052152     3.992363     1.810266     2.333394         1.740487"
      ]
     },
     "execution_count": 49,
     "metadata": {},
     "output_type": "execute_result"
    }
   ],
   "source": [
    "# разброс числовых характеристик после преобразования\n",
    "features_test[numeric_features].describe()"
   ]
  },
  {
   "cell_type": "markdown",
   "metadata": {},
   "source": [
    "### Оценка качества модели"
   ]
  },
  {
   "cell_type": "code",
   "execution_count": 50,
   "metadata": {},
   "outputs": [
    {
     "name": "stdout",
     "output_type": "stream",
     "text": [
      "f1_score 0.5990990990990991\n",
      "auc_roc:  0.8491884671946465\n"
     ]
    }
   ],
   "source": [
    "# формируем предсказания на тестовой выборке\n",
    "predictions = model.predict(features_test)\n",
    "\n",
    "# вычисляем метрики F1, AUC-ROC\n",
    "# и сохраняем предсказания вероятностей класса 1 для построения ROC-кривой\n",
    "f_one_score = f1_score(target_test, predictions)\n",
    "print('f1_score', f_one_score)\n",
    "\n",
    "probabilities_one_test = model.predict_proba(features_test)[:, 1]\n",
    "auc_roc = roc_auc_score(target_test, probabilities_one_test)\n",
    "print('auc_roc: ', auc_roc)"
   ]
  },
  {
   "cell_type": "markdown",
   "metadata": {},
   "source": [
    "Для наглядности оценок качества построенной модели, построим для нее и случайной модели ROC-кривые в одной системе координат."
   ]
  },
  {
   "cell_type": "code",
   "execution_count": 51,
   "metadata": {},
   "outputs": [
    {
     "data": {
      "image/png": "[encoded data removed]",
      "text/plain": [
       "<Figure size 1200x800 with 1 Axes>"
      ]
     },
     "metadata": {},
     "output_type": "display_data"
    }
   ],
   "source": [
    "fpr_test, tpr_test, thresholds_test = roc_curve(target_test, probabilities_one_test)\n",
    "\n",
    "plt.figure(figsize=(12, 8))\n",
    "\n",
    "# строим графики\n",
    "plt.plot(fpr_test, tpr_test, c='r', label='RandomForest')\n",
    "\n",
    "# ROC-кривая случайной модели (выглядит как прямая)\n",
    "plt.plot([0, 1], [0, 1], linestyle='--', label='Случайная модель')\n",
    "\n",
    "# устанавливаем границы осей от 0 до 1 \n",
    "plt.xlim([0.0, 1.0])\n",
    "plt.ylim([0.0, 1.0])\n",
    "\n",
    "# задаем подписи к осям \"False Positive Rate\" и \"True Positive Rate\" \n",
    "plt.xlabel(\"False Positive Rate\") \n",
    "plt.ylabel(\"True Positive Rate\")\n",
    "\n",
    "# выводим легенду и заголовок графика\n",
    "plt.legend()\n",
    "plt.title(\"ROC-кривая\");"
   ]
  },
  {
   "cell_type": "markdown",
   "metadata": {},
   "source": [
    "ROC-кривая проходит выше графика случайной модели и стремится к точке (0, 1), что говорит о высоком качестве модели."
   ]
  },
  {
   "cell_type": "markdown",
   "metadata": {},
   "source": [
    "### Вывод"
   ]
  },
  {
   "cell_type": "markdown",
   "metadata": {},
   "source": [
    "Наша модель показала хорошие результаты. ROC-кривая проходит выше графика случайной модели и является достаточно крутой, что говорит о высоком качестве модели.\n",
    "На тестовой выборке показатели метрик:\n",
    "    \n",
    "F1: 0.6209 \n",
    "\n",
    "AUC_ROC:  0.8522\n",
    "    \n",
    "Это выше результатов, полученных ранее на валидационных данных (F1: 0.6078, AUC_ROC:  0.8392)\n"
   ]
  },
  {
   "cell_type": "markdown",
   "metadata": {},
   "source": [
    "## Общий вывод исследования"
   ]
  },
  {
   "cell_type": "markdown",
   "metadata": {},
   "source": [
    "\n",
    "Нам предоставлены данные о поведении клиентов и расторжении договоров с банком. В датасете содержатся данные о 10 000 клиентах банка. Нужно спрогнозировать, уйдёт клиент из банка в ближайшее время или нет.\n",
    "\n",
    "Общее описание клиентов банка:\n",
    "Большинство клиентов банка имеет кредитный рейтинг от 600 до 700, возраст от 30 до 40 лет, баланс на счете - меньше 25000, используют не больше 2х продуктов банка. Клиентов банка, имеющих статус активности 1 почти столько же, сколько имеющих статус 0. Клиентов, у которых есть кредитная карта почти в 2 раза больше, чем тех, у которых ее нет. Группы клиентов с разным уровнем дохода представлены в данных одинаково. Количество лет, в течение которых клиент пользуется услугами банка, колеблется от 0 до 10. Больше всего клиентов в группах «10 лет» и «меньше 1 года».\n",
    "\n",
    "За представленный в данных период около 20% клиентов отказались от услуг банка.\n",
    "\n",
    "Обработка данных:\n",
    "Мы обработали пропуски, содержащиеся в столбце 'Tenure', заполнив их медианным значением. Столбцы с категориальными характеристиками (полом и страной проживания) преобразовали в численные с помощью техники прямого кодирования (One-Hot Encoding). Провели масштабирование числовых признаков с помощью структуры стандартизации данных StandardScaler.\n",
    "\n",
    "В имеющихся данных наблюдается дисбаланс классов. Класс 0 (клиент продолжает сотрудничать с банком) встречается почти в 4 раза чаще, чем класс 1 (клиент от услуг банка отказался).\n",
    "\n",
    "В ходе исследования задачи мы пробовали три модели: логистической регрессии, дерева решений и случайного леса. Подбирали гиперпараметры моделей на обучающей выборке и проверяли качество на валидационной. Для борьбы с негативным влиянием дисбаланса классов на качество модели мы пробовали изменять настройки гиперпараметра class_weight, увеличение в выборке числа примеров более редкого класса и уменьшение числа примеров более частого класса.\n",
    "Для проверки качества модели вы вычисляли оценки F1 и AUC-ROC, а также строили графики ROC-кривых.\n",
    "\n",
    "Самые лучшие результаты показала модель случайного леса со следующими значениями гиперпараметров:\n",
    "- количество деревьев 20\n",
    "- глубина 12\n",
    "- class_weight со значением balanced\n",
    "\n",
    "Увеличение в выборке числа примеров более редкого класса с помощью техники upsampling также способствует повышению качества модели.\n",
    "\n",
    "Основные результаты вычисления метрик модели:\n",
    "\n",
    "    При обучении модели случайного леса без учета дисбаланса классов на валидационной выборке показатель метрики F1: 0.5997. Величина AUC-ROC: 0.8375.\n",
    "\n",
    "    При обучении модели случайного леса с учетом дисбаланса классов на валидационной выборке показатель метрики F1: 0.6078. Величина AUC-ROC: 0.8392\n",
    "\n",
    "    При обучении модели случайного леса с учетом всех результатов исследования на тестовой выборке показатель метрики F1: 0.6209. Величина AUC-ROC: 0.8522\n"
   ]
  },
  {
   "cell_type": "code",
   "execution_count": null,
   "metadata": {},
   "outputs": [],
   "source": []
  },
  {
   "cell_type": "code",
   "execution_count": null,
   "metadata": {},
   "outputs": [],
   "source": []
  }
 ],
 "metadata": {
  "ExecuteTimeLog": [
   {
    "duration": 53,
    "start_time": "2023-03-18T17:39:28.909Z"
   },
   {
    "duration": 412,
    "start_time": "2023-03-18T17:40:34.716Z"
   },
   {
    "duration": 174,
    "start_time": "2023-03-18T17:40:39.628Z"
   },
   {
    "duration": 59,
    "start_time": "2023-03-18T17:40:48.162Z"
   },
   {
    "duration": 61,
    "start_time": "2023-03-18T17:41:57.949Z"
   },
   {
    "duration": 20,
    "start_time": "2023-03-18T17:42:08.420Z"
   },
   {
    "duration": 13,
    "start_time": "2023-03-18T17:42:14.811Z"
   },
   {
    "duration": 6,
    "start_time": "2023-03-18T17:43:28.030Z"
   },
   {
    "duration": 8,
    "start_time": "2023-03-18T17:44:28.710Z"
   },
   {
    "duration": 31,
    "start_time": "2023-03-18T17:44:33.943Z"
   },
   {
    "duration": 5,
    "start_time": "2023-03-18T17:44:36.213Z"
   },
   {
    "duration": 8,
    "start_time": "2023-03-18T17:58:29.367Z"
   },
   {
    "duration": 4,
    "start_time": "2023-03-18T17:58:32.215Z"
   },
   {
    "duration": 15,
    "start_time": "2023-03-18T17:58:58.535Z"
   },
   {
    "duration": 8,
    "start_time": "2023-03-18T17:59:09.585Z"
   },
   {
    "duration": 12,
    "start_time": "2023-03-18T17:59:17.695Z"
   },
   {
    "duration": 17,
    "start_time": "2023-03-18T17:59:28.284Z"
   },
   {
    "duration": 12,
    "start_time": "2023-03-18T17:59:45.298Z"
   },
   {
    "duration": 13,
    "start_time": "2023-03-18T17:59:57.301Z"
   },
   {
    "duration": 15,
    "start_time": "2023-03-18T18:00:07.099Z"
   },
   {
    "duration": 49,
    "start_time": "2023-03-18T18:00:34.451Z"
   },
   {
    "duration": 4,
    "start_time": "2023-03-18T18:00:43.900Z"
   },
   {
    "duration": 11,
    "start_time": "2023-03-18T18:00:46.048Z"
   },
   {
    "duration": 420,
    "start_time": "2023-03-19T08:12:07.432Z"
   },
   {
    "duration": 188,
    "start_time": "2023-03-19T08:14:21.949Z"
   },
   {
    "duration": 74,
    "start_time": "2023-03-19T08:15:54.712Z"
   },
   {
    "duration": 10,
    "start_time": "2023-03-19T08:16:03.335Z"
   },
   {
    "duration": 6,
    "start_time": "2023-03-19T08:16:41.952Z"
   },
   {
    "duration": 14,
    "start_time": "2023-03-19T08:18:17.115Z"
   },
   {
    "duration": 12,
    "start_time": "2023-03-19T08:18:43.611Z"
   },
   {
    "duration": 3,
    "start_time": "2023-03-19T08:31:50.328Z"
   },
   {
    "duration": 50,
    "start_time": "2023-03-19T08:31:54.426Z"
   },
   {
    "duration": 17,
    "start_time": "2023-03-19T08:31:57.809Z"
   },
   {
    "duration": 4,
    "start_time": "2023-03-19T08:32:01.919Z"
   },
   {
    "duration": 5,
    "start_time": "2023-03-19T08:32:03.907Z"
   },
   {
    "duration": 5,
    "start_time": "2023-03-19T08:32:05.150Z"
   },
   {
    "duration": 9,
    "start_time": "2023-03-19T08:32:07.908Z"
   },
   {
    "duration": 10,
    "start_time": "2023-03-19T08:32:11.147Z"
   },
   {
    "duration": 11,
    "start_time": "2023-03-19T08:32:29.656Z"
   },
   {
    "duration": 16,
    "start_time": "2023-03-19T08:32:55.249Z"
   },
   {
    "duration": 6,
    "start_time": "2023-03-19T08:33:13.449Z"
   },
   {
    "duration": 15,
    "start_time": "2023-03-19T08:33:27.420Z"
   },
   {
    "duration": 9,
    "start_time": "2023-03-19T08:35:05.361Z"
   },
   {
    "duration": 48,
    "start_time": "2023-03-19T08:35:25.946Z"
   },
   {
    "duration": 12,
    "start_time": "2023-03-19T08:35:38.024Z"
   },
   {
    "duration": 8,
    "start_time": "2023-03-19T08:35:49.213Z"
   },
   {
    "duration": 8,
    "start_time": "2023-03-19T08:37:57.631Z"
   },
   {
    "duration": 1380,
    "start_time": "2023-03-19T08:38:22.397Z"
   },
   {
    "duration": 29,
    "start_time": "2023-03-19T08:38:37.293Z"
   },
   {
    "duration": 901,
    "start_time": "2023-03-19T08:38:40.444Z"
   },
   {
    "duration": 1333,
    "start_time": "2023-03-19T08:38:52.250Z"
   },
   {
    "duration": 3,
    "start_time": "2023-03-19T08:52:40.845Z"
   },
   {
    "duration": 69,
    "start_time": "2023-03-19T09:49:00.139Z"
   },
   {
    "duration": 4,
    "start_time": "2023-03-19T10:03:44.875Z"
   },
   {
    "duration": 15,
    "start_time": "2023-03-19T10:03:54.089Z"
   },
   {
    "duration": 15,
    "start_time": "2023-03-19T10:04:12.791Z"
   },
   {
    "duration": 8,
    "start_time": "2023-03-19T10:04:25.064Z"
   },
   {
    "duration": 7,
    "start_time": "2023-03-19T10:05:00.671Z"
   },
   {
    "duration": 13,
    "start_time": "2023-03-19T10:05:37.705Z"
   },
   {
    "duration": 47,
    "start_time": "2023-03-19T10:14:44.400Z"
   },
   {
    "duration": 16,
    "start_time": "2023-03-19T10:14:50.062Z"
   },
   {
    "duration": 736,
    "start_time": "2023-03-19T10:15:54.926Z"
   },
   {
    "duration": 13,
    "start_time": "2023-03-19T10:16:19.614Z"
   },
   {
    "duration": 50,
    "start_time": "2023-03-19T10:16:34.928Z"
   },
   {
    "duration": 13,
    "start_time": "2023-03-19T10:16:49.263Z"
   },
   {
    "duration": 4,
    "start_time": "2023-03-19T10:16:55.058Z"
   },
   {
    "duration": 5,
    "start_time": "2023-03-19T10:22:53.530Z"
   },
   {
    "duration": 3,
    "start_time": "2023-03-19T10:23:56.262Z"
   },
   {
    "duration": 56,
    "start_time": "2023-03-19T10:23:56.268Z"
   },
   {
    "duration": 13,
    "start_time": "2023-03-19T10:23:56.326Z"
   },
   {
    "duration": 1335,
    "start_time": "2023-03-19T10:23:56.341Z"
   },
   {
    "duration": 14,
    "start_time": "2023-03-19T10:23:57.678Z"
   },
   {
    "duration": 5,
    "start_time": "2023-03-19T10:23:57.694Z"
   },
   {
    "duration": 5,
    "start_time": "2023-03-19T10:23:57.700Z"
   },
   {
    "duration": 4,
    "start_time": "2023-03-19T10:23:57.707Z"
   },
   {
    "duration": 6,
    "start_time": "2023-03-19T10:23:57.713Z"
   },
   {
    "duration": 10,
    "start_time": "2023-03-19T10:23:57.720Z"
   },
   {
    "duration": 13,
    "start_time": "2023-03-19T10:23:57.732Z"
   },
   {
    "duration": 14,
    "start_time": "2023-03-19T10:23:57.790Z"
   },
   {
    "duration": 13,
    "start_time": "2023-03-19T10:23:57.806Z"
   },
   {
    "duration": 15,
    "start_time": "2023-03-19T10:23:57.821Z"
   },
   {
    "duration": 14,
    "start_time": "2023-03-19T10:24:39.164Z"
   },
   {
    "duration": 1060,
    "start_time": "2023-03-19T16:21:58.784Z"
   },
   {
    "duration": 107,
    "start_time": "2023-03-19T16:22:03.845Z"
   },
   {
    "duration": 19,
    "start_time": "2023-03-19T16:22:03.955Z"
   },
   {
    "duration": 1839,
    "start_time": "2023-03-19T16:22:03.975Z"
   },
   {
    "duration": 6,
    "start_time": "2023-03-19T16:22:05.817Z"
   },
   {
    "duration": 15,
    "start_time": "2023-03-19T16:22:05.826Z"
   },
   {
    "duration": 15,
    "start_time": "2023-03-19T16:22:05.843Z"
   },
   {
    "duration": 29,
    "start_time": "2023-03-19T16:22:05.860Z"
   },
   {
    "duration": 23,
    "start_time": "2023-03-19T16:22:05.891Z"
   },
   {
    "duration": 12,
    "start_time": "2023-03-19T16:22:05.916Z"
   },
   {
    "duration": 109,
    "start_time": "2023-03-19T16:22:05.929Z"
   },
   {
    "duration": 18,
    "start_time": "2023-03-19T16:22:06.040Z"
   },
   {
    "duration": 12,
    "start_time": "2023-03-19T16:22:06.060Z"
   },
   {
    "duration": 24,
    "start_time": "2023-03-19T16:22:06.073Z"
   },
   {
    "duration": 13,
    "start_time": "2023-03-19T16:22:06.100Z"
   },
   {
    "duration": 1355,
    "start_time": "2023-03-21T17:11:11.842Z"
   },
   {
    "duration": 103,
    "start_time": "2023-03-21T17:11:13.199Z"
   },
   {
    "duration": 21,
    "start_time": "2023-03-21T17:11:13.304Z"
   },
   {
    "duration": 1976,
    "start_time": "2023-03-21T17:11:13.327Z"
   },
   {
    "duration": 7,
    "start_time": "2023-03-21T17:11:15.306Z"
   },
   {
    "duration": 31,
    "start_time": "2023-03-21T17:11:15.315Z"
   },
   {
    "duration": 21,
    "start_time": "2023-03-21T17:11:15.349Z"
   },
   {
    "duration": 18,
    "start_time": "2023-03-21T17:11:15.372Z"
   },
   {
    "duration": 15,
    "start_time": "2023-03-21T17:11:15.392Z"
   },
   {
    "duration": 69,
    "start_time": "2023-03-21T17:11:15.409Z"
   },
   {
    "duration": 125,
    "start_time": "2023-03-21T17:11:15.480Z"
   },
   {
    "duration": 19,
    "start_time": "2023-03-21T17:11:15.607Z"
   },
   {
    "duration": 37,
    "start_time": "2023-03-21T17:11:15.628Z"
   },
   {
    "duration": 16,
    "start_time": "2023-03-21T17:11:15.668Z"
   },
   {
    "duration": 29,
    "start_time": "2023-03-21T17:11:15.685Z"
   },
   {
    "duration": 14,
    "start_time": "2023-03-21T17:12:25.193Z"
   },
   {
    "duration": 5,
    "start_time": "2023-03-21T17:14:27.497Z"
   },
   {
    "duration": 5,
    "start_time": "2023-03-21T17:14:54.325Z"
   },
   {
    "duration": 4,
    "start_time": "2023-03-21T17:16:23.197Z"
   },
   {
    "duration": 8,
    "start_time": "2023-03-21T17:16:45.121Z"
   },
   {
    "duration": 50,
    "start_time": "2023-03-21T17:16:59.838Z"
   },
   {
    "duration": 14,
    "start_time": "2023-03-21T17:17:05.927Z"
   },
   {
    "duration": 1366,
    "start_time": "2023-03-21T17:17:07.014Z"
   },
   {
    "duration": 6,
    "start_time": "2023-03-21T17:17:10.381Z"
   },
   {
    "duration": 5,
    "start_time": "2023-03-21T17:17:15.181Z"
   },
   {
    "duration": 5,
    "start_time": "2023-03-21T17:17:17.135Z"
   },
   {
    "duration": 5,
    "start_time": "2023-03-21T17:17:19.822Z"
   },
   {
    "duration": 11,
    "start_time": "2023-03-21T17:17:24.058Z"
   },
   {
    "duration": 49,
    "start_time": "2023-03-21T17:17:42.919Z"
   },
   {
    "duration": 76,
    "start_time": "2023-03-21T17:17:50.750Z"
   },
   {
    "duration": 111,
    "start_time": "2023-03-21T17:17:55.798Z"
   },
   {
    "duration": 12,
    "start_time": "2023-03-21T17:18:02.518Z"
   },
   {
    "duration": 4,
    "start_time": "2023-03-21T17:18:15.689Z"
   },
   {
    "duration": 76,
    "start_time": "2023-03-21T17:18:15.696Z"
   },
   {
    "duration": 15,
    "start_time": "2023-03-21T17:18:15.775Z"
   },
   {
    "duration": 1478,
    "start_time": "2023-03-21T17:18:15.792Z"
   },
   {
    "duration": 6,
    "start_time": "2023-03-21T17:18:17.272Z"
   },
   {
    "duration": 20,
    "start_time": "2023-03-21T17:18:17.281Z"
   },
   {
    "duration": 9,
    "start_time": "2023-03-21T17:18:17.304Z"
   },
   {
    "duration": 16,
    "start_time": "2023-03-21T17:18:17.315Z"
   },
   {
    "duration": 8,
    "start_time": "2023-03-21T17:18:17.333Z"
   },
   {
    "duration": 13,
    "start_time": "2023-03-21T17:18:17.343Z"
   },
   {
    "duration": 42,
    "start_time": "2023-03-21T17:18:17.358Z"
   },
   {
    "duration": 14,
    "start_time": "2023-03-21T17:18:17.402Z"
   },
   {
    "duration": 18,
    "start_time": "2023-03-21T17:18:17.418Z"
   },
   {
    "duration": 16,
    "start_time": "2023-03-21T17:18:17.440Z"
   },
   {
    "duration": 49,
    "start_time": "2023-03-21T17:18:17.457Z"
   },
   {
    "duration": 14,
    "start_time": "2023-03-21T17:18:17.508Z"
   },
   {
    "duration": 6,
    "start_time": "2023-03-21T17:18:17.524Z"
   },
   {
    "duration": 11,
    "start_time": "2023-03-21T17:18:17.532Z"
   },
   {
    "duration": 44,
    "start_time": "2023-03-21T17:19:27.529Z"
   },
   {
    "duration": 4,
    "start_time": "2023-03-21T17:19:35.431Z"
   },
   {
    "duration": 52,
    "start_time": "2023-03-21T17:19:35.439Z"
   },
   {
    "duration": 13,
    "start_time": "2023-03-21T17:19:35.493Z"
   },
   {
    "duration": 1256,
    "start_time": "2023-03-21T17:19:35.508Z"
   },
   {
    "duration": 5,
    "start_time": "2023-03-21T17:19:36.767Z"
   },
   {
    "duration": 15,
    "start_time": "2023-03-21T17:19:36.773Z"
   },
   {
    "duration": 6,
    "start_time": "2023-03-21T17:19:36.797Z"
   },
   {
    "duration": 20,
    "start_time": "2023-03-21T17:19:36.804Z"
   },
   {
    "duration": 53,
    "start_time": "2023-03-21T17:19:36.826Z"
   },
   {
    "duration": 9,
    "start_time": "2023-03-21T17:19:36.882Z"
   },
   {
    "duration": 16,
    "start_time": "2023-03-21T17:19:36.893Z"
   },
   {
    "duration": 13,
    "start_time": "2023-03-21T17:19:36.911Z"
   },
   {
    "duration": 13,
    "start_time": "2023-03-21T17:19:36.925Z"
   },
   {
    "duration": 15,
    "start_time": "2023-03-21T17:19:36.939Z"
   },
   {
    "duration": 48,
    "start_time": "2023-03-21T17:19:36.956Z"
   },
   {
    "duration": 12,
    "start_time": "2023-03-21T17:19:37.006Z"
   },
   {
    "duration": 4,
    "start_time": "2023-03-21T17:19:37.020Z"
   },
   {
    "duration": 8,
    "start_time": "2023-03-21T17:19:37.026Z"
   },
   {
    "duration": 13,
    "start_time": "2023-03-21T17:20:44.712Z"
   },
   {
    "duration": 8,
    "start_time": "2023-03-21T17:23:05.258Z"
   },
   {
    "duration": 8,
    "start_time": "2023-03-21T17:23:18.879Z"
   },
   {
    "duration": 13,
    "start_time": "2023-03-21T17:25:02.803Z"
   },
   {
    "duration": 4,
    "start_time": "2023-03-21T17:25:34.703Z"
   },
   {
    "duration": 5,
    "start_time": "2023-03-21T17:26:34.489Z"
   },
   {
    "duration": 5,
    "start_time": "2023-03-21T17:26:57.601Z"
   },
   {
    "duration": 92,
    "start_time": "2023-03-21T17:30:51.904Z"
   },
   {
    "duration": 54,
    "start_time": "2023-03-21T17:31:13.943Z"
   },
   {
    "duration": 26,
    "start_time": "2023-03-21T17:32:00.493Z"
   },
   {
    "duration": 34,
    "start_time": "2023-03-21T17:32:32.194Z"
   },
   {
    "duration": 35,
    "start_time": "2023-03-21T17:32:35.895Z"
   },
   {
    "duration": 35,
    "start_time": "2023-03-21T17:32:40.998Z"
   },
   {
    "duration": 33,
    "start_time": "2023-03-21T17:32:49.593Z"
   },
   {
    "duration": 28,
    "start_time": "2023-03-21T17:33:03.320Z"
   },
   {
    "duration": 270,
    "start_time": "2023-03-21T17:36:33.012Z"
   },
   {
    "duration": 2,
    "start_time": "2023-03-21T17:37:16.740Z"
   },
   {
    "duration": 4,
    "start_time": "2023-03-21T17:38:36.190Z"
   },
   {
    "duration": 58,
    "start_time": "2023-03-21T17:38:36.196Z"
   },
   {
    "duration": 15,
    "start_time": "2023-03-21T17:38:36.257Z"
   },
   {
    "duration": 1558,
    "start_time": "2023-03-21T17:38:36.274Z"
   },
   {
    "duration": 6,
    "start_time": "2023-03-21T17:38:37.835Z"
   },
   {
    "duration": 18,
    "start_time": "2023-03-21T17:38:37.843Z"
   },
   {
    "duration": 14,
    "start_time": "2023-03-21T17:38:37.863Z"
   },
   {
    "duration": 21,
    "start_time": "2023-03-21T17:38:37.879Z"
   },
   {
    "duration": 70,
    "start_time": "2023-03-21T17:38:37.902Z"
   },
   {
    "duration": 13,
    "start_time": "2023-03-21T17:38:37.975Z"
   },
   {
    "duration": 13,
    "start_time": "2023-03-21T17:38:37.992Z"
   },
   {
    "duration": 14,
    "start_time": "2023-03-21T17:38:38.007Z"
   },
   {
    "duration": 21,
    "start_time": "2023-03-21T17:38:38.023Z"
   },
   {
    "duration": 21,
    "start_time": "2023-03-21T17:38:38.046Z"
   },
   {
    "duration": 41,
    "start_time": "2023-03-21T17:38:38.070Z"
   },
   {
    "duration": 16,
    "start_time": "2023-03-21T17:38:38.113Z"
   },
   {
    "duration": 7,
    "start_time": "2023-03-21T17:38:38.131Z"
   },
   {
    "duration": 10,
    "start_time": "2023-03-21T17:38:38.140Z"
   },
   {
    "duration": 45,
    "start_time": "2023-03-21T17:38:38.152Z"
   },
   {
    "duration": 5,
    "start_time": "2023-03-21T17:38:38.199Z"
   },
   {
    "duration": 18,
    "start_time": "2023-03-21T17:38:38.206Z"
   },
   {
    "duration": 9,
    "start_time": "2023-03-21T17:38:38.226Z"
   },
   {
    "duration": 20,
    "start_time": "2023-03-21T17:38:38.237Z"
   },
   {
    "duration": 138,
    "start_time": "2023-03-21T17:38:38.259Z"
   },
   {
    "duration": 416,
    "start_time": "2023-03-21T17:38:38.400Z"
   },
   {
    "duration": 18,
    "start_time": "2023-03-21T17:39:12.562Z"
   },
   {
    "duration": 97,
    "start_time": "2023-03-21T17:41:15.190Z"
   },
   {
    "duration": 83,
    "start_time": "2023-03-21T17:41:21.593Z"
   },
   {
    "duration": 70,
    "start_time": "2023-03-21T17:42:10.893Z"
   },
   {
    "duration": 95,
    "start_time": "2023-03-21T17:42:25.737Z"
   },
   {
    "duration": 3247,
    "start_time": "2023-03-21T17:43:33.826Z"
   },
   {
    "duration": 699,
    "start_time": "2023-03-21T17:44:07.257Z"
   },
   {
    "duration": 1129,
    "start_time": "2023-03-21T17:44:55.730Z"
   },
   {
    "duration": 11413,
    "start_time": "2023-03-21T17:45:06.300Z"
   },
   {
    "duration": 1144,
    "start_time": "2023-03-21T17:45:25.354Z"
   },
   {
    "duration": 53,
    "start_time": "2023-03-22T16:41:52.060Z"
   },
   {
    "duration": 1210,
    "start_time": "2023-03-22T16:42:03.778Z"
   },
   {
    "duration": 126,
    "start_time": "2023-03-22T16:42:04.990Z"
   },
   {
    "duration": 31,
    "start_time": "2023-03-22T16:42:05.118Z"
   },
   {
    "duration": 2285,
    "start_time": "2023-03-22T16:42:05.152Z"
   },
   {
    "duration": 26,
    "start_time": "2023-03-22T16:42:07.446Z"
   },
   {
    "duration": 12,
    "start_time": "2023-03-22T16:42:07.474Z"
   },
   {
    "duration": 22,
    "start_time": "2023-03-22T16:42:07.487Z"
   },
   {
    "duration": 12,
    "start_time": "2023-03-22T16:42:07.511Z"
   },
   {
    "duration": 93,
    "start_time": "2023-03-22T16:42:07.525Z"
   },
   {
    "duration": 13,
    "start_time": "2023-03-22T16:42:07.622Z"
   },
   {
    "duration": 54,
    "start_time": "2023-03-22T16:42:07.637Z"
   },
   {
    "duration": 29,
    "start_time": "2023-03-22T16:42:07.693Z"
   },
   {
    "duration": 15,
    "start_time": "2023-03-22T16:42:07.724Z"
   },
   {
    "duration": 38,
    "start_time": "2023-03-22T16:42:07.746Z"
   },
   {
    "duration": 39,
    "start_time": "2023-03-22T16:42:07.786Z"
   },
   {
    "duration": 107,
    "start_time": "2023-03-22T16:42:07.828Z"
   },
   {
    "duration": 0,
    "start_time": "2023-03-22T16:42:07.937Z"
   },
   {
    "duration": 0,
    "start_time": "2023-03-22T16:42:07.945Z"
   },
   {
    "duration": 0,
    "start_time": "2023-03-22T16:42:07.946Z"
   },
   {
    "duration": 0,
    "start_time": "2023-03-22T16:42:07.947Z"
   },
   {
    "duration": 0,
    "start_time": "2023-03-22T16:42:07.947Z"
   },
   {
    "duration": 0,
    "start_time": "2023-03-22T16:42:07.948Z"
   },
   {
    "duration": 0,
    "start_time": "2023-03-22T16:42:07.949Z"
   },
   {
    "duration": 0,
    "start_time": "2023-03-22T16:42:07.952Z"
   },
   {
    "duration": 0,
    "start_time": "2023-03-22T16:42:07.953Z"
   },
   {
    "duration": 0,
    "start_time": "2023-03-22T16:42:07.954Z"
   },
   {
    "duration": 0,
    "start_time": "2023-03-22T16:42:07.956Z"
   },
   {
    "duration": 0,
    "start_time": "2023-03-22T16:42:07.957Z"
   },
   {
    "duration": 0,
    "start_time": "2023-03-22T16:42:07.958Z"
   },
   {
    "duration": 9,
    "start_time": "2023-03-22T16:43:25.582Z"
   },
   {
    "duration": 9,
    "start_time": "2023-03-22T16:43:38.486Z"
   },
   {
    "duration": 7,
    "start_time": "2023-03-22T16:43:48.413Z"
   },
   {
    "duration": 29,
    "start_time": "2023-03-22T16:44:07.941Z"
   },
   {
    "duration": 5,
    "start_time": "2023-03-22T16:44:49.933Z"
   },
   {
    "duration": 4,
    "start_time": "2023-03-22T16:45:11.935Z"
   },
   {
    "duration": 9,
    "start_time": "2023-03-22T16:45:20.974Z"
   },
   {
    "duration": 5,
    "start_time": "2023-03-22T17:02:15.808Z"
   },
   {
    "duration": 7,
    "start_time": "2023-03-22T17:02:33.772Z"
   },
   {
    "duration": 4,
    "start_time": "2023-03-22T17:02:36.512Z"
   },
   {
    "duration": 5,
    "start_time": "2023-03-22T17:04:16.413Z"
   },
   {
    "duration": 92,
    "start_time": "2023-03-22T17:04:16.424Z"
   },
   {
    "duration": 6,
    "start_time": "2023-03-22T17:04:16.519Z"
   },
   {
    "duration": 38,
    "start_time": "2023-03-22T17:04:16.527Z"
   },
   {
    "duration": 205,
    "start_time": "2023-03-22T17:04:16.567Z"
   },
   {
    "duration": 8,
    "start_time": "2023-03-22T17:04:16.774Z"
   },
   {
    "duration": 13,
    "start_time": "2023-03-22T17:04:16.784Z"
   },
   {
    "duration": 8,
    "start_time": "2023-03-22T17:04:16.799Z"
   },
   {
    "duration": 8,
    "start_time": "2023-03-22T17:04:16.808Z"
   },
   {
    "duration": 124,
    "start_time": "2023-03-22T17:04:16.818Z"
   },
   {
    "duration": 449,
    "start_time": "2023-03-22T17:04:16.945Z"
   },
   {
    "duration": 3301,
    "start_time": "2023-03-22T17:04:17.396Z"
   },
   {
    "duration": 736,
    "start_time": "2023-03-22T17:04:20.698Z"
   },
   {
    "duration": 1234,
    "start_time": "2023-03-22T17:04:21.436Z"
   },
   {
    "duration": 17,
    "start_time": "2023-03-22T17:21:45.761Z"
   },
   {
    "duration": 7,
    "start_time": "2023-03-22T17:21:59.254Z"
   },
   {
    "duration": 107,
    "start_time": "2023-03-22T17:22:05.222Z"
   },
   {
    "duration": 1791,
    "start_time": "2023-03-22T17:23:10.468Z"
   },
   {
    "duration": 886,
    "start_time": "2023-03-22T17:23:23.768Z"
   },
   {
    "duration": 527,
    "start_time": "2023-03-22T17:23:40.290Z"
   },
   {
    "duration": 411,
    "start_time": "2023-03-22T17:24:26.362Z"
   },
   {
    "duration": 641,
    "start_time": "2023-03-22T17:24:37.884Z"
   },
   {
    "duration": 3144,
    "start_time": "2023-03-22T17:27:43.237Z"
   },
   {
    "duration": 13039,
    "start_time": "2023-03-22T17:28:01.422Z"
   },
   {
    "duration": 82306,
    "start_time": "2023-03-22T17:28:22.463Z"
   },
   {
    "duration": 4,
    "start_time": "2023-03-22T17:43:59.827Z"
   },
   {
    "duration": 89,
    "start_time": "2023-03-22T17:43:59.834Z"
   },
   {
    "duration": 28,
    "start_time": "2023-03-22T17:43:59.926Z"
   },
   {
    "duration": 1707,
    "start_time": "2023-03-22T17:43:59.966Z"
   },
   {
    "duration": 8,
    "start_time": "2023-03-22T17:44:01.676Z"
   },
   {
    "duration": 85,
    "start_time": "2023-03-22T17:44:01.689Z"
   },
   {
    "duration": 50,
    "start_time": "2023-03-22T17:44:01.780Z"
   },
   {
    "duration": 87,
    "start_time": "2023-03-22T17:44:01.833Z"
   },
   {
    "duration": 145,
    "start_time": "2023-03-22T17:44:01.922Z"
   },
   {
    "duration": 27,
    "start_time": "2023-03-22T17:44:02.070Z"
   },
   {
    "duration": 89,
    "start_time": "2023-03-22T17:44:02.100Z"
   },
   {
    "duration": 45,
    "start_time": "2023-03-22T17:44:02.191Z"
   },
   {
    "duration": 77,
    "start_time": "2023-03-22T17:44:02.238Z"
   },
   {
    "duration": 81,
    "start_time": "2023-03-22T17:44:02.320Z"
   },
   {
    "duration": 46,
    "start_time": "2023-03-22T17:44:02.403Z"
   },
   {
    "duration": 67,
    "start_time": "2023-03-22T17:44:02.451Z"
   },
   {
    "duration": 28,
    "start_time": "2023-03-22T17:44:02.521Z"
   },
   {
    "duration": 52,
    "start_time": "2023-03-22T17:44:02.551Z"
   },
   {
    "duration": 85,
    "start_time": "2023-03-22T17:44:02.605Z"
   },
   {
    "duration": 37,
    "start_time": "2023-03-22T17:44:02.692Z"
   },
   {
    "duration": 13,
    "start_time": "2023-03-22T17:44:02.732Z"
   },
   {
    "duration": 49,
    "start_time": "2023-03-22T17:44:02.747Z"
   },
   {
    "duration": 20,
    "start_time": "2023-03-22T17:44:02.798Z"
   },
   {
    "duration": 19,
    "start_time": "2023-03-22T17:44:02.820Z"
   },
   {
    "duration": 36,
    "start_time": "2023-03-22T17:44:02.840Z"
   },
   {
    "duration": 42,
    "start_time": "2023-03-22T17:44:02.878Z"
   },
   {
    "duration": 37,
    "start_time": "2023-03-22T17:44:02.922Z"
   },
   {
    "duration": 82,
    "start_time": "2023-03-22T17:44:02.965Z"
   },
   {
    "duration": 422,
    "start_time": "2023-03-22T17:44:03.049Z"
   },
   {
    "duration": 1850,
    "start_time": "2023-03-22T17:44:03.474Z"
   },
   {
    "duration": 88127,
    "start_time": "2023-03-22T17:44:05.326Z"
   },
   {
    "duration": 33,
    "start_time": "2023-03-22T18:05:59.485Z"
   },
   {
    "duration": 2555,
    "start_time": "2023-03-22T18:07:08.037Z"
   },
   {
    "duration": 2635,
    "start_time": "2023-03-22T18:07:26.167Z"
   },
   {
    "duration": 2421,
    "start_time": "2023-03-22T18:08:14.683Z"
   },
   {
    "duration": 113,
    "start_time": "2023-03-22T18:08:20.784Z"
   },
   {
    "duration": 2330,
    "start_time": "2023-03-22T18:08:26.485Z"
   },
   {
    "duration": 6,
    "start_time": "2023-03-22T18:12:53.065Z"
   },
   {
    "duration": 45,
    "start_time": "2023-03-22T18:17:39.735Z"
   },
   {
    "duration": 5,
    "start_time": "2023-03-22T18:18:34.439Z"
   },
   {
    "duration": 4,
    "start_time": "2023-03-22T18:18:43.324Z"
   },
   {
    "duration": 20,
    "start_time": "2023-03-22T18:18:46.215Z"
   },
   {
    "duration": 4655,
    "start_time": "2023-03-22T18:19:09.875Z"
   },
   {
    "duration": 990,
    "start_time": "2023-03-23T11:27:32.411Z"
   },
   {
    "duration": 365,
    "start_time": "2023-03-23T11:27:33.403Z"
   },
   {
    "duration": 18,
    "start_time": "2023-03-23T11:27:33.770Z"
   },
   {
    "duration": 1441,
    "start_time": "2023-03-23T11:27:33.789Z"
   },
   {
    "duration": 4,
    "start_time": "2023-03-23T11:27:35.232Z"
   },
   {
    "duration": 18,
    "start_time": "2023-03-23T11:27:35.238Z"
   },
   {
    "duration": 11,
    "start_time": "2023-03-23T11:27:35.258Z"
   },
   {
    "duration": 8,
    "start_time": "2023-03-23T11:27:35.271Z"
   },
   {
    "duration": 53,
    "start_time": "2023-03-23T11:27:35.280Z"
   },
   {
    "duration": 10,
    "start_time": "2023-03-23T11:27:35.334Z"
   },
   {
    "duration": 55,
    "start_time": "2023-03-23T11:27:35.345Z"
   },
   {
    "duration": 19,
    "start_time": "2023-03-23T11:27:35.401Z"
   },
   {
    "duration": 9,
    "start_time": "2023-03-23T11:27:35.421Z"
   },
   {
    "duration": 12,
    "start_time": "2023-03-23T11:27:35.433Z"
   },
   {
    "duration": 12,
    "start_time": "2023-03-23T11:27:35.447Z"
   },
   {
    "duration": 5,
    "start_time": "2023-03-23T11:27:35.460Z"
   },
   {
    "duration": 13,
    "start_time": "2023-03-23T11:27:35.467Z"
   },
   {
    "duration": 13,
    "start_time": "2023-03-23T11:27:35.481Z"
   },
   {
    "duration": 5,
    "start_time": "2023-03-23T11:27:35.495Z"
   },
   {
    "duration": 34,
    "start_time": "2023-03-23T11:27:35.501Z"
   },
   {
    "duration": 10,
    "start_time": "2023-03-23T11:27:35.537Z"
   },
   {
    "duration": 12,
    "start_time": "2023-03-23T11:27:35.548Z"
   },
   {
    "duration": 25,
    "start_time": "2023-03-23T11:27:35.561Z"
   },
   {
    "duration": 36,
    "start_time": "2023-03-23T11:27:35.588Z"
   },
   {
    "duration": 20,
    "start_time": "2023-03-23T11:27:35.625Z"
   },
   {
    "duration": 16,
    "start_time": "2023-03-23T11:27:35.646Z"
   },
   {
    "duration": 6,
    "start_time": "2023-03-23T11:27:35.663Z"
   },
   {
    "duration": 98,
    "start_time": "2023-03-23T11:27:35.671Z"
   },
   {
    "duration": 321,
    "start_time": "2023-03-23T11:27:35.771Z"
   },
   {
    "duration": 1288,
    "start_time": "2023-03-23T11:27:36.093Z"
   },
   {
    "duration": 63764,
    "start_time": "2023-03-23T11:27:37.382Z"
   },
   {
    "duration": 1792,
    "start_time": "2023-03-23T11:28:41.148Z"
   },
   {
    "duration": 1725,
    "start_time": "2023-03-23T11:28:42.941Z"
   },
   {
    "duration": 4,
    "start_time": "2023-03-23T11:28:44.667Z"
   },
   {
    "duration": 15,
    "start_time": "2023-03-23T11:28:44.672Z"
   },
   {
    "duration": 3159,
    "start_time": "2023-03-23T11:28:44.688Z"
   },
   {
    "duration": 4,
    "start_time": "2023-03-23T11:39:16.492Z"
   },
   {
    "duration": 3,
    "start_time": "2023-03-23T11:41:47.408Z"
   },
   {
    "duration": 5,
    "start_time": "2023-03-23T11:41:52.198Z"
   },
   {
    "duration": 10,
    "start_time": "2023-03-23T11:42:37.900Z"
   },
   {
    "duration": 12,
    "start_time": "2023-03-23T11:42:49.135Z"
   },
   {
    "duration": 5,
    "start_time": "2023-03-23T11:43:04.208Z"
   },
   {
    "duration": 4,
    "start_time": "2023-03-23T11:43:33.580Z"
   },
   {
    "duration": 12,
    "start_time": "2023-03-23T11:44:44.576Z"
   },
   {
    "duration": 124,
    "start_time": "2023-03-23T11:46:12.425Z"
   },
   {
    "duration": 5,
    "start_time": "2023-03-23T11:46:19.368Z"
   },
   {
    "duration": 13,
    "start_time": "2023-03-23T11:46:22.275Z"
   },
   {
    "duration": 16,
    "start_time": "2023-03-23T11:46:58.572Z"
   },
   {
    "duration": 4,
    "start_time": "2023-03-23T11:47:01.881Z"
   },
   {
    "duration": 10,
    "start_time": "2023-03-23T11:47:04.078Z"
   },
   {
    "duration": 984,
    "start_time": "2023-03-23T11:47:55.900Z"
   },
   {
    "duration": 1076,
    "start_time": "2023-03-23T12:06:10.172Z"
   },
   {
    "duration": 3174,
    "start_time": "2023-03-23T12:06:22.583Z"
   },
   {
    "duration": 3294,
    "start_time": "2023-03-23T12:06:29.365Z"
   },
   {
    "duration": 3178,
    "start_time": "2023-03-23T12:06:46.335Z"
   },
   {
    "duration": 1782,
    "start_time": "2023-03-23T12:08:40.912Z"
   },
   {
    "duration": 1742,
    "start_time": "2023-03-23T12:08:53.217Z"
   },
   {
    "duration": 1802,
    "start_time": "2023-03-23T12:09:12.366Z"
   },
   {
    "duration": 1726,
    "start_time": "2023-03-23T12:09:22.240Z"
   },
   {
    "duration": 132,
    "start_time": "2023-03-23T12:09:31.427Z"
   },
   {
    "duration": 123,
    "start_time": "2023-03-23T12:11:04.515Z"
   },
   {
    "duration": 9,
    "start_time": "2023-03-23T12:11:23.683Z"
   },
   {
    "duration": 3,
    "start_time": "2023-03-23T12:11:43.810Z"
   },
   {
    "duration": 40,
    "start_time": "2023-03-23T12:11:50.878Z"
   },
   {
    "duration": 58,
    "start_time": "2023-03-23T12:13:21.581Z"
   },
   {
    "duration": 186,
    "start_time": "2023-03-23T12:13:42.258Z"
   },
   {
    "duration": 3,
    "start_time": "2023-03-23T12:16:28.309Z"
   },
   {
    "duration": 100,
    "start_time": "2023-03-23T12:16:38.529Z"
   },
   {
    "duration": 3,
    "start_time": "2023-03-23T12:19:49.394Z"
   },
   {
    "duration": 128,
    "start_time": "2023-03-23T12:19:52.823Z"
   },
   {
    "duration": 102,
    "start_time": "2023-03-23T12:19:55.273Z"
   },
   {
    "duration": 1960,
    "start_time": "2023-03-23T12:21:10.225Z"
   },
   {
    "duration": 131,
    "start_time": "2023-03-23T12:21:47.177Z"
   },
   {
    "duration": 103,
    "start_time": "2023-03-23T12:22:30.971Z"
   },
   {
    "duration": 107,
    "start_time": "2023-03-23T12:22:43.345Z"
   },
   {
    "duration": 129,
    "start_time": "2023-03-23T12:22:53.603Z"
   },
   {
    "duration": 99,
    "start_time": "2023-03-23T12:23:06.875Z"
   },
   {
    "duration": 98,
    "start_time": "2023-03-23T12:23:41.116Z"
   },
   {
    "duration": 3158,
    "start_time": "2023-03-23T12:24:16.887Z"
   },
   {
    "duration": 128,
    "start_time": "2023-03-23T12:24:23.074Z"
   },
   {
    "duration": 102,
    "start_time": "2023-03-23T12:24:28.426Z"
   },
   {
    "duration": 98,
    "start_time": "2023-03-23T12:24:50.171Z"
   },
   {
    "duration": 13,
    "start_time": "2023-03-23T12:25:47.987Z"
   },
   {
    "duration": 216,
    "start_time": "2023-03-23T12:26:04.317Z"
   },
   {
    "duration": 185,
    "start_time": "2023-03-23T12:26:25.588Z"
   },
   {
    "duration": 139,
    "start_time": "2023-03-23T12:26:33.503Z"
   },
   {
    "duration": 124,
    "start_time": "2023-03-23T12:26:47.984Z"
   },
   {
    "duration": 122,
    "start_time": "2023-03-23T12:27:08.859Z"
   },
   {
    "duration": 121,
    "start_time": "2023-03-23T12:27:20.959Z"
   },
   {
    "duration": 6,
    "start_time": "2023-03-23T12:59:11.000Z"
   },
   {
    "duration": 4,
    "start_time": "2023-03-23T13:00:06.927Z"
   },
   {
    "duration": 2226,
    "start_time": "2023-03-23T13:01:42.866Z"
   },
   {
    "duration": 2109,
    "start_time": "2023-03-23T13:02:32.292Z"
   },
   {
    "duration": 7,
    "start_time": "2023-03-23T13:03:06.500Z"
   },
   {
    "duration": 2215,
    "start_time": "2023-03-23T13:03:12.171Z"
   },
   {
    "duration": 1762,
    "start_time": "2023-03-23T13:03:52.628Z"
   },
   {
    "duration": 2221,
    "start_time": "2023-03-23T13:04:04.784Z"
   },
   {
    "duration": 1781,
    "start_time": "2023-03-23T13:04:18.483Z"
   },
   {
    "duration": 3385,
    "start_time": "2023-03-23T13:07:10.575Z"
   },
   {
    "duration": 5,
    "start_time": "2023-03-23T13:10:27.657Z"
   },
   {
    "duration": 13,
    "start_time": "2023-03-23T13:10:50.483Z"
   },
   {
    "duration": 13,
    "start_time": "2023-03-23T13:11:01.696Z"
   },
   {
    "duration": 4,
    "start_time": "2023-03-23T13:11:12.306Z"
   },
   {
    "duration": 4,
    "start_time": "2023-03-23T13:11:14.225Z"
   },
   {
    "duration": 14,
    "start_time": "2023-03-23T13:11:16.497Z"
   },
   {
    "duration": 3258,
    "start_time": "2023-03-23T13:11:19.033Z"
   },
   {
    "duration": 15,
    "start_time": "2023-03-23T13:14:16.070Z"
   },
   {
    "duration": 4405,
    "start_time": "2023-03-23T13:14:27.164Z"
   },
   {
    "duration": 1772,
    "start_time": "2023-03-23T13:16:33.778Z"
   },
   {
    "duration": 1748,
    "start_time": "2023-03-23T13:16:39.526Z"
   },
   {
    "duration": 4621,
    "start_time": "2023-03-23T13:18:10.174Z"
   },
   {
    "duration": 2199,
    "start_time": "2023-03-23T13:19:41.082Z"
   },
   {
    "duration": 1900,
    "start_time": "2023-03-23T17:00:43.653Z"
   },
   {
    "duration": 205,
    "start_time": "2023-03-23T17:00:45.555Z"
   },
   {
    "duration": 34,
    "start_time": "2023-03-23T17:00:45.762Z"
   },
   {
    "duration": 1559,
    "start_time": "2023-03-23T17:00:45.798Z"
   },
   {
    "duration": 16,
    "start_time": "2023-03-23T17:00:47.361Z"
   },
   {
    "duration": 5,
    "start_time": "2023-03-23T17:00:47.383Z"
   },
   {
    "duration": 10,
    "start_time": "2023-03-23T17:00:47.391Z"
   },
   {
    "duration": 5,
    "start_time": "2023-03-23T17:00:47.403Z"
   },
   {
    "duration": 48,
    "start_time": "2023-03-23T17:00:47.410Z"
   },
   {
    "duration": 29,
    "start_time": "2023-03-23T17:00:47.460Z"
   },
   {
    "duration": 24,
    "start_time": "2023-03-23T17:00:47.491Z"
   },
   {
    "duration": 13,
    "start_time": "2023-03-23T17:00:47.517Z"
   },
   {
    "duration": 16,
    "start_time": "2023-03-23T17:00:47.533Z"
   },
   {
    "duration": 45,
    "start_time": "2023-03-23T17:00:47.554Z"
   },
   {
    "duration": 20,
    "start_time": "2023-03-23T17:00:47.601Z"
   },
   {
    "duration": 9,
    "start_time": "2023-03-23T17:00:47.623Z"
   },
   {
    "duration": 10,
    "start_time": "2023-03-23T17:00:47.634Z"
   },
   {
    "duration": 13,
    "start_time": "2023-03-23T17:00:47.675Z"
   },
   {
    "duration": 7,
    "start_time": "2023-03-23T17:00:47.690Z"
   },
   {
    "duration": 17,
    "start_time": "2023-03-23T17:00:47.699Z"
   },
   {
    "duration": 7,
    "start_time": "2023-03-23T17:00:47.718Z"
   },
   {
    "duration": 6,
    "start_time": "2023-03-23T17:00:47.727Z"
   },
   {
    "duration": 42,
    "start_time": "2023-03-23T17:00:47.735Z"
   },
   {
    "duration": 18,
    "start_time": "2023-03-23T17:00:47.779Z"
   },
   {
    "duration": 7,
    "start_time": "2023-03-23T17:00:47.800Z"
   },
   {
    "duration": 149,
    "start_time": "2023-03-23T17:00:47.809Z"
   },
   {
    "duration": 0,
    "start_time": "2023-03-23T17:00:47.960Z"
   },
   {
    "duration": 0,
    "start_time": "2023-03-23T17:00:47.963Z"
   },
   {
    "duration": 0,
    "start_time": "2023-03-23T17:00:47.964Z"
   },
   {
    "duration": 0,
    "start_time": "2023-03-23T17:00:47.965Z"
   },
   {
    "duration": 0,
    "start_time": "2023-03-23T17:00:47.966Z"
   },
   {
    "duration": 0,
    "start_time": "2023-03-23T17:00:47.967Z"
   },
   {
    "duration": 0,
    "start_time": "2023-03-23T17:00:47.975Z"
   },
   {
    "duration": 1,
    "start_time": "2023-03-23T17:00:47.976Z"
   },
   {
    "duration": 0,
    "start_time": "2023-03-23T17:00:47.977Z"
   },
   {
    "duration": 0,
    "start_time": "2023-03-23T17:00:47.978Z"
   },
   {
    "duration": 0,
    "start_time": "2023-03-23T17:00:47.980Z"
   },
   {
    "duration": 0,
    "start_time": "2023-03-23T17:00:47.981Z"
   },
   {
    "duration": 0,
    "start_time": "2023-03-23T17:00:47.988Z"
   },
   {
    "duration": 0,
    "start_time": "2023-03-23T17:00:47.989Z"
   },
   {
    "duration": 0,
    "start_time": "2023-03-23T17:00:47.990Z"
   },
   {
    "duration": 0,
    "start_time": "2023-03-23T17:00:47.991Z"
   },
   {
    "duration": 0,
    "start_time": "2023-03-23T17:00:47.993Z"
   },
   {
    "duration": 0,
    "start_time": "2023-03-23T17:00:47.994Z"
   },
   {
    "duration": 0,
    "start_time": "2023-03-23T17:00:47.996Z"
   },
   {
    "duration": 0,
    "start_time": "2023-03-23T17:00:47.997Z"
   },
   {
    "duration": 0,
    "start_time": "2023-03-23T17:00:47.998Z"
   },
   {
    "duration": 0,
    "start_time": "2023-03-23T17:00:48.000Z"
   },
   {
    "duration": 0,
    "start_time": "2023-03-23T17:00:48.002Z"
   },
   {
    "duration": 0,
    "start_time": "2023-03-23T17:00:48.003Z"
   },
   {
    "duration": 0,
    "start_time": "2023-03-23T17:00:48.004Z"
   },
   {
    "duration": 1,
    "start_time": "2023-03-23T17:00:48.005Z"
   },
   {
    "duration": 0,
    "start_time": "2023-03-23T17:00:48.007Z"
   },
   {
    "duration": 0,
    "start_time": "2023-03-23T17:00:48.008Z"
   },
   {
    "duration": 1,
    "start_time": "2023-03-23T17:00:48.009Z"
   },
   {
    "duration": 5,
    "start_time": "2023-03-23T17:02:16.651Z"
   },
   {
    "duration": 4,
    "start_time": "2023-03-23T17:02:20.854Z"
   },
   {
    "duration": 115,
    "start_time": "2023-03-23T17:02:20.860Z"
   },
   {
    "duration": 414,
    "start_time": "2023-03-23T17:02:20.977Z"
   },
   {
    "duration": 1818,
    "start_time": "2023-03-23T17:02:21.396Z"
   },
   {
    "duration": 89147,
    "start_time": "2023-03-23T17:02:23.217Z"
   },
   {
    "duration": 2403,
    "start_time": "2023-03-23T17:03:52.366Z"
   },
   {
    "duration": 2549,
    "start_time": "2023-03-23T17:03:54.770Z"
   },
   {
    "duration": 6,
    "start_time": "2023-03-23T17:03:57.321Z"
   },
   {
    "duration": 19,
    "start_time": "2023-03-23T17:03:57.329Z"
   },
   {
    "duration": 32,
    "start_time": "2023-03-23T17:03:57.350Z"
   },
   {
    "duration": 4609,
    "start_time": "2023-03-23T17:03:57.386Z"
   },
   {
    "duration": 5,
    "start_time": "2023-03-23T17:04:01.997Z"
   },
   {
    "duration": 26,
    "start_time": "2023-03-23T17:04:02.004Z"
   },
   {
    "duration": 44,
    "start_time": "2023-03-23T17:04:02.032Z"
   },
   {
    "duration": 76,
    "start_time": "2023-03-23T17:04:02.078Z"
   },
   {
    "duration": 29,
    "start_time": "2023-03-23T17:04:02.156Z"
   },
   {
    "duration": 1457,
    "start_time": "2023-03-23T17:04:02.187Z"
   },
   {
    "duration": 4566,
    "start_time": "2023-03-23T17:04:03.646Z"
   },
   {
    "duration": 2258,
    "start_time": "2023-03-23T17:04:08.214Z"
   },
   {
    "duration": 195,
    "start_time": "2023-03-23T17:04:10.474Z"
   },
   {
    "duration": 177,
    "start_time": "2023-03-23T17:04:10.671Z"
   },
   {
    "duration": 3,
    "start_time": "2023-03-23T17:04:10.850Z"
   },
   {
    "duration": 199,
    "start_time": "2023-03-23T17:04:10.856Z"
   },
   {
    "duration": 20,
    "start_time": "2023-03-23T17:04:11.058Z"
   },
   {
    "duration": 8,
    "start_time": "2023-03-23T17:04:11.079Z"
   },
   {
    "duration": 3234,
    "start_time": "2023-03-23T17:04:11.089Z"
   },
   {
    "duration": 3461,
    "start_time": "2023-03-23T17:04:14.325Z"
   },
   {
    "duration": 22,
    "start_time": "2023-03-23T17:04:17.787Z"
   },
   {
    "duration": 5926,
    "start_time": "2023-03-23T17:04:17.813Z"
   },
   {
    "duration": 30,
    "start_time": "2023-03-23T17:06:03.467Z"
   },
   {
    "duration": 6,
    "start_time": "2023-03-23T17:07:25.616Z"
   },
   {
    "duration": 5,
    "start_time": "2023-03-23T17:07:29.492Z"
   },
   {
    "duration": 9,
    "start_time": "2023-03-23T17:07:48.970Z"
   },
   {
    "duration": 5,
    "start_time": "2023-03-23T17:07:52.065Z"
   },
   {
    "duration": 4,
    "start_time": "2023-03-23T17:07:53.546Z"
   },
   {
    "duration": 4,
    "start_time": "2023-03-23T17:07:54.993Z"
   },
   {
    "duration": 5,
    "start_time": "2023-03-23T17:07:56.552Z"
   },
   {
    "duration": 2648,
    "start_time": "2023-03-23T17:08:43.251Z"
   },
   {
    "duration": 8,
    "start_time": "2023-03-23T17:09:47.496Z"
   },
   {
    "duration": 6,
    "start_time": "2023-03-23T17:09:48.592Z"
   },
   {
    "duration": 22,
    "start_time": "2023-03-23T17:09:50.691Z"
   },
   {
    "duration": 3095,
    "start_time": "2023-03-23T17:10:49.752Z"
   },
   {
    "duration": 24,
    "start_time": "2023-03-23T17:11:01.242Z"
   },
   {
    "duration": 6482,
    "start_time": "2023-03-23T17:11:17.845Z"
   },
   {
    "duration": 6229,
    "start_time": "2023-03-23T17:13:03.524Z"
   },
   {
    "duration": 50,
    "start_time": "2023-03-23T17:23:25.116Z"
   },
   {
    "duration": 11,
    "start_time": "2023-03-23T17:23:47.995Z"
   },
   {
    "duration": 7,
    "start_time": "2023-03-23T17:25:19.897Z"
   },
   {
    "duration": 4,
    "start_time": "2023-03-23T17:25:39.143Z"
   },
   {
    "duration": 8,
    "start_time": "2023-03-23T17:25:45.224Z"
   },
   {
    "duration": 17,
    "start_time": "2023-03-23T17:25:46.400Z"
   },
   {
    "duration": 9,
    "start_time": "2023-03-23T17:25:49.478Z"
   },
   {
    "duration": 11,
    "start_time": "2023-03-23T17:25:54.096Z"
   },
   {
    "duration": 6,
    "start_time": "2023-03-23T17:25:58.836Z"
   },
   {
    "duration": 5,
    "start_time": "2023-03-23T17:26:00.272Z"
   },
   {
    "duration": 25,
    "start_time": "2023-03-23T17:26:01.621Z"
   },
   {
    "duration": 19,
    "start_time": "2023-03-23T17:26:50.928Z"
   },
   {
    "duration": 16,
    "start_time": "2023-03-23T17:27:35.999Z"
   },
   {
    "duration": 15,
    "start_time": "2023-03-23T17:28:11.457Z"
   },
   {
    "duration": 7,
    "start_time": "2023-03-23T17:28:15.686Z"
   },
   {
    "duration": 4,
    "start_time": "2023-03-23T17:28:16.558Z"
   },
   {
    "duration": 10,
    "start_time": "2023-03-23T17:28:22.831Z"
   },
   {
    "duration": 6,
    "start_time": "2023-03-23T17:28:25.207Z"
   },
   {
    "duration": 7,
    "start_time": "2023-03-23T17:28:26.204Z"
   },
   {
    "duration": 2523,
    "start_time": "2023-03-23T17:28:27.913Z"
   },
   {
    "duration": 7,
    "start_time": "2023-03-23T17:28:35.127Z"
   },
   {
    "duration": 7,
    "start_time": "2023-03-23T17:28:36.299Z"
   },
   {
    "duration": 3171,
    "start_time": "2023-03-23T17:28:37.400Z"
   },
   {
    "duration": 18,
    "start_time": "2023-03-23T17:28:46.831Z"
   },
   {
    "duration": 6313,
    "start_time": "2023-03-23T17:28:50.047Z"
   },
   {
    "duration": 5,
    "start_time": "2023-03-23T17:29:50.867Z"
   },
   {
    "duration": 71,
    "start_time": "2023-03-23T17:29:50.883Z"
   },
   {
    "duration": 14,
    "start_time": "2023-03-23T17:29:50.956Z"
   },
   {
    "duration": 1551,
    "start_time": "2023-03-23T17:29:50.972Z"
   },
   {
    "duration": 6,
    "start_time": "2023-03-23T17:29:52.526Z"
   },
   {
    "duration": 30,
    "start_time": "2023-03-23T17:29:52.534Z"
   },
   {
    "duration": 29,
    "start_time": "2023-03-23T17:29:52.565Z"
   },
   {
    "duration": 39,
    "start_time": "2023-03-23T17:29:52.596Z"
   },
   {
    "duration": 65,
    "start_time": "2023-03-23T17:29:52.636Z"
   },
   {
    "duration": 13,
    "start_time": "2023-03-23T17:29:52.703Z"
   },
   {
    "duration": 23,
    "start_time": "2023-03-23T17:29:52.719Z"
   },
   {
    "duration": 33,
    "start_time": "2023-03-23T17:29:52.744Z"
   },
   {
    "duration": 27,
    "start_time": "2023-03-23T17:29:52.780Z"
   },
   {
    "duration": 15,
    "start_time": "2023-03-23T17:29:52.809Z"
   },
   {
    "duration": 15,
    "start_time": "2023-03-23T17:29:52.826Z"
   },
   {
    "duration": 7,
    "start_time": "2023-03-23T17:29:52.843Z"
   },
   {
    "duration": 32,
    "start_time": "2023-03-23T17:29:52.852Z"
   },
   {
    "duration": 10,
    "start_time": "2023-03-23T17:29:52.896Z"
   },
   {
    "duration": 4,
    "start_time": "2023-03-23T17:29:52.908Z"
   },
   {
    "duration": 19,
    "start_time": "2023-03-23T17:29:52.913Z"
   },
   {
    "duration": 5,
    "start_time": "2023-03-23T17:29:52.934Z"
   },
   {
    "duration": 5,
    "start_time": "2023-03-23T17:29:52.941Z"
   },
   {
    "duration": 13,
    "start_time": "2023-03-23T17:29:52.948Z"
   },
   {
    "duration": 17,
    "start_time": "2023-03-23T17:29:52.962Z"
   },
   {
    "duration": 8,
    "start_time": "2023-03-23T17:29:52.981Z"
   },
   {
    "duration": 8,
    "start_time": "2023-03-23T17:29:52.990Z"
   },
   {
    "duration": 13,
    "start_time": "2023-03-23T17:29:52.999Z"
   },
   {
    "duration": 64,
    "start_time": "2023-03-23T17:29:53.013Z"
   },
   {
    "duration": 417,
    "start_time": "2023-03-23T17:29:53.083Z"
   },
   {
    "duration": 1817,
    "start_time": "2023-03-23T17:29:53.502Z"
   },
   {
    "duration": 83821,
    "start_time": "2023-03-23T17:29:55.321Z"
   },
   {
    "duration": 2386,
    "start_time": "2023-03-23T17:31:19.144Z"
   },
   {
    "duration": 2459,
    "start_time": "2023-03-23T17:31:21.531Z"
   },
   {
    "duration": 8,
    "start_time": "2023-03-23T17:31:23.993Z"
   },
   {
    "duration": 8,
    "start_time": "2023-03-23T17:31:24.007Z"
   },
   {
    "duration": 16,
    "start_time": "2023-03-23T17:31:24.017Z"
   },
   {
    "duration": 4111,
    "start_time": "2023-03-23T17:31:24.035Z"
   },
   {
    "duration": 4,
    "start_time": "2023-03-23T17:31:28.150Z"
   },
   {
    "duration": 20,
    "start_time": "2023-03-23T17:31:28.155Z"
   },
   {
    "duration": 19,
    "start_time": "2023-03-23T17:31:28.176Z"
   },
   {
    "duration": 14,
    "start_time": "2023-03-23T17:31:28.198Z"
   },
   {
    "duration": 14,
    "start_time": "2023-03-23T17:31:28.214Z"
   },
   {
    "duration": 1288,
    "start_time": "2023-03-23T17:31:28.230Z"
   },
   {
    "duration": 4015,
    "start_time": "2023-03-23T17:31:29.520Z"
   },
   {
    "duration": 2152,
    "start_time": "2023-03-23T17:31:33.536Z"
   },
   {
    "duration": 170,
    "start_time": "2023-03-23T17:31:35.690Z"
   },
   {
    "duration": 169,
    "start_time": "2023-03-23T17:31:35.862Z"
   },
   {
    "duration": 2,
    "start_time": "2023-03-23T17:31:36.033Z"
   },
   {
    "duration": 188,
    "start_time": "2023-03-23T17:31:36.037Z"
   },
   {
    "duration": 6,
    "start_time": "2023-03-23T17:31:36.227Z"
   },
   {
    "duration": 4,
    "start_time": "2023-03-23T17:31:36.235Z"
   },
   {
    "duration": 8,
    "start_time": "2023-03-23T17:31:36.241Z"
   },
   {
    "duration": 28,
    "start_time": "2023-03-23T17:31:36.251Z"
   },
   {
    "duration": 8,
    "start_time": "2023-03-23T17:31:36.280Z"
   },
   {
    "duration": 8,
    "start_time": "2023-03-23T17:31:36.289Z"
   },
   {
    "duration": 2507,
    "start_time": "2023-03-23T17:31:36.298Z"
   },
   {
    "duration": 9,
    "start_time": "2023-03-23T17:31:38.808Z"
   },
   {
    "duration": 5,
    "start_time": "2023-03-23T17:31:38.819Z"
   },
   {
    "duration": 3109,
    "start_time": "2023-03-23T17:31:38.826Z"
   },
   {
    "duration": 19,
    "start_time": "2023-03-23T17:31:41.937Z"
   },
   {
    "duration": 6240,
    "start_time": "2023-03-23T17:31:41.958Z"
   },
   {
    "duration": 53,
    "start_time": "2023-03-23T17:31:48.200Z"
   },
   {
    "duration": 10,
    "start_time": "2023-03-23T17:31:48.255Z"
   },
   {
    "duration": 10,
    "start_time": "2023-03-23T17:31:48.268Z"
   },
   {
    "duration": 25,
    "start_time": "2023-03-23T17:31:48.280Z"
   },
   {
    "duration": 7,
    "start_time": "2023-03-23T17:31:48.309Z"
   },
   {
    "duration": 6,
    "start_time": "2023-03-23T17:31:48.318Z"
   },
   {
    "duration": 12,
    "start_time": "2023-03-23T17:31:48.326Z"
   },
   {
    "duration": 4,
    "start_time": "2023-03-23T17:31:48.340Z"
   },
   {
    "duration": 34,
    "start_time": "2023-03-23T17:31:48.345Z"
   },
   {
    "duration": 2527,
    "start_time": "2023-03-23T17:31:48.380Z"
   },
   {
    "duration": 7,
    "start_time": "2023-03-23T17:31:50.909Z"
   },
   {
    "duration": 16,
    "start_time": "2023-03-23T17:31:50.917Z"
   },
   {
    "duration": 3019,
    "start_time": "2023-03-23T17:31:50.935Z"
   },
   {
    "duration": 26,
    "start_time": "2023-03-23T17:31:53.956Z"
   },
   {
    "duration": 6089,
    "start_time": "2023-03-23T17:31:53.986Z"
   },
   {
    "duration": 9,
    "start_time": "2023-03-23T17:32:00.076Z"
   },
   {
    "duration": 17,
    "start_time": "2023-03-23T17:32:00.089Z"
   },
   {
    "duration": 2461,
    "start_time": "2023-03-23T17:32:00.108Z"
   },
   {
    "duration": 3168,
    "start_time": "2023-03-23T17:32:02.570Z"
   },
   {
    "duration": 17,
    "start_time": "2023-03-23T17:32:05.740Z"
   },
   {
    "duration": 6184,
    "start_time": "2023-03-23T17:32:05.758Z"
   },
   {
    "duration": 1942,
    "start_time": "2023-03-24T11:48:50.152Z"
   },
   {
    "duration": 204,
    "start_time": "2023-03-24T11:48:52.097Z"
   },
   {
    "duration": 18,
    "start_time": "2023-03-24T11:48:52.304Z"
   },
   {
    "duration": 1537,
    "start_time": "2023-03-24T11:48:52.323Z"
   },
   {
    "duration": 37,
    "start_time": "2023-03-24T11:48:53.862Z"
   },
   {
    "duration": 7,
    "start_time": "2023-03-24T11:48:53.900Z"
   },
   {
    "duration": 5,
    "start_time": "2023-03-24T11:48:53.910Z"
   },
   {
    "duration": 5,
    "start_time": "2023-03-24T11:48:53.917Z"
   },
   {
    "duration": 49,
    "start_time": "2023-03-24T11:48:53.923Z"
   },
   {
    "duration": 27,
    "start_time": "2023-03-24T11:48:53.974Z"
   },
   {
    "duration": 16,
    "start_time": "2023-03-24T11:48:54.002Z"
   },
   {
    "duration": 12,
    "start_time": "2023-03-24T11:48:54.020Z"
   },
   {
    "duration": 16,
    "start_time": "2023-03-24T11:48:54.035Z"
   },
   {
    "duration": 24,
    "start_time": "2023-03-24T11:48:54.077Z"
   },
   {
    "duration": 25,
    "start_time": "2023-03-24T11:48:54.103Z"
   },
   {
    "duration": 12,
    "start_time": "2023-03-24T11:48:54.132Z"
   },
   {
    "duration": 6,
    "start_time": "2023-03-24T11:48:54.147Z"
   },
   {
    "duration": 22,
    "start_time": "2023-03-24T11:48:54.174Z"
   },
   {
    "duration": 13,
    "start_time": "2023-03-24T11:48:54.199Z"
   },
   {
    "duration": 24,
    "start_time": "2023-03-24T11:48:54.217Z"
   },
   {
    "duration": 5,
    "start_time": "2023-03-24T11:48:54.244Z"
   },
   {
    "duration": 8,
    "start_time": "2023-03-24T11:48:54.251Z"
   },
   {
    "duration": 15,
    "start_time": "2023-03-24T11:48:54.261Z"
   },
   {
    "duration": 39,
    "start_time": "2023-03-24T11:48:54.278Z"
   },
   {
    "duration": 50,
    "start_time": "2023-03-24T11:48:54.320Z"
   },
   {
    "duration": 18,
    "start_time": "2023-03-24T11:48:54.373Z"
   },
   {
    "duration": 20,
    "start_time": "2023-03-24T11:48:54.394Z"
   },
   {
    "duration": 67,
    "start_time": "2023-03-24T11:48:54.416Z"
   },
   {
    "duration": 433,
    "start_time": "2023-03-24T11:48:54.486Z"
   },
   {
    "duration": 1736,
    "start_time": "2023-03-24T11:48:54.921Z"
   },
   {
    "duration": 89582,
    "start_time": "2023-03-24T11:48:56.659Z"
   },
   {
    "duration": 2413,
    "start_time": "2023-03-24T11:50:26.243Z"
   },
   {
    "duration": 2403,
    "start_time": "2023-03-24T11:50:28.658Z"
   },
   {
    "duration": 5,
    "start_time": "2023-03-24T11:50:31.063Z"
   },
   {
    "duration": 39,
    "start_time": "2023-03-24T11:50:31.078Z"
   },
   {
    "duration": 40,
    "start_time": "2023-03-24T11:50:31.120Z"
   },
   {
    "duration": 4535,
    "start_time": "2023-03-24T11:50:31.162Z"
   },
   {
    "duration": 7,
    "start_time": "2023-03-24T11:50:35.703Z"
   },
   {
    "duration": 7,
    "start_time": "2023-03-24T11:50:35.712Z"
   },
   {
    "duration": 10,
    "start_time": "2023-03-24T11:50:35.721Z"
   },
   {
    "duration": 14,
    "start_time": "2023-03-24T11:50:35.737Z"
   },
   {
    "duration": 5,
    "start_time": "2023-03-24T11:50:35.753Z"
   },
   {
    "duration": 1408,
    "start_time": "2023-03-24T11:50:35.780Z"
   },
   {
    "duration": 4272,
    "start_time": "2023-03-24T11:50:37.193Z"
   },
   {
    "duration": 2264,
    "start_time": "2023-03-24T11:50:41.466Z"
   },
   {
    "duration": 180,
    "start_time": "2023-03-24T11:50:43.732Z"
   },
   {
    "duration": 199,
    "start_time": "2023-03-24T11:50:43.915Z"
   },
   {
    "duration": 3,
    "start_time": "2023-03-24T11:50:44.116Z"
   },
   {
    "duration": 228,
    "start_time": "2023-03-24T11:50:44.121Z"
   },
   {
    "duration": 7,
    "start_time": "2023-03-24T11:50:44.352Z"
   },
   {
    "duration": 37,
    "start_time": "2023-03-24T11:50:44.361Z"
   },
   {
    "duration": 15,
    "start_time": "2023-03-24T11:50:44.406Z"
   },
   {
    "duration": 8,
    "start_time": "2023-03-24T11:50:44.423Z"
   },
   {
    "duration": 42,
    "start_time": "2023-03-24T11:50:44.433Z"
   },
   {
    "duration": 19,
    "start_time": "2023-03-24T11:50:44.477Z"
   },
   {
    "duration": 2697,
    "start_time": "2023-03-24T11:50:44.498Z"
   },
   {
    "duration": 19,
    "start_time": "2023-03-24T11:50:47.197Z"
   },
   {
    "duration": 5,
    "start_time": "2023-03-24T11:50:47.218Z"
   },
   {
    "duration": 3387,
    "start_time": "2023-03-24T11:50:47.224Z"
   },
   {
    "duration": 24,
    "start_time": "2023-03-24T11:50:50.613Z"
   },
   {
    "duration": 6569,
    "start_time": "2023-03-24T11:50:50.639Z"
   },
   {
    "duration": 50,
    "start_time": "2023-03-24T11:50:57.210Z"
   },
   {
    "duration": 6,
    "start_time": "2023-03-24T11:50:57.262Z"
   },
   {
    "duration": 9,
    "start_time": "2023-03-24T11:50:57.270Z"
   },
   {
    "duration": 31,
    "start_time": "2023-03-24T11:50:57.281Z"
   },
   {
    "duration": 8,
    "start_time": "2023-03-24T11:50:57.315Z"
   },
   {
    "duration": 5,
    "start_time": "2023-03-24T11:50:57.326Z"
   },
   {
    "duration": 16,
    "start_time": "2023-03-24T11:50:57.333Z"
   },
   {
    "duration": 5,
    "start_time": "2023-03-24T11:50:57.350Z"
   },
   {
    "duration": 33,
    "start_time": "2023-03-24T11:50:57.357Z"
   },
   {
    "duration": 2586,
    "start_time": "2023-03-24T11:50:57.392Z"
   },
   {
    "duration": 9,
    "start_time": "2023-03-24T11:50:59.987Z"
   },
   {
    "duration": 13,
    "start_time": "2023-03-24T11:50:59.998Z"
   },
   {
    "duration": 3237,
    "start_time": "2023-03-24T11:51:00.013Z"
   },
   {
    "duration": 44,
    "start_time": "2023-03-24T11:51:03.252Z"
   },
   {
    "duration": 6593,
    "start_time": "2023-03-24T11:51:03.303Z"
   },
   {
    "duration": 8,
    "start_time": "2023-03-24T11:51:09.903Z"
   },
   {
    "duration": 7,
    "start_time": "2023-03-24T11:51:09.913Z"
   },
   {
    "duration": 2582,
    "start_time": "2023-03-24T11:51:09.922Z"
   },
   {
    "duration": 3270,
    "start_time": "2023-03-24T11:51:12.506Z"
   },
   {
    "duration": 27,
    "start_time": "2023-03-24T11:51:15.780Z"
   },
   {
    "duration": 6411,
    "start_time": "2023-03-24T11:51:15.809Z"
   },
   {
    "duration": 4,
    "start_time": "2023-03-24T11:53:47.251Z"
   },
   {
    "duration": 236,
    "start_time": "2023-03-24T11:54:05.053Z"
   },
   {
    "duration": 60,
    "start_time": "2023-03-24T11:58:40.373Z"
   },
   {
    "duration": 43,
    "start_time": "2023-03-24T11:58:49.702Z"
   },
   {
    "duration": 4,
    "start_time": "2023-03-24T11:59:20.644Z"
   },
   {
    "duration": 30,
    "start_time": "2023-03-24T12:01:54.219Z"
   },
   {
    "duration": 4,
    "start_time": "2023-03-24T12:03:41.893Z"
   },
   {
    "duration": 5,
    "start_time": "2023-03-24T12:03:43.091Z"
   },
   {
    "duration": 5,
    "start_time": "2023-03-24T12:03:47.803Z"
   },
   {
    "duration": 4,
    "start_time": "2023-03-24T12:03:48.989Z"
   },
   {
    "duration": 2477,
    "start_time": "2023-03-24T12:03:50.217Z"
   },
   {
    "duration": 8,
    "start_time": "2023-03-24T12:04:06.852Z"
   },
   {
    "duration": 6,
    "start_time": "2023-03-24T12:04:08.123Z"
   },
   {
    "duration": 3099,
    "start_time": "2023-03-24T12:04:10.226Z"
   },
   {
    "duration": 17,
    "start_time": "2023-03-24T12:04:15.434Z"
   },
   {
    "duration": 6219,
    "start_time": "2023-03-24T12:04:20.251Z"
   },
   {
    "duration": 4,
    "start_time": "2023-03-24T12:05:28.512Z"
   },
   {
    "duration": 14,
    "start_time": "2023-03-24T12:06:25.719Z"
   },
   {
    "duration": 56,
    "start_time": "2023-03-24T12:06:31.348Z"
   },
   {
    "duration": 5,
    "start_time": "2023-03-24T12:06:33.502Z"
   },
   {
    "duration": 7,
    "start_time": "2023-03-24T12:06:34.560Z"
   },
   {
    "duration": 19,
    "start_time": "2023-03-24T12:06:36.148Z"
   },
   {
    "duration": 10,
    "start_time": "2023-03-24T12:06:38.436Z"
   },
   {
    "duration": 6,
    "start_time": "2023-03-24T12:06:40.860Z"
   },
   {
    "duration": 10,
    "start_time": "2023-03-24T12:09:28.968Z"
   },
   {
    "duration": 13,
    "start_time": "2023-03-24T12:09:42.388Z"
   },
   {
    "duration": 14,
    "start_time": "2023-03-24T12:09:54.057Z"
   },
   {
    "duration": 2503,
    "start_time": "2023-03-24T12:10:19.921Z"
   },
   {
    "duration": 17,
    "start_time": "2023-03-24T12:10:58.794Z"
   },
   {
    "duration": 13,
    "start_time": "2023-03-24T12:12:53.129Z"
   },
   {
    "duration": 2654,
    "start_time": "2023-03-24T12:13:23.972Z"
   },
   {
    "duration": 18,
    "start_time": "2023-03-24T12:19:54.703Z"
   },
   {
    "duration": 3,
    "start_time": "2023-03-24T12:20:17.166Z"
   },
   {
    "duration": 7,
    "start_time": "2023-03-24T12:20:25.160Z"
   },
   {
    "duration": 6,
    "start_time": "2023-03-24T12:20:39.193Z"
   },
   {
    "duration": 23,
    "start_time": "2023-03-24T12:20:59.270Z"
   },
   {
    "duration": 19,
    "start_time": "2023-03-24T12:21:05.349Z"
   },
   {
    "duration": 4,
    "start_time": "2023-03-24T12:23:16.704Z"
   },
   {
    "duration": 22,
    "start_time": "2023-03-24T12:24:35.562Z"
   },
   {
    "duration": 14,
    "start_time": "2023-03-24T12:24:55.686Z"
   },
   {
    "duration": 2779,
    "start_time": "2023-03-24T12:25:03.565Z"
   },
   {
    "duration": 4441,
    "start_time": "2023-03-24T12:25:42.763Z"
   },
   {
    "duration": 4434,
    "start_time": "2023-03-24T12:26:16.967Z"
   },
   {
    "duration": 10,
    "start_time": "2023-03-24T12:27:51.269Z"
   },
   {
    "duration": 172,
    "start_time": "2023-03-24T12:28:12.163Z"
   },
   {
    "duration": 20,
    "start_time": "2023-03-24T12:31:57.024Z"
   },
   {
    "duration": 8,
    "start_time": "2023-03-24T12:32:03.862Z"
   },
   {
    "duration": 1776,
    "start_time": "2023-03-24T15:21:56.355Z"
   },
   {
    "duration": 172,
    "start_time": "2023-03-24T15:21:58.135Z"
   },
   {
    "duration": 20,
    "start_time": "2023-03-24T15:21:58.309Z"
   },
   {
    "duration": 1456,
    "start_time": "2023-03-24T15:21:58.331Z"
   },
   {
    "duration": 7,
    "start_time": "2023-03-24T15:21:59.790Z"
   },
   {
    "duration": 7,
    "start_time": "2023-03-24T15:21:59.798Z"
   },
   {
    "duration": 6,
    "start_time": "2023-03-24T15:21:59.807Z"
   },
   {
    "duration": 6,
    "start_time": "2023-03-24T15:21:59.814Z"
   },
   {
    "duration": 58,
    "start_time": "2023-03-24T15:21:59.821Z"
   },
   {
    "duration": 11,
    "start_time": "2023-03-24T15:21:59.881Z"
   },
   {
    "duration": 19,
    "start_time": "2023-03-24T15:21:59.895Z"
   },
   {
    "duration": 49,
    "start_time": "2023-03-24T15:21:59.917Z"
   },
   {
    "duration": 26,
    "start_time": "2023-03-24T15:21:59.969Z"
   },
   {
    "duration": 31,
    "start_time": "2023-03-24T15:21:59.998Z"
   },
   {
    "duration": 17,
    "start_time": "2023-03-24T15:22:00.062Z"
   },
   {
    "duration": 10,
    "start_time": "2023-03-24T15:22:00.082Z"
   },
   {
    "duration": 14,
    "start_time": "2023-03-24T15:22:00.095Z"
   },
   {
    "duration": 21,
    "start_time": "2023-03-24T15:22:00.111Z"
   },
   {
    "duration": 27,
    "start_time": "2023-03-24T15:22:00.134Z"
   },
   {
    "duration": 55,
    "start_time": "2023-03-24T15:22:00.163Z"
   },
   {
    "duration": 26,
    "start_time": "2023-03-24T15:22:00.220Z"
   },
   {
    "duration": 47,
    "start_time": "2023-03-24T15:22:00.249Z"
   },
   {
    "duration": 36,
    "start_time": "2023-03-24T15:22:00.299Z"
   },
   {
    "duration": 37,
    "start_time": "2023-03-24T15:22:00.338Z"
   },
   {
    "duration": 51,
    "start_time": "2023-03-24T15:22:00.378Z"
   },
   {
    "duration": 35,
    "start_time": "2023-03-24T15:22:00.431Z"
   },
   {
    "duration": 15,
    "start_time": "2023-03-24T15:22:00.470Z"
   },
   {
    "duration": 73,
    "start_time": "2023-03-24T15:22:00.490Z"
   },
   {
    "duration": 435,
    "start_time": "2023-03-24T15:22:00.566Z"
   },
   {
    "duration": 1649,
    "start_time": "2023-03-24T15:22:01.003Z"
   },
   {
    "duration": 87489,
    "start_time": "2023-03-24T15:22:02.654Z"
   },
   {
    "duration": 2582,
    "start_time": "2023-03-24T15:23:30.145Z"
   },
   {
    "duration": 2617,
    "start_time": "2023-03-24T15:23:32.729Z"
   },
   {
    "duration": 6,
    "start_time": "2023-03-24T15:23:35.349Z"
   },
   {
    "duration": 19,
    "start_time": "2023-03-24T15:23:35.363Z"
   },
   {
    "duration": 24,
    "start_time": "2023-03-24T15:23:35.386Z"
   },
   {
    "duration": 4887,
    "start_time": "2023-03-24T15:23:35.412Z"
   },
   {
    "duration": 5,
    "start_time": "2023-03-24T15:23:40.301Z"
   },
   {
    "duration": 9,
    "start_time": "2023-03-24T15:23:40.308Z"
   },
   {
    "duration": 9,
    "start_time": "2023-03-24T15:23:40.319Z"
   },
   {
    "duration": 37,
    "start_time": "2023-03-24T15:23:40.329Z"
   },
   {
    "duration": 5,
    "start_time": "2023-03-24T15:23:40.368Z"
   },
   {
    "duration": 1346,
    "start_time": "2023-03-24T15:23:40.375Z"
   },
   {
    "duration": 4491,
    "start_time": "2023-03-24T15:23:41.722Z"
   },
   {
    "duration": 2386,
    "start_time": "2023-03-24T15:23:46.215Z"
   },
   {
    "duration": 176,
    "start_time": "2023-03-24T15:23:48.607Z"
   },
   {
    "duration": 179,
    "start_time": "2023-03-24T15:23:48.787Z"
   },
   {
    "duration": 4,
    "start_time": "2023-03-24T15:23:48.968Z"
   },
   {
    "duration": 170,
    "start_time": "2023-03-24T15:23:48.974Z"
   },
   {
    "duration": 21,
    "start_time": "2023-03-24T15:23:49.146Z"
   },
   {
    "duration": 10,
    "start_time": "2023-03-24T15:23:49.173Z"
   },
   {
    "duration": 16,
    "start_time": "2023-03-24T15:23:49.188Z"
   },
   {
    "duration": 15,
    "start_time": "2023-03-24T15:23:49.207Z"
   },
   {
    "duration": 23,
    "start_time": "2023-03-24T15:23:49.225Z"
   },
   {
    "duration": 16,
    "start_time": "2023-03-24T15:23:49.251Z"
   },
   {
    "duration": 2566,
    "start_time": "2023-03-24T15:23:49.269Z"
   },
   {
    "duration": 7,
    "start_time": "2023-03-24T15:23:51.837Z"
   },
   {
    "duration": 29,
    "start_time": "2023-03-24T15:23:51.846Z"
   },
   {
    "duration": 3275,
    "start_time": "2023-03-24T15:23:51.878Z"
   },
   {
    "duration": 32,
    "start_time": "2023-03-24T15:23:55.155Z"
   },
   {
    "duration": 6806,
    "start_time": "2023-03-24T15:23:55.189Z"
   },
   {
    "duration": 52,
    "start_time": "2023-03-24T15:24:01.997Z"
   },
   {
    "duration": 6,
    "start_time": "2023-03-24T15:24:02.052Z"
   },
   {
    "duration": 28,
    "start_time": "2023-03-24T15:24:02.059Z"
   },
   {
    "duration": 23,
    "start_time": "2023-03-24T15:24:02.089Z"
   },
   {
    "duration": 33,
    "start_time": "2023-03-24T15:24:02.114Z"
   },
   {
    "duration": 11,
    "start_time": "2023-03-24T15:24:02.149Z"
   },
   {
    "duration": 26,
    "start_time": "2023-03-24T15:24:02.161Z"
   },
   {
    "duration": 53,
    "start_time": "2023-03-24T15:24:02.189Z"
   },
   {
    "duration": 12,
    "start_time": "2023-03-24T15:24:02.244Z"
   },
   {
    "duration": 47,
    "start_time": "2023-03-24T15:24:02.258Z"
   },
   {
    "duration": 5,
    "start_time": "2023-03-24T15:24:02.308Z"
   },
   {
    "duration": 34,
    "start_time": "2023-03-24T15:24:02.315Z"
   },
   {
    "duration": 5,
    "start_time": "2023-03-24T15:24:02.351Z"
   },
   {
    "duration": 37,
    "start_time": "2023-03-24T15:24:02.360Z"
   },
   {
    "duration": 2688,
    "start_time": "2023-03-24T15:24:02.399Z"
   },
   {
    "duration": 164,
    "start_time": "2023-03-24T15:24:05.090Z"
   },
   {
    "duration": 0,
    "start_time": "2023-03-24T15:24:05.261Z"
   },
   {
    "duration": 0,
    "start_time": "2023-03-24T15:24:05.262Z"
   },
   {
    "duration": 0,
    "start_time": "2023-03-24T15:24:05.263Z"
   },
   {
    "duration": 0,
    "start_time": "2023-03-24T15:24:05.264Z"
   },
   {
    "duration": 0,
    "start_time": "2023-03-24T15:24:05.265Z"
   },
   {
    "duration": 0,
    "start_time": "2023-03-24T15:24:05.266Z"
   },
   {
    "duration": 0,
    "start_time": "2023-03-24T15:24:05.267Z"
   },
   {
    "duration": 0,
    "start_time": "2023-03-24T15:24:05.268Z"
   },
   {
    "duration": 1,
    "start_time": "2023-03-24T15:24:05.269Z"
   },
   {
    "duration": 0,
    "start_time": "2023-03-24T15:24:05.270Z"
   },
   {
    "duration": 0,
    "start_time": "2023-03-24T15:24:05.272Z"
   },
   {
    "duration": 0,
    "start_time": "2023-03-24T15:24:05.273Z"
   },
   {
    "duration": 173,
    "start_time": "2023-03-24T15:50:11.869Z"
   },
   {
    "duration": 182,
    "start_time": "2023-03-24T15:50:34.471Z"
   },
   {
    "duration": 357,
    "start_time": "2023-03-24T15:51:06.164Z"
   },
   {
    "duration": 387,
    "start_time": "2023-03-24T15:51:43.532Z"
   },
   {
    "duration": 20,
    "start_time": "2023-03-24T15:52:47.549Z"
   },
   {
    "duration": 2371,
    "start_time": "2023-03-24T15:53:07.669Z"
   },
   {
    "duration": 2613,
    "start_time": "2023-03-24T15:53:42.278Z"
   },
   {
    "duration": 4847,
    "start_time": "2023-03-24T15:53:56.940Z"
   },
   {
    "duration": 1243,
    "start_time": "2023-03-24T15:54:15.758Z"
   },
   {
    "duration": 2581,
    "start_time": "2023-03-24T15:54:59.286Z"
   },
   {
    "duration": 5,
    "start_time": "2023-03-24T15:55:12.790Z"
   },
   {
    "duration": 10,
    "start_time": "2023-03-24T15:55:15.741Z"
   },
   {
    "duration": 2493,
    "start_time": "2023-03-24T15:55:20.054Z"
   },
   {
    "duration": 3198,
    "start_time": "2023-03-24T15:56:25.807Z"
   },
   {
    "duration": 3399,
    "start_time": "2023-03-24T15:56:56.406Z"
   },
   {
    "duration": 4495,
    "start_time": "2023-03-24T15:57:26.191Z"
   },
   {
    "duration": 1642,
    "start_time": "2023-03-24T16:11:18.570Z"
   },
   {
    "duration": 7,
    "start_time": "2023-03-24T16:11:30.963Z"
   },
   {
    "duration": 59,
    "start_time": "2023-03-24T16:11:34.346Z"
   },
   {
    "duration": 17,
    "start_time": "2023-03-24T16:11:37.381Z"
   },
   {
    "duration": 1304,
    "start_time": "2023-03-24T16:11:41.242Z"
   },
   {
    "duration": 6,
    "start_time": "2023-03-24T16:13:51.092Z"
   },
   {
    "duration": 18,
    "start_time": "2023-03-24T16:18:06.224Z"
   },
   {
    "duration": 6,
    "start_time": "2023-03-24T16:18:13.416Z"
   },
   {
    "duration": 7,
    "start_time": "2023-03-24T16:18:38.729Z"
   },
   {
    "duration": 7,
    "start_time": "2023-03-24T16:18:40.576Z"
   },
   {
    "duration": 8,
    "start_time": "2023-03-24T16:18:53.442Z"
   },
   {
    "duration": 8,
    "start_time": "2023-03-24T16:20:09.800Z"
   },
   {
    "duration": 5,
    "start_time": "2023-03-24T16:22:37.930Z"
   },
   {
    "duration": 10,
    "start_time": "2023-03-24T16:23:04.763Z"
   },
   {
    "duration": 14,
    "start_time": "2023-03-24T16:28:39.437Z"
   },
   {
    "duration": 26,
    "start_time": "2023-03-24T16:29:36.255Z"
   },
   {
    "duration": 72,
    "start_time": "2023-03-24T16:33:26.481Z"
   },
   {
    "duration": 15,
    "start_time": "2023-03-24T16:41:34.365Z"
   },
   {
    "duration": 5,
    "start_time": "2023-03-24T16:43:25.036Z"
   },
   {
    "duration": 45,
    "start_time": "2023-03-24T16:45:55.217Z"
   },
   {
    "duration": 7,
    "start_time": "2023-03-24T16:46:15.000Z"
   },
   {
    "duration": 47,
    "start_time": "2023-03-24T16:46:17.036Z"
   },
   {
    "duration": 18,
    "start_time": "2023-03-24T16:46:19.209Z"
   },
   {
    "duration": 2277,
    "start_time": "2023-03-24T16:46:20.281Z"
   },
   {
    "duration": 8,
    "start_time": "2023-03-24T16:46:25.786Z"
   },
   {
    "duration": 7,
    "start_time": "2023-03-24T16:46:26.680Z"
   },
   {
    "duration": 8,
    "start_time": "2023-03-24T16:46:29.473Z"
   },
   {
    "duration": 7,
    "start_time": "2023-03-24T16:46:30.201Z"
   },
   {
    "duration": 7,
    "start_time": "2023-03-24T16:46:33.290Z"
   },
   {
    "duration": 8,
    "start_time": "2023-03-24T16:46:34.409Z"
   },
   {
    "duration": 15,
    "start_time": "2023-03-24T16:46:38.000Z"
   },
   {
    "duration": 16,
    "start_time": "2023-03-24T16:46:43.334Z"
   },
   {
    "duration": 5,
    "start_time": "2023-03-24T16:46:45.331Z"
   },
   {
    "duration": 3,
    "start_time": "2023-03-24T16:47:09.737Z"
   },
   {
    "duration": 12,
    "start_time": "2023-03-24T17:14:59.375Z"
   },
   {
    "duration": 5,
    "start_time": "2023-03-24T17:15:05.386Z"
   },
   {
    "duration": 5,
    "start_time": "2023-03-24T17:15:43.563Z"
   },
   {
    "duration": 9,
    "start_time": "2023-03-24T17:18:04.884Z"
   },
   {
    "duration": 5,
    "start_time": "2023-03-24T17:18:33.941Z"
   },
   {
    "duration": 9,
    "start_time": "2023-03-24T17:19:00.845Z"
   },
   {
    "duration": 6,
    "start_time": "2023-03-24T17:19:04.157Z"
   },
   {
    "duration": 5,
    "start_time": "2023-03-24T17:19:09.612Z"
   },
   {
    "duration": 4,
    "start_time": "2023-03-24T17:19:18.805Z"
   },
   {
    "duration": 5,
    "start_time": "2023-03-24T17:19:23.781Z"
   },
   {
    "duration": 8,
    "start_time": "2023-03-24T17:19:25.662Z"
   },
   {
    "duration": 44,
    "start_time": "2023-03-24T17:21:24.807Z"
   },
   {
    "duration": 56,
    "start_time": "2023-03-24T17:22:23.343Z"
   },
   {
    "duration": 33,
    "start_time": "2023-03-24T17:24:39.277Z"
   },
   {
    "duration": 40,
    "start_time": "2023-03-24T17:26:46.434Z"
   },
   {
    "duration": 42,
    "start_time": "2023-03-24T17:27:08.438Z"
   },
   {
    "duration": 24,
    "start_time": "2023-03-24T17:34:11.312Z"
   },
   {
    "duration": 25,
    "start_time": "2023-03-24T17:34:49.831Z"
   },
   {
    "duration": 31,
    "start_time": "2023-03-24T17:35:01.399Z"
   },
   {
    "duration": 489,
    "start_time": "2023-03-24T17:35:18.582Z"
   },
   {
    "duration": 27,
    "start_time": "2023-03-24T17:35:33.032Z"
   },
   {
    "duration": 5,
    "start_time": "2023-03-24T17:35:45.882Z"
   },
   {
    "duration": 94,
    "start_time": "2023-03-24T17:35:45.890Z"
   },
   {
    "duration": 19,
    "start_time": "2023-03-24T17:35:45.986Z"
   },
   {
    "duration": 1469,
    "start_time": "2023-03-24T17:35:46.008Z"
   },
   {
    "duration": 13,
    "start_time": "2023-03-24T17:35:47.479Z"
   },
   {
    "duration": 6,
    "start_time": "2023-03-24T17:35:47.493Z"
   },
   {
    "duration": 5,
    "start_time": "2023-03-24T17:35:47.502Z"
   },
   {
    "duration": 7,
    "start_time": "2023-03-24T17:35:47.509Z"
   },
   {
    "duration": 7,
    "start_time": "2023-03-24T17:35:47.518Z"
   },
   {
    "duration": 49,
    "start_time": "2023-03-24T17:35:47.526Z"
   },
   {
    "duration": 20,
    "start_time": "2023-03-24T17:35:47.576Z"
   },
   {
    "duration": 17,
    "start_time": "2023-03-24T17:35:47.598Z"
   },
   {
    "duration": 5,
    "start_time": "2023-03-24T17:35:47.619Z"
   },
   {
    "duration": 9,
    "start_time": "2023-03-24T17:35:47.626Z"
   },
   {
    "duration": 26,
    "start_time": "2023-03-24T17:35:47.637Z"
   },
   {
    "duration": 17,
    "start_time": "2023-03-24T17:35:47.665Z"
   },
   {
    "duration": 5,
    "start_time": "2023-03-24T17:35:47.685Z"
   },
   {
    "duration": 12,
    "start_time": "2023-03-24T17:35:47.691Z"
   },
   {
    "duration": 6,
    "start_time": "2023-03-24T17:35:47.706Z"
   },
   {
    "duration": 5,
    "start_time": "2023-03-24T17:35:47.714Z"
   },
   {
    "duration": 8,
    "start_time": "2023-03-24T17:35:47.721Z"
   },
   {
    "duration": 41,
    "start_time": "2023-03-24T17:35:47.731Z"
   },
   {
    "duration": 28,
    "start_time": "2023-03-24T17:35:50.529Z"
   },
   {
    "duration": 36,
    "start_time": "2023-03-24T17:35:54.551Z"
   },
   {
    "duration": 648,
    "start_time": "2023-03-24T17:35:57.970Z"
   },
   {
    "duration": 36,
    "start_time": "2023-03-24T17:36:16.792Z"
   },
   {
    "duration": 6,
    "start_time": "2023-03-24T17:36:56.883Z"
   },
   {
    "duration": 57,
    "start_time": "2023-03-24T17:36:56.892Z"
   },
   {
    "duration": 27,
    "start_time": "2023-03-24T17:36:56.951Z"
   },
   {
    "duration": 1532,
    "start_time": "2023-03-24T17:36:56.981Z"
   },
   {
    "duration": 5,
    "start_time": "2023-03-24T17:36:58.516Z"
   },
   {
    "duration": 7,
    "start_time": "2023-03-24T17:36:58.522Z"
   },
   {
    "duration": 6,
    "start_time": "2023-03-24T17:36:58.530Z"
   },
   {
    "duration": 39,
    "start_time": "2023-03-24T17:36:58.538Z"
   },
   {
    "duration": 13,
    "start_time": "2023-03-24T17:36:58.584Z"
   },
   {
    "duration": 12,
    "start_time": "2023-03-24T17:36:58.602Z"
   },
   {
    "duration": 25,
    "start_time": "2023-03-24T17:36:58.617Z"
   },
   {
    "duration": 33,
    "start_time": "2023-03-24T17:36:58.645Z"
   },
   {
    "duration": 6,
    "start_time": "2023-03-24T17:36:58.680Z"
   },
   {
    "duration": 30,
    "start_time": "2023-03-24T17:36:58.688Z"
   },
   {
    "duration": 14,
    "start_time": "2023-03-24T17:36:58.721Z"
   },
   {
    "duration": 27,
    "start_time": "2023-03-24T17:36:58.737Z"
   },
   {
    "duration": 14,
    "start_time": "2023-03-24T17:36:58.772Z"
   },
   {
    "duration": 11,
    "start_time": "2023-03-24T17:36:58.788Z"
   },
   {
    "duration": 5,
    "start_time": "2023-03-24T17:36:58.802Z"
   },
   {
    "duration": 12,
    "start_time": "2023-03-24T17:36:58.809Z"
   },
   {
    "duration": 24,
    "start_time": "2023-03-24T17:36:58.823Z"
   },
   {
    "duration": 7,
    "start_time": "2023-03-24T17:36:58.850Z"
   },
   {
    "duration": 535,
    "start_time": "2023-03-24T17:37:04.503Z"
   },
   {
    "duration": 28,
    "start_time": "2023-03-24T17:37:11.553Z"
   },
   {
    "duration": 495,
    "start_time": "2023-03-24T17:37:16.825Z"
   },
   {
    "duration": 694,
    "start_time": "2023-03-24T17:37:34.752Z"
   },
   {
    "duration": 878,
    "start_time": "2023-03-24T17:37:49.033Z"
   },
   {
    "duration": 820,
    "start_time": "2023-03-24T17:37:59.677Z"
   },
   {
    "duration": 9,
    "start_time": "2023-03-24T17:38:19.066Z"
   },
   {
    "duration": 81,
    "start_time": "2023-03-24T17:38:19.082Z"
   },
   {
    "duration": 16,
    "start_time": "2023-03-24T17:38:19.166Z"
   },
   {
    "duration": 1552,
    "start_time": "2023-03-24T17:38:19.186Z"
   },
   {
    "duration": 7,
    "start_time": "2023-03-24T17:38:20.740Z"
   },
   {
    "duration": 10,
    "start_time": "2023-03-24T17:38:20.766Z"
   },
   {
    "duration": 14,
    "start_time": "2023-03-24T17:38:20.778Z"
   },
   {
    "duration": 10,
    "start_time": "2023-03-24T17:38:20.794Z"
   },
   {
    "duration": 6,
    "start_time": "2023-03-24T17:38:20.806Z"
   },
   {
    "duration": 8,
    "start_time": "2023-03-24T17:38:20.814Z"
   },
   {
    "duration": 58,
    "start_time": "2023-03-24T17:38:20.825Z"
   },
   {
    "duration": 21,
    "start_time": "2023-03-24T17:38:20.885Z"
   },
   {
    "duration": 5,
    "start_time": "2023-03-24T17:38:20.908Z"
   },
   {
    "duration": 9,
    "start_time": "2023-03-24T17:38:20.916Z"
   },
   {
    "duration": 6,
    "start_time": "2023-03-24T17:38:20.928Z"
   },
   {
    "duration": 31,
    "start_time": "2023-03-24T17:38:20.937Z"
   },
   {
    "duration": 14,
    "start_time": "2023-03-24T17:38:20.972Z"
   },
   {
    "duration": 14,
    "start_time": "2023-03-24T17:38:20.988Z"
   },
   {
    "duration": 8,
    "start_time": "2023-03-24T17:38:21.004Z"
   },
   {
    "duration": 5,
    "start_time": "2023-03-24T17:38:21.014Z"
   },
   {
    "duration": 6,
    "start_time": "2023-03-24T17:38:21.021Z"
   },
   {
    "duration": 41,
    "start_time": "2023-03-24T17:38:21.029Z"
   },
   {
    "duration": 820,
    "start_time": "2023-03-24T17:38:21.074Z"
   },
   {
    "duration": 32,
    "start_time": "2023-03-24T17:38:21.897Z"
   },
   {
    "duration": 598,
    "start_time": "2023-03-24T17:38:38.050Z"
   },
   {
    "duration": 504,
    "start_time": "2023-03-24T17:53:35.483Z"
   },
   {
    "duration": 154,
    "start_time": "2023-03-24T17:55:37.708Z"
   },
   {
    "duration": 364,
    "start_time": "2023-03-24T17:57:35.542Z"
   },
   {
    "duration": 1708,
    "start_time": "2023-03-24T17:58:00.974Z"
   },
   {
    "duration": 9976,
    "start_time": "2023-03-24T17:58:18.423Z"
   },
   {
    "duration": 359,
    "start_time": "2023-03-24T17:59:04.256Z"
   },
   {
    "duration": 1816,
    "start_time": "2023-03-24T18:03:39.282Z"
   },
   {
    "duration": 58065,
    "start_time": "2023-03-24T18:05:35.749Z"
   },
   {
    "duration": 16032,
    "start_time": "2023-03-24T18:08:44.796Z"
   },
   {
    "duration": 87371,
    "start_time": "2023-03-24T18:09:21.821Z"
   },
   {
    "duration": 13753,
    "start_time": "2023-03-24T18:11:05.927Z"
   },
   {
    "duration": 170,
    "start_time": "2023-03-24T18:13:39.307Z"
   },
   {
    "duration": 4,
    "start_time": "2023-03-24T18:43:11.087Z"
   },
   {
    "duration": 75,
    "start_time": "2023-03-24T18:43:11.095Z"
   },
   {
    "duration": 16,
    "start_time": "2023-03-24T18:43:11.173Z"
   },
   {
    "duration": 1460,
    "start_time": "2023-03-24T18:43:11.192Z"
   },
   {
    "duration": 10,
    "start_time": "2023-03-24T18:43:12.654Z"
   },
   {
    "duration": 7,
    "start_time": "2023-03-24T18:43:12.666Z"
   },
   {
    "duration": 7,
    "start_time": "2023-03-24T18:43:12.675Z"
   },
   {
    "duration": 15,
    "start_time": "2023-03-24T18:43:12.683Z"
   },
   {
    "duration": 13,
    "start_time": "2023-03-24T18:43:12.702Z"
   },
   {
    "duration": 7,
    "start_time": "2023-03-24T18:43:12.718Z"
   },
   {
    "duration": 47,
    "start_time": "2023-03-24T18:43:12.727Z"
   },
   {
    "duration": 18,
    "start_time": "2023-03-24T18:43:12.775Z"
   },
   {
    "duration": 4,
    "start_time": "2023-03-24T18:43:12.795Z"
   },
   {
    "duration": 10,
    "start_time": "2023-03-24T18:43:12.801Z"
   },
   {
    "duration": 51,
    "start_time": "2023-03-24T18:43:12.813Z"
   },
   {
    "duration": 14,
    "start_time": "2023-03-24T18:43:12.867Z"
   },
   {
    "duration": 6,
    "start_time": "2023-03-24T18:43:12.883Z"
   },
   {
    "duration": 15,
    "start_time": "2023-03-24T18:43:12.891Z"
   },
   {
    "duration": 4,
    "start_time": "2023-03-24T18:43:12.908Z"
   },
   {
    "duration": 8,
    "start_time": "2023-03-24T18:43:12.914Z"
   },
   {
    "duration": 40,
    "start_time": "2023-03-24T18:43:12.923Z"
   },
   {
    "duration": 9,
    "start_time": "2023-03-24T18:43:12.966Z"
   },
   {
    "duration": 567,
    "start_time": "2023-03-24T18:43:12.978Z"
   },
   {
    "duration": 29,
    "start_time": "2023-03-24T18:43:13.549Z"
   },
   {
    "duration": 580,
    "start_time": "2023-03-24T18:43:13.580Z"
   },
   {
    "duration": 108,
    "start_time": "2023-03-24T18:43:14.162Z"
   },
   {
    "duration": 458,
    "start_time": "2023-03-24T18:43:14.364Z"
   },
   {
    "duration": 1819,
    "start_time": "2023-03-24T18:43:14.825Z"
   },
   {
    "duration": 13603,
    "start_time": "2023-03-24T18:43:16.646Z"
   },
   {
    "duration": 166,
    "start_time": "2023-03-24T18:43:30.251Z"
   },
   {
    "duration": 2332,
    "start_time": "2023-03-24T18:43:30.419Z"
   },
   {
    "duration": 2707,
    "start_time": "2023-03-24T18:43:32.753Z"
   },
   {
    "duration": 5,
    "start_time": "2023-03-24T18:43:35.462Z"
   },
   {
    "duration": 18,
    "start_time": "2023-03-24T18:43:35.469Z"
   },
   {
    "duration": 24,
    "start_time": "2023-03-24T18:43:35.489Z"
   },
   {
    "duration": 4711,
    "start_time": "2023-03-24T18:43:35.515Z"
   },
   {
    "duration": 4,
    "start_time": "2023-03-24T18:43:40.228Z"
   },
   {
    "duration": 6,
    "start_time": "2023-03-24T18:43:40.233Z"
   },
   {
    "duration": 22,
    "start_time": "2023-03-24T18:43:40.241Z"
   },
   {
    "duration": 16,
    "start_time": "2023-03-24T18:43:40.265Z"
   },
   {
    "duration": 6,
    "start_time": "2023-03-24T18:43:40.282Z"
   },
   {
    "duration": 1485,
    "start_time": "2023-03-24T18:43:40.289Z"
   },
   {
    "duration": 4253,
    "start_time": "2023-03-24T18:43:41.777Z"
   },
   {
    "duration": 2140,
    "start_time": "2023-03-24T18:43:46.032Z"
   },
   {
    "duration": 182,
    "start_time": "2023-03-24T18:43:48.174Z"
   },
   {
    "duration": 186,
    "start_time": "2023-03-24T18:43:48.357Z"
   },
   {
    "duration": 2,
    "start_time": "2023-03-24T18:43:48.546Z"
   },
   {
    "duration": 175,
    "start_time": "2023-03-24T18:43:48.550Z"
   },
   {
    "duration": 5,
    "start_time": "2023-03-24T18:43:48.727Z"
   },
   {
    "duration": 20,
    "start_time": "2023-03-24T18:43:48.734Z"
   },
   {
    "duration": 23,
    "start_time": "2023-03-24T18:43:48.756Z"
   },
   {
    "duration": 8,
    "start_time": "2023-03-24T18:43:48.782Z"
   },
   {
    "duration": 17,
    "start_time": "2023-03-24T18:43:48.792Z"
   },
   {
    "duration": 14,
    "start_time": "2023-03-24T18:43:48.811Z"
   },
   {
    "duration": 2505,
    "start_time": "2023-03-24T18:43:48.826Z"
   },
   {
    "duration": 7,
    "start_time": "2023-03-24T18:43:51.333Z"
   },
   {
    "duration": 25,
    "start_time": "2023-03-24T18:43:51.341Z"
   },
   {
    "duration": 3119,
    "start_time": "2023-03-24T18:43:51.368Z"
   },
   {
    "duration": 20,
    "start_time": "2023-03-24T18:43:54.489Z"
   },
   {
    "duration": 5950,
    "start_time": "2023-03-24T18:43:54.511Z"
   },
   {
    "duration": 48,
    "start_time": "2023-03-24T18:44:00.464Z"
   },
   {
    "duration": 6,
    "start_time": "2023-03-24T18:44:00.514Z"
   },
   {
    "duration": 40,
    "start_time": "2023-03-24T18:44:00.522Z"
   },
   {
    "duration": 43,
    "start_time": "2023-03-24T18:44:00.564Z"
   },
   {
    "duration": 42,
    "start_time": "2023-03-24T18:44:00.610Z"
   },
   {
    "duration": 43,
    "start_time": "2023-03-24T18:44:00.654Z"
   },
   {
    "duration": 42,
    "start_time": "2023-03-24T18:44:00.699Z"
   },
   {
    "duration": 32,
    "start_time": "2023-03-24T18:44:00.743Z"
   },
   {
    "duration": 35,
    "start_time": "2023-03-24T18:44:00.782Z"
   },
   {
    "duration": 108,
    "start_time": "2023-03-24T18:44:00.819Z"
   },
   {
    "duration": 5,
    "start_time": "2023-03-24T18:44:00.929Z"
   },
   {
    "duration": 47,
    "start_time": "2023-03-24T18:44:00.936Z"
   },
   {
    "duration": 36,
    "start_time": "2023-03-24T18:44:00.986Z"
   },
   {
    "duration": 44,
    "start_time": "2023-03-24T18:44:01.024Z"
   },
   {
    "duration": 2345,
    "start_time": "2023-03-24T18:44:01.070Z"
   },
   {
    "duration": 13,
    "start_time": "2023-03-24T18:44:03.417Z"
   },
   {
    "duration": 1,
    "start_time": "2023-03-24T18:44:03.431Z"
   },
   {
    "duration": 0,
    "start_time": "2023-03-24T18:44:03.434Z"
   },
   {
    "duration": 0,
    "start_time": "2023-03-24T18:44:03.435Z"
   },
   {
    "duration": 0,
    "start_time": "2023-03-24T18:44:03.437Z"
   },
   {
    "duration": 0,
    "start_time": "2023-03-24T18:44:03.462Z"
   },
   {
    "duration": 0,
    "start_time": "2023-03-24T18:44:03.463Z"
   },
   {
    "duration": 0,
    "start_time": "2023-03-24T18:44:03.465Z"
   },
   {
    "duration": 0,
    "start_time": "2023-03-24T18:44:03.466Z"
   },
   {
    "duration": 0,
    "start_time": "2023-03-24T18:44:03.467Z"
   },
   {
    "duration": 0,
    "start_time": "2023-03-24T18:44:03.468Z"
   },
   {
    "duration": 0,
    "start_time": "2023-03-24T18:44:03.469Z"
   },
   {
    "duration": 0,
    "start_time": "2023-03-24T18:44:03.470Z"
   },
   {
    "duration": 0,
    "start_time": "2023-03-24T18:44:03.472Z"
   },
   {
    "duration": 149,
    "start_time": "2023-03-24T18:53:20.370Z"
   },
   {
    "duration": 159,
    "start_time": "2023-03-24T18:53:32.368Z"
   },
   {
    "duration": 182,
    "start_time": "2023-03-24T18:53:37.040Z"
   },
   {
    "duration": 42,
    "start_time": "2023-03-24T18:54:46.833Z"
   },
   {
    "duration": 378,
    "start_time": "2023-03-24T18:54:58.280Z"
   },
   {
    "duration": 191,
    "start_time": "2023-03-24T18:56:56.145Z"
   },
   {
    "duration": 104,
    "start_time": "2023-03-24T19:04:19.759Z"
   },
   {
    "duration": 345,
    "start_time": "2023-03-24T19:09:44.649Z"
   },
   {
    "duration": 14467,
    "start_time": "2023-03-24T19:15:13.503Z"
   },
   {
    "duration": 2475,
    "start_time": "2023-03-24T19:37:12.403Z"
   },
   {
    "duration": 154,
    "start_time": "2023-03-24T19:37:28.130Z"
   },
   {
    "duration": 160,
    "start_time": "2023-03-24T19:37:40.179Z"
   },
   {
    "duration": 157,
    "start_time": "2023-03-24T19:45:21.875Z"
   },
   {
    "duration": 6,
    "start_time": "2023-03-24T19:50:22.157Z"
   },
   {
    "duration": 7,
    "start_time": "2023-03-24T19:51:29.575Z"
   },
   {
    "duration": 15,
    "start_time": "2023-03-24T19:55:02.968Z"
   },
   {
    "duration": 6,
    "start_time": "2023-03-24T19:55:31.503Z"
   },
   {
    "duration": 6,
    "start_time": "2023-03-24T19:56:09.543Z"
   },
   {
    "duration": 213,
    "start_time": "2023-03-24T19:58:28.282Z"
   },
   {
    "duration": 197,
    "start_time": "2023-03-24T19:58:48.378Z"
   },
   {
    "duration": 223,
    "start_time": "2023-03-24T19:59:04.737Z"
   },
   {
    "duration": 51,
    "start_time": "2023-03-24T20:07:29.902Z"
   },
   {
    "duration": 5,
    "start_time": "2023-03-24T20:09:27.700Z"
   },
   {
    "duration": 6,
    "start_time": "2023-03-24T20:10:12.631Z"
   },
   {
    "duration": 5,
    "start_time": "2023-03-24T20:10:19.031Z"
   },
   {
    "duration": 12,
    "start_time": "2023-03-24T20:10:33.680Z"
   },
   {
    "duration": 11,
    "start_time": "2023-03-24T20:10:51.418Z"
   },
   {
    "duration": 7,
    "start_time": "2023-03-24T20:11:07.378Z"
   },
   {
    "duration": 106,
    "start_time": "2023-03-24T20:12:26.777Z"
   },
   {
    "duration": 91,
    "start_time": "2023-03-24T20:22:33.353Z"
   },
   {
    "duration": 216,
    "start_time": "2023-03-24T20:24:15.633Z"
   },
   {
    "duration": 45,
    "start_time": "2023-03-24T20:36:00.775Z"
   },
   {
    "duration": 219,
    "start_time": "2023-03-24T20:36:06.650Z"
   },
   {
    "duration": 215,
    "start_time": "2023-03-24T20:36:32.137Z"
   },
   {
    "duration": 2,
    "start_time": "2023-03-24T20:37:54.609Z"
   },
   {
    "duration": 13,
    "start_time": "2023-03-24T20:51:54.648Z"
   },
   {
    "duration": 7,
    "start_time": "2023-03-24T20:51:58.347Z"
   },
   {
    "duration": 197,
    "start_time": "2023-03-24T20:53:18.813Z"
   },
   {
    "duration": 4,
    "start_time": "2023-03-24T20:54:09.284Z"
   },
   {
    "duration": 6,
    "start_time": "2023-03-24T20:54:14.357Z"
   },
   {
    "duration": 6,
    "start_time": "2023-03-24T20:54:27.820Z"
   },
   {
    "duration": 229,
    "start_time": "2023-03-24T20:54:29.461Z"
   },
   {
    "duration": 7,
    "start_time": "2023-03-24T20:54:44.896Z"
   },
   {
    "duration": 6,
    "start_time": "2023-03-24T20:54:48.763Z"
   },
   {
    "duration": 6,
    "start_time": "2023-03-24T20:55:47.741Z"
   },
   {
    "duration": 14,
    "start_time": "2023-03-24T20:56:42.415Z"
   },
   {
    "duration": 232,
    "start_time": "2023-03-24T20:57:36.423Z"
   },
   {
    "duration": 269,
    "start_time": "2023-03-24T21:00:26.714Z"
   },
   {
    "duration": 1810,
    "start_time": "2023-03-24T21:02:04.955Z"
   },
   {
    "duration": 13327,
    "start_time": "2023-03-24T21:02:39.218Z"
   },
   {
    "duration": 87062,
    "start_time": "2023-03-24T21:03:18.708Z"
   },
   {
    "duration": 3854,
    "start_time": "2023-03-24T21:05:19.434Z"
   },
   {
    "duration": 3909,
    "start_time": "2023-03-24T21:05:36.754Z"
   },
   {
    "duration": 1569,
    "start_time": "2023-03-25T05:36:23.474Z"
   },
   {
    "duration": 113,
    "start_time": "2023-03-25T05:36:25.045Z"
   },
   {
    "duration": 17,
    "start_time": "2023-03-25T05:36:25.160Z"
   },
   {
    "duration": 1484,
    "start_time": "2023-03-25T05:36:25.179Z"
   },
   {
    "duration": 7,
    "start_time": "2023-03-25T05:36:26.666Z"
   },
   {
    "duration": 86,
    "start_time": "2023-03-25T05:36:26.675Z"
   },
   {
    "duration": 16,
    "start_time": "2023-03-25T05:36:26.763Z"
   },
   {
    "duration": 13,
    "start_time": "2023-03-25T05:36:26.780Z"
   },
   {
    "duration": 7,
    "start_time": "2023-03-25T05:36:26.795Z"
   },
   {
    "duration": 17,
    "start_time": "2023-03-25T05:36:26.804Z"
   },
   {
    "duration": 29,
    "start_time": "2023-03-25T05:36:26.823Z"
   },
   {
    "duration": 23,
    "start_time": "2023-03-25T05:36:26.854Z"
   },
   {
    "duration": 10,
    "start_time": "2023-03-25T05:36:26.879Z"
   },
   {
    "duration": 21,
    "start_time": "2023-03-25T05:36:26.891Z"
   },
   {
    "duration": 8,
    "start_time": "2023-03-25T05:36:26.913Z"
   },
   {
    "duration": 24,
    "start_time": "2023-03-25T05:36:26.923Z"
   },
   {
    "duration": 20,
    "start_time": "2023-03-25T05:36:26.949Z"
   },
   {
    "duration": 17,
    "start_time": "2023-03-25T05:36:26.970Z"
   },
   {
    "duration": 14,
    "start_time": "2023-03-25T05:36:26.989Z"
   },
   {
    "duration": 13,
    "start_time": "2023-03-25T05:36:27.005Z"
   },
   {
    "duration": 16,
    "start_time": "2023-03-25T05:36:27.019Z"
   },
   {
    "duration": 30,
    "start_time": "2023-03-25T05:36:27.037Z"
   },
   {
    "duration": 573,
    "start_time": "2023-03-25T05:36:27.069Z"
   },
   {
    "duration": 27,
    "start_time": "2023-03-25T05:36:27.645Z"
   },
   {
    "duration": 580,
    "start_time": "2023-03-25T05:36:27.674Z"
   },
   {
    "duration": 92,
    "start_time": "2023-03-25T05:36:28.256Z"
   },
   {
    "duration": 549,
    "start_time": "2023-03-25T05:36:28.353Z"
   },
   {
    "duration": 1830,
    "start_time": "2023-03-25T05:36:28.907Z"
   },
   {
    "duration": 92414,
    "start_time": "2023-03-25T05:36:30.741Z"
   },
   {
    "duration": 218,
    "start_time": "2023-03-25T05:38:03.156Z"
   },
   {
    "duration": 198,
    "start_time": "2023-03-25T05:38:03.376Z"
   },
   {
    "duration": 4,
    "start_time": "2023-03-25T05:38:03.576Z"
   },
   {
    "duration": 13,
    "start_time": "2023-03-25T05:38:03.583Z"
   },
   {
    "duration": 16,
    "start_time": "2023-03-25T05:38:03.598Z"
   },
   {
    "duration": 29,
    "start_time": "2023-03-25T05:38:03.616Z"
   },
   {
    "duration": 215,
    "start_time": "2023-03-25T05:38:03.648Z"
   },
   {
    "duration": 5,
    "start_time": "2023-03-25T05:38:03.866Z"
   },
   {
    "duration": 22,
    "start_time": "2023-03-25T05:38:03.873Z"
   },
   {
    "duration": 8,
    "start_time": "2023-03-25T05:38:03.898Z"
   },
   {
    "duration": 122,
    "start_time": "2023-03-25T05:38:03.909Z"
   },
   {
    "duration": 130,
    "start_time": "2023-03-25T05:38:04.034Z"
   },
   {
    "duration": 0,
    "start_time": "2023-03-25T05:38:04.166Z"
   },
   {
    "duration": 0,
    "start_time": "2023-03-25T05:38:04.167Z"
   },
   {
    "duration": 0,
    "start_time": "2023-03-25T05:38:04.168Z"
   },
   {
    "duration": 0,
    "start_time": "2023-03-25T05:38:04.170Z"
   },
   {
    "duration": 0,
    "start_time": "2023-03-25T05:38:04.171Z"
   },
   {
    "duration": 0,
    "start_time": "2023-03-25T05:38:04.172Z"
   },
   {
    "duration": 0,
    "start_time": "2023-03-25T05:38:04.174Z"
   },
   {
    "duration": 0,
    "start_time": "2023-03-25T05:38:04.175Z"
   },
   {
    "duration": 0,
    "start_time": "2023-03-25T05:38:04.177Z"
   },
   {
    "duration": 0,
    "start_time": "2023-03-25T05:38:04.178Z"
   },
   {
    "duration": 0,
    "start_time": "2023-03-25T05:38:04.179Z"
   },
   {
    "duration": 0,
    "start_time": "2023-03-25T05:38:04.182Z"
   },
   {
    "duration": 205,
    "start_time": "2023-03-25T05:40:01.556Z"
   },
   {
    "duration": 6,
    "start_time": "2023-03-25T05:40:10.363Z"
   },
   {
    "duration": 36,
    "start_time": "2023-03-25T05:40:10.371Z"
   },
   {
    "duration": 7,
    "start_time": "2023-03-25T05:40:13.187Z"
   },
   {
    "duration": 192,
    "start_time": "2023-03-25T05:40:14.293Z"
   },
   {
    "duration": 7,
    "start_time": "2023-03-25T05:40:18.211Z"
   },
   {
    "duration": 6,
    "start_time": "2023-03-25T05:40:18.987Z"
   },
   {
    "duration": 6,
    "start_time": "2023-03-25T05:40:21.612Z"
   },
   {
    "duration": 15,
    "start_time": "2023-03-25T05:40:22.475Z"
   },
   {
    "duration": 237,
    "start_time": "2023-03-25T05:40:23.443Z"
   },
   {
    "duration": 2807,
    "start_time": "2023-03-25T05:40:23.963Z"
   },
   {
    "duration": 17,
    "start_time": "2023-03-25T05:40:27.852Z"
   },
   {
    "duration": 3919,
    "start_time": "2023-03-25T05:40:30.100Z"
   },
   {
    "duration": 10,
    "start_time": "2023-03-25T05:42:07.429Z"
   },
   {
    "duration": 32,
    "start_time": "2023-03-25T05:42:19.596Z"
   },
   {
    "duration": 13,
    "start_time": "2023-03-25T05:42:43.374Z"
   },
   {
    "duration": 25,
    "start_time": "2023-03-25T05:43:54.311Z"
   },
   {
    "duration": 10,
    "start_time": "2023-03-25T05:43:58.022Z"
   },
   {
    "duration": 26,
    "start_time": "2023-03-25T05:44:10.214Z"
   },
   {
    "duration": 271,
    "start_time": "2023-03-25T05:45:26.519Z"
   },
   {
    "duration": 9,
    "start_time": "2023-03-25T05:45:50.847Z"
   },
   {
    "duration": 4,
    "start_time": "2023-03-25T05:46:34.022Z"
   },
   {
    "duration": 58,
    "start_time": "2023-03-25T05:46:34.028Z"
   },
   {
    "duration": 13,
    "start_time": "2023-03-25T05:46:34.088Z"
   },
   {
    "duration": 1514,
    "start_time": "2023-03-25T05:46:34.103Z"
   },
   {
    "duration": 6,
    "start_time": "2023-03-25T05:46:35.619Z"
   },
   {
    "duration": 20,
    "start_time": "2023-03-25T05:46:35.626Z"
   },
   {
    "duration": 18,
    "start_time": "2023-03-25T05:46:35.648Z"
   },
   {
    "duration": 10,
    "start_time": "2023-03-25T05:46:35.669Z"
   },
   {
    "duration": 82,
    "start_time": "2023-03-25T05:46:35.681Z"
   },
   {
    "duration": 32,
    "start_time": "2023-03-25T05:46:35.767Z"
   },
   {
    "duration": 33,
    "start_time": "2023-03-25T05:46:35.802Z"
   },
   {
    "duration": 21,
    "start_time": "2023-03-25T05:46:35.838Z"
   },
   {
    "duration": 35,
    "start_time": "2023-03-25T05:46:35.862Z"
   },
   {
    "duration": 23,
    "start_time": "2023-03-25T05:46:35.899Z"
   },
   {
    "duration": 24,
    "start_time": "2023-03-25T05:46:35.925Z"
   },
   {
    "duration": 53,
    "start_time": "2023-03-25T05:46:35.951Z"
   },
   {
    "duration": 18,
    "start_time": "2023-03-25T05:46:36.006Z"
   },
   {
    "duration": 45,
    "start_time": "2023-03-25T05:46:36.026Z"
   },
   {
    "duration": 21,
    "start_time": "2023-03-25T05:46:36.073Z"
   },
   {
    "duration": 20,
    "start_time": "2023-03-25T05:46:36.097Z"
   },
   {
    "duration": 9,
    "start_time": "2023-03-25T05:46:36.119Z"
   },
   {
    "duration": 24,
    "start_time": "2023-03-25T05:46:36.130Z"
   },
   {
    "duration": 585,
    "start_time": "2023-03-25T05:46:36.157Z"
   },
   {
    "duration": 26,
    "start_time": "2023-03-25T05:46:36.744Z"
   },
   {
    "duration": 559,
    "start_time": "2023-03-25T05:46:36.773Z"
   },
   {
    "duration": 36,
    "start_time": "2023-03-25T05:46:37.340Z"
   },
   {
    "duration": 531,
    "start_time": "2023-03-25T05:46:37.379Z"
   },
   {
    "duration": 1868,
    "start_time": "2023-03-25T05:46:37.912Z"
   },
   {
    "duration": 15181,
    "start_time": "2023-03-25T05:46:39.785Z"
   },
   {
    "duration": 195,
    "start_time": "2023-03-25T05:46:54.968Z"
   },
   {
    "duration": 177,
    "start_time": "2023-03-25T05:46:55.165Z"
   },
   {
    "duration": 4,
    "start_time": "2023-03-25T05:46:55.344Z"
   },
   {
    "duration": 10,
    "start_time": "2023-03-25T05:46:55.351Z"
   },
   {
    "duration": 22,
    "start_time": "2023-03-25T05:46:55.363Z"
   },
   {
    "duration": 7,
    "start_time": "2023-03-25T05:46:55.387Z"
   },
   {
    "duration": 223,
    "start_time": "2023-03-25T05:46:55.396Z"
   },
   {
    "duration": 6,
    "start_time": "2023-03-25T05:46:55.622Z"
   },
   {
    "duration": 13,
    "start_time": "2023-03-25T05:46:55.641Z"
   },
   {
    "duration": 8,
    "start_time": "2023-03-25T05:46:55.656Z"
   },
   {
    "duration": 124,
    "start_time": "2023-03-25T05:46:55.666Z"
   },
   {
    "duration": 264,
    "start_time": "2023-03-25T05:46:55.792Z"
   },
   {
    "duration": 17,
    "start_time": "2023-03-25T05:46:56.058Z"
   },
   {
    "duration": 34,
    "start_time": "2023-03-25T05:46:56.078Z"
   },
   {
    "duration": 36,
    "start_time": "2023-03-25T05:46:56.114Z"
   },
   {
    "duration": 26,
    "start_time": "2023-03-25T05:46:56.151Z"
   },
   {
    "duration": 5,
    "start_time": "2023-03-25T05:46:56.179Z"
   },
   {
    "duration": 15,
    "start_time": "2023-03-25T05:46:56.186Z"
   },
   {
    "duration": 8,
    "start_time": "2023-03-25T05:46:56.203Z"
   },
   {
    "duration": 353,
    "start_time": "2023-03-25T05:46:56.242Z"
   },
   {
    "duration": 8,
    "start_time": "2023-03-25T05:46:56.597Z"
   },
   {
    "duration": 8,
    "start_time": "2023-03-25T05:46:56.607Z"
   },
   {
    "duration": 27,
    "start_time": "2023-03-25T05:46:56.617Z"
   },
   {
    "duration": 21,
    "start_time": "2023-03-25T05:46:56.646Z"
   },
   {
    "duration": 277,
    "start_time": "2023-03-25T05:46:56.669Z"
   },
   {
    "duration": 2849,
    "start_time": "2023-03-25T05:46:56.948Z"
   },
   {
    "duration": 13,
    "start_time": "2023-03-25T05:46:59.799Z"
   },
   {
    "duration": 4069,
    "start_time": "2023-03-25T05:46:59.813Z"
   },
   {
    "duration": 230,
    "start_time": "2023-03-25T06:11:34.278Z"
   },
   {
    "duration": 25,
    "start_time": "2023-03-25T06:16:29.156Z"
   },
   {
    "duration": 7,
    "start_time": "2023-03-25T06:16:40.882Z"
   },
   {
    "duration": 6,
    "start_time": "2023-03-25T06:16:42.486Z"
   },
   {
    "duration": 8,
    "start_time": "2023-03-25T06:16:45.777Z"
   },
   {
    "duration": 14,
    "start_time": "2023-03-25T06:16:46.859Z"
   },
   {
    "duration": 31,
    "start_time": "2023-03-25T06:16:52.436Z"
   },
   {
    "duration": 33,
    "start_time": "2023-03-25T06:17:18.450Z"
   },
   {
    "duration": 33,
    "start_time": "2023-03-25T06:17:29.258Z"
   },
   {
    "duration": 35,
    "start_time": "2023-03-25T06:18:18.886Z"
   },
   {
    "duration": 4220,
    "start_time": "2023-03-25T06:19:16.011Z"
   },
   {
    "duration": 248,
    "start_time": "2023-03-25T06:20:11.295Z"
   },
   {
    "duration": 236,
    "start_time": "2023-03-25T06:20:40.332Z"
   },
   {
    "duration": 33,
    "start_time": "2023-03-25T06:20:45.410Z"
   },
   {
    "duration": 4,
    "start_time": "2023-03-25T06:26:52.363Z"
   },
   {
    "duration": 48,
    "start_time": "2023-03-25T06:26:52.378Z"
   },
   {
    "duration": 12,
    "start_time": "2023-03-25T06:26:52.428Z"
   },
   {
    "duration": 1416,
    "start_time": "2023-03-25T06:26:52.441Z"
   },
   {
    "duration": 4,
    "start_time": "2023-03-25T06:26:53.860Z"
   },
   {
    "duration": 14,
    "start_time": "2023-03-25T06:26:53.866Z"
   },
   {
    "duration": 6,
    "start_time": "2023-03-25T06:26:53.882Z"
   },
   {
    "duration": 7,
    "start_time": "2023-03-25T06:26:53.889Z"
   },
   {
    "duration": 5,
    "start_time": "2023-03-25T06:26:53.898Z"
   },
   {
    "duration": 6,
    "start_time": "2023-03-25T06:26:53.905Z"
   },
   {
    "duration": 27,
    "start_time": "2023-03-25T06:26:53.940Z"
   },
   {
    "duration": 36,
    "start_time": "2023-03-25T06:26:53.974Z"
   },
   {
    "duration": 5,
    "start_time": "2023-03-25T06:26:54.012Z"
   },
   {
    "duration": 18,
    "start_time": "2023-03-25T06:26:54.019Z"
   },
   {
    "duration": 7,
    "start_time": "2023-03-25T06:26:54.039Z"
   },
   {
    "duration": 8,
    "start_time": "2023-03-25T06:26:54.048Z"
   },
   {
    "duration": 12,
    "start_time": "2023-03-25T06:26:54.057Z"
   },
   {
    "duration": 12,
    "start_time": "2023-03-25T06:26:54.071Z"
   },
   {
    "duration": 4,
    "start_time": "2023-03-25T06:26:54.085Z"
   },
   {
    "duration": 10,
    "start_time": "2023-03-25T06:26:54.091Z"
   },
   {
    "duration": 9,
    "start_time": "2023-03-25T06:26:54.103Z"
   },
   {
    "duration": 28,
    "start_time": "2023-03-25T06:26:54.114Z"
   },
   {
    "duration": 531,
    "start_time": "2023-03-25T06:26:54.145Z"
   },
   {
    "duration": 22,
    "start_time": "2023-03-25T06:26:54.678Z"
   },
   {
    "duration": 521,
    "start_time": "2023-03-25T06:26:54.702Z"
   },
   {
    "duration": 34,
    "start_time": "2023-03-25T06:26:55.225Z"
   },
   {
    "duration": 527,
    "start_time": "2023-03-25T06:26:55.260Z"
   },
   {
    "duration": 1769,
    "start_time": "2023-03-25T06:26:55.789Z"
   },
   {
    "duration": 14190,
    "start_time": "2023-03-25T06:26:57.562Z"
   },
   {
    "duration": 201,
    "start_time": "2023-03-25T06:27:11.754Z"
   },
   {
    "duration": 173,
    "start_time": "2023-03-25T06:27:11.957Z"
   },
   {
    "duration": 9,
    "start_time": "2023-03-25T06:27:12.132Z"
   },
   {
    "duration": 23,
    "start_time": "2023-03-25T06:27:12.144Z"
   },
   {
    "duration": 16,
    "start_time": "2023-03-25T06:27:12.169Z"
   },
   {
    "duration": 6,
    "start_time": "2023-03-25T06:27:12.187Z"
   },
   {
    "duration": 222,
    "start_time": "2023-03-25T06:27:12.195Z"
   },
   {
    "duration": 4,
    "start_time": "2023-03-25T06:27:12.419Z"
   },
   {
    "duration": 30,
    "start_time": "2023-03-25T06:27:12.425Z"
   },
   {
    "duration": 9,
    "start_time": "2023-03-25T06:27:12.457Z"
   },
   {
    "duration": 114,
    "start_time": "2023-03-25T06:27:12.467Z"
   },
   {
    "duration": 211,
    "start_time": "2023-03-25T06:27:12.583Z"
   },
   {
    "duration": 6,
    "start_time": "2023-03-25T06:27:12.796Z"
   },
   {
    "duration": 6,
    "start_time": "2023-03-25T06:27:12.804Z"
   },
   {
    "duration": 8,
    "start_time": "2023-03-25T06:27:12.812Z"
   },
   {
    "duration": 31,
    "start_time": "2023-03-25T06:27:12.821Z"
   },
   {
    "duration": 237,
    "start_time": "2023-03-25T06:27:12.854Z"
   },
   {
    "duration": 25,
    "start_time": "2023-03-25T06:27:13.093Z"
   },
   {
    "duration": 22,
    "start_time": "2023-03-25T06:27:13.119Z"
   },
   {
    "duration": 24,
    "start_time": "2023-03-25T06:27:13.143Z"
   },
   {
    "duration": 40,
    "start_time": "2023-03-25T06:27:13.168Z"
   },
   {
    "duration": 3,
    "start_time": "2023-03-25T06:36:41.659Z"
   },
   {
    "duration": 208,
    "start_time": "2023-03-25T06:47:05.661Z"
   },
   {
    "duration": 185,
    "start_time": "2023-03-25T06:47:22.643Z"
   },
   {
    "duration": 106,
    "start_time": "2023-03-25T09:05:30.371Z"
   },
   {
    "duration": 4,
    "start_time": "2023-03-25T09:15:48.975Z"
   },
   {
    "duration": 49,
    "start_time": "2023-03-25T09:16:08.414Z"
   },
   {
    "duration": 15,
    "start_time": "2023-03-25T09:16:15.210Z"
   },
   {
    "duration": 1424,
    "start_time": "2023-03-25T09:16:19.764Z"
   },
   {
    "duration": 7,
    "start_time": "2023-03-25T09:16:28.756Z"
   },
   {
    "duration": 6,
    "start_time": "2023-03-25T09:16:29.594Z"
   },
   {
    "duration": 6,
    "start_time": "2023-03-25T09:17:15.523Z"
   },
   {
    "duration": 9,
    "start_time": "2023-03-25T09:17:18.988Z"
   },
   {
    "duration": 4,
    "start_time": "2023-03-25T09:17:56.429Z"
   },
   {
    "duration": 6,
    "start_time": "2023-03-25T09:17:58.235Z"
   },
   {
    "duration": 6,
    "start_time": "2023-03-25T09:18:57.660Z"
   },
   {
    "duration": 7,
    "start_time": "2023-03-25T09:18:59.916Z"
   },
   {
    "duration": 20,
    "start_time": "2023-03-25T09:19:04.677Z"
   },
   {
    "duration": 20,
    "start_time": "2023-03-25T09:19:36.229Z"
   },
   {
    "duration": 4,
    "start_time": "2023-03-25T09:19:39.149Z"
   },
   {
    "duration": 7,
    "start_time": "2023-03-25T09:21:19.830Z"
   },
   {
    "duration": 4,
    "start_time": "2023-03-25T09:21:22.327Z"
   },
   {
    "duration": 11,
    "start_time": "2023-03-25T09:21:48.817Z"
   },
   {
    "duration": 5,
    "start_time": "2023-03-25T09:21:53.495Z"
   },
   {
    "duration": 6,
    "start_time": "2023-03-25T09:21:55.015Z"
   },
   {
    "duration": 5,
    "start_time": "2023-03-25T09:21:58.768Z"
   },
   {
    "duration": 4,
    "start_time": "2023-03-25T09:21:59.951Z"
   },
   {
    "duration": 645,
    "start_time": "2023-03-25T09:22:10.375Z"
   },
   {
    "duration": 23,
    "start_time": "2023-03-25T09:22:33.815Z"
   },
   {
    "duration": 687,
    "start_time": "2023-03-25T09:22:35.551Z"
   },
   {
    "duration": 560,
    "start_time": "2023-03-25T09:24:25.194Z"
   },
   {
    "duration": 16326,
    "start_time": "2023-03-25T09:27:00.355Z"
   },
   {
    "duration": 221,
    "start_time": "2023-03-25T09:27:45.565Z"
   },
   {
    "duration": 168,
    "start_time": "2023-03-25T09:29:48.455Z"
   },
   {
    "duration": 7,
    "start_time": "2023-03-25T09:33:56.649Z"
   },
   {
    "duration": 9,
    "start_time": "2023-03-25T09:34:04.042Z"
   },
   {
    "duration": 16,
    "start_time": "2023-03-25T09:34:26.194Z"
   },
   {
    "duration": 7,
    "start_time": "2023-03-25T09:34:30.176Z"
   },
   {
    "duration": 247,
    "start_time": "2023-03-25T09:35:56.610Z"
   },
   {
    "duration": 15,
    "start_time": "2023-03-25T09:36:44.626Z"
   },
   {
    "duration": 7,
    "start_time": "2023-03-25T09:36:50.187Z"
   },
   {
    "duration": 104,
    "start_time": "2023-03-25T09:37:07.827Z"
   },
   {
    "duration": 104,
    "start_time": "2023-03-25T09:37:40.315Z"
   },
   {
    "duration": 244,
    "start_time": "2023-03-25T09:38:41.856Z"
   },
   {
    "duration": 9,
    "start_time": "2023-03-25T09:40:03.773Z"
   },
   {
    "duration": 9,
    "start_time": "2023-03-25T09:40:06.740Z"
   },
   {
    "duration": 6,
    "start_time": "2023-03-25T09:40:16.630Z"
   },
   {
    "duration": 14,
    "start_time": "2023-03-25T09:40:26.300Z"
   },
   {
    "duration": 220,
    "start_time": "2023-03-25T09:40:57.997Z"
   },
   {
    "duration": 28,
    "start_time": "2023-03-25T09:41:08.270Z"
   },
   {
    "duration": 11,
    "start_time": "2023-03-25T09:41:16.805Z"
   },
   {
    "duration": 28,
    "start_time": "2023-03-25T09:41:19.468Z"
   },
   {
    "duration": 33,
    "start_time": "2023-03-25T09:41:45.062Z"
   },
   {
    "duration": 194,
    "start_time": "2023-03-25T09:44:00.592Z"
   },
   {
    "duration": 1447,
    "start_time": "2023-03-25T09:48:38.355Z"
   },
   {
    "duration": 54,
    "start_time": "2023-03-25T09:48:39.805Z"
   },
   {
    "duration": 18,
    "start_time": "2023-03-25T09:48:39.861Z"
   },
   {
    "duration": 1374,
    "start_time": "2023-03-25T09:48:39.882Z"
   },
   {
    "duration": 6,
    "start_time": "2023-03-25T09:48:41.258Z"
   },
   {
    "duration": 8,
    "start_time": "2023-03-25T09:48:41.265Z"
   },
   {
    "duration": 9,
    "start_time": "2023-03-25T09:48:41.275Z"
   },
   {
    "duration": 10,
    "start_time": "2023-03-25T09:48:41.285Z"
   },
   {
    "duration": 6,
    "start_time": "2023-03-25T09:48:41.297Z"
   },
   {
    "duration": 36,
    "start_time": "2023-03-25T09:48:41.306Z"
   },
   {
    "duration": 15,
    "start_time": "2023-03-25T09:48:41.344Z"
   },
   {
    "duration": 25,
    "start_time": "2023-03-25T09:48:41.361Z"
   },
   {
    "duration": 11,
    "start_time": "2023-03-25T09:48:41.389Z"
   },
   {
    "duration": 9,
    "start_time": "2023-03-25T09:48:41.403Z"
   },
   {
    "duration": 29,
    "start_time": "2023-03-25T09:48:41.414Z"
   },
   {
    "duration": 9,
    "start_time": "2023-03-25T09:48:41.445Z"
   },
   {
    "duration": 5,
    "start_time": "2023-03-25T09:48:41.456Z"
   },
   {
    "duration": 15,
    "start_time": "2023-03-25T09:48:41.463Z"
   },
   {
    "duration": 10,
    "start_time": "2023-03-25T09:48:41.480Z"
   },
   {
    "duration": 5,
    "start_time": "2023-03-25T09:48:41.492Z"
   },
   {
    "duration": 6,
    "start_time": "2023-03-25T09:48:41.499Z"
   },
   {
    "duration": 37,
    "start_time": "2023-03-25T09:48:41.507Z"
   },
   {
    "duration": 579,
    "start_time": "2023-03-25T09:48:41.546Z"
   },
   {
    "duration": 31,
    "start_time": "2023-03-25T09:48:42.128Z"
   },
   {
    "duration": 551,
    "start_time": "2023-03-25T09:48:42.161Z"
   },
   {
    "duration": 38,
    "start_time": "2023-03-25T09:48:42.714Z"
   },
   {
    "duration": 465,
    "start_time": "2023-03-25T09:48:42.843Z"
   },
   {
    "duration": 1831,
    "start_time": "2023-03-25T09:48:43.311Z"
   },
   {
    "duration": 15097,
    "start_time": "2023-03-25T09:48:45.144Z"
   },
   {
    "duration": 214,
    "start_time": "2023-03-25T09:49:00.243Z"
   },
   {
    "duration": 174,
    "start_time": "2023-03-25T09:49:00.459Z"
   },
   {
    "duration": 8,
    "start_time": "2023-03-25T09:49:00.635Z"
   },
   {
    "duration": 75,
    "start_time": "2023-03-25T09:49:00.644Z"
   },
   {
    "duration": 39,
    "start_time": "2023-03-25T09:49:00.722Z"
   },
   {
    "duration": 25,
    "start_time": "2023-03-25T09:49:00.763Z"
   },
   {
    "duration": 242,
    "start_time": "2023-03-25T09:49:00.790Z"
   },
   {
    "duration": 8,
    "start_time": "2023-03-25T09:49:01.034Z"
   },
   {
    "duration": 73,
    "start_time": "2023-03-25T09:49:01.044Z"
   },
   {
    "duration": 25,
    "start_time": "2023-03-25T09:49:01.119Z"
   },
   {
    "duration": 128,
    "start_time": "2023-03-25T09:49:01.146Z"
   },
   {
    "duration": 233,
    "start_time": "2023-03-25T09:49:01.277Z"
   },
   {
    "duration": 7,
    "start_time": "2023-03-25T09:49:01.512Z"
   },
   {
    "duration": 26,
    "start_time": "2023-03-25T09:49:01.520Z"
   },
   {
    "duration": 26,
    "start_time": "2023-03-25T09:49:01.548Z"
   },
   {
    "duration": 26,
    "start_time": "2023-03-25T09:49:01.576Z"
   },
   {
    "duration": 272,
    "start_time": "2023-03-25T09:49:01.604Z"
   },
   {
    "duration": 29,
    "start_time": "2023-03-25T09:49:01.878Z"
   },
   {
    "duration": 31,
    "start_time": "2023-03-25T09:49:01.910Z"
   },
   {
    "duration": 35,
    "start_time": "2023-03-25T09:49:01.943Z"
   },
   {
    "duration": 39,
    "start_time": "2023-03-25T09:49:01.980Z"
   },
   {
    "duration": 210,
    "start_time": "2023-03-25T09:49:02.022Z"
   },
   {
    "duration": 1600,
    "start_time": "2023-03-26T17:11:27.872Z"
   },
   {
    "duration": 177,
    "start_time": "2023-03-26T17:11:29.475Z"
   },
   {
    "duration": 18,
    "start_time": "2023-03-26T17:11:29.653Z"
   },
   {
    "duration": 1603,
    "start_time": "2023-03-26T17:11:29.674Z"
   },
   {
    "duration": 5,
    "start_time": "2023-03-26T17:11:31.278Z"
   },
   {
    "duration": 41,
    "start_time": "2023-03-26T17:11:31.285Z"
   },
   {
    "duration": 36,
    "start_time": "2023-03-26T17:11:31.327Z"
   },
   {
    "duration": 40,
    "start_time": "2023-03-26T17:11:31.365Z"
   },
   {
    "duration": 24,
    "start_time": "2023-03-26T17:11:31.406Z"
   },
   {
    "duration": 15,
    "start_time": "2023-03-26T17:11:31.432Z"
   },
   {
    "duration": 14,
    "start_time": "2023-03-26T17:11:33.966Z"
   },
   {
    "duration": 142,
    "start_time": "2023-03-26T17:14:51.016Z"
   },
   {
    "duration": 18,
    "start_time": "2023-03-26T17:14:59.432Z"
   },
   {
    "duration": 14,
    "start_time": "2023-03-26T17:16:41.281Z"
   },
   {
    "duration": 12,
    "start_time": "2023-03-26T17:16:52.481Z"
   },
   {
    "duration": 16,
    "start_time": "2023-03-26T17:17:38.866Z"
   },
   {
    "duration": 10,
    "start_time": "2023-03-26T17:19:27.083Z"
   },
   {
    "duration": 11,
    "start_time": "2023-03-26T17:19:38.844Z"
   },
   {
    "duration": 13,
    "start_time": "2023-03-26T17:19:49.684Z"
   },
   {
    "duration": 4,
    "start_time": "2023-03-26T17:19:53.019Z"
   },
   {
    "duration": 53,
    "start_time": "2023-03-26T17:19:53.025Z"
   },
   {
    "duration": 13,
    "start_time": "2023-03-26T17:19:53.081Z"
   },
   {
    "duration": 1244,
    "start_time": "2023-03-26T17:19:53.095Z"
   },
   {
    "duration": 5,
    "start_time": "2023-03-26T17:19:54.341Z"
   },
   {
    "duration": 7,
    "start_time": "2023-03-26T17:19:54.347Z"
   },
   {
    "duration": 7,
    "start_time": "2023-03-26T17:19:54.355Z"
   },
   {
    "duration": 5,
    "start_time": "2023-03-26T17:19:54.363Z"
   },
   {
    "duration": 11,
    "start_time": "2023-03-26T17:19:54.369Z"
   },
   {
    "duration": 9,
    "start_time": "2023-03-26T17:19:54.382Z"
   },
   {
    "duration": 37,
    "start_time": "2023-03-26T17:19:54.393Z"
   },
   {
    "duration": 19,
    "start_time": "2023-03-26T17:19:56.747Z"
   },
   {
    "duration": 5,
    "start_time": "2023-03-26T17:22:01.661Z"
   },
   {
    "duration": 4,
    "start_time": "2023-03-26T17:26:33.192Z"
   },
   {
    "duration": 48,
    "start_time": "2023-03-26T17:26:36.415Z"
   },
   {
    "duration": 1323,
    "start_time": "2023-03-26T17:26:38.871Z"
   },
   {
    "duration": 5,
    "start_time": "2023-03-26T17:26:42.438Z"
   },
   {
    "duration": 5,
    "start_time": "2023-03-26T17:26:43.607Z"
   },
   {
    "duration": 5,
    "start_time": "2023-03-26T17:26:46.063Z"
   },
   {
    "duration": 4,
    "start_time": "2023-03-26T17:26:47.167Z"
   },
   {
    "duration": 6,
    "start_time": "2023-03-26T17:26:48.935Z"
   },
   {
    "duration": 7,
    "start_time": "2023-03-26T17:26:50.695Z"
   },
   {
    "duration": 16,
    "start_time": "2023-03-26T17:26:52.406Z"
   },
   {
    "duration": 19,
    "start_time": "2023-03-26T17:26:55.824Z"
   },
   {
    "duration": 4,
    "start_time": "2023-03-26T17:27:10.752Z"
   },
   {
    "duration": 8,
    "start_time": "2023-03-26T17:27:14.464Z"
   },
   {
    "duration": 4,
    "start_time": "2023-03-26T17:27:16.224Z"
   },
   {
    "duration": 5,
    "start_time": "2023-03-26T17:27:18.992Z"
   },
   {
    "duration": 5,
    "start_time": "2023-03-26T17:27:20.743Z"
   },
   {
    "duration": 44,
    "start_time": "2023-03-26T17:29:34.714Z"
   },
   {
    "duration": 24,
    "start_time": "2023-03-26T17:29:40.081Z"
   },
   {
    "duration": 11,
    "start_time": "2023-03-26T17:29:55.115Z"
   },
   {
    "duration": 5,
    "start_time": "2023-03-26T17:30:53.262Z"
   },
   {
    "duration": 58,
    "start_time": "2023-03-26T17:30:53.270Z"
   },
   {
    "duration": 14,
    "start_time": "2023-03-26T17:30:53.330Z"
   },
   {
    "duration": 1297,
    "start_time": "2023-03-26T17:30:53.346Z"
   },
   {
    "duration": 5,
    "start_time": "2023-03-26T17:30:54.645Z"
   },
   {
    "duration": 5,
    "start_time": "2023-03-26T17:30:54.651Z"
   },
   {
    "duration": 4,
    "start_time": "2023-03-26T17:30:54.658Z"
   },
   {
    "duration": 5,
    "start_time": "2023-03-26T17:30:54.663Z"
   },
   {
    "duration": 5,
    "start_time": "2023-03-26T17:30:54.669Z"
   },
   {
    "duration": 6,
    "start_time": "2023-03-26T17:30:54.675Z"
   },
   {
    "duration": 54,
    "start_time": "2023-03-26T17:30:54.683Z"
   },
   {
    "duration": 26,
    "start_time": "2023-03-26T17:30:54.739Z"
   },
   {
    "duration": 6,
    "start_time": "2023-03-26T17:30:54.768Z"
   },
   {
    "duration": 9,
    "start_time": "2023-03-26T17:30:54.776Z"
   },
   {
    "duration": 38,
    "start_time": "2023-03-26T17:30:54.787Z"
   },
   {
    "duration": 21,
    "start_time": "2023-03-26T17:31:29.531Z"
   },
   {
    "duration": 16,
    "start_time": "2023-03-26T17:31:39.274Z"
   },
   {
    "duration": 9,
    "start_time": "2023-03-26T17:32:13.964Z"
   },
   {
    "duration": 22,
    "start_time": "2023-03-26T17:32:24.666Z"
   },
   {
    "duration": 10,
    "start_time": "2023-03-26T17:32:45.268Z"
   },
   {
    "duration": 8,
    "start_time": "2023-03-26T17:33:33.956Z"
   },
   {
    "duration": 4,
    "start_time": "2023-03-26T17:35:38.103Z"
   },
   {
    "duration": 5,
    "start_time": "2023-03-26T17:37:28.088Z"
   },
   {
    "duration": 14,
    "start_time": "2023-03-26T17:38:09.385Z"
   },
   {
    "duration": 8,
    "start_time": "2023-03-26T17:38:21.817Z"
   },
   {
    "duration": 13,
    "start_time": "2023-03-26T17:38:43.448Z"
   },
   {
    "duration": 13,
    "start_time": "2023-03-26T17:39:09.544Z"
   },
   {
    "duration": 5,
    "start_time": "2023-03-26T17:39:34.073Z"
   },
   {
    "duration": 8,
    "start_time": "2023-03-26T17:42:14.531Z"
   },
   {
    "duration": 12,
    "start_time": "2023-03-26T17:42:22.547Z"
   },
   {
    "duration": 8,
    "start_time": "2023-03-26T17:42:40.489Z"
   },
   {
    "duration": 10,
    "start_time": "2023-03-26T17:43:05.322Z"
   },
   {
    "duration": 5,
    "start_time": "2023-03-26T17:43:19.562Z"
   },
   {
    "duration": 6,
    "start_time": "2023-03-26T17:43:44.780Z"
   },
   {
    "duration": 4,
    "start_time": "2023-03-26T17:45:30.643Z"
   },
   {
    "duration": 72,
    "start_time": "2023-03-26T17:45:30.649Z"
   },
   {
    "duration": 17,
    "start_time": "2023-03-26T17:45:30.724Z"
   },
   {
    "duration": 1524,
    "start_time": "2023-03-26T17:45:30.744Z"
   },
   {
    "duration": 6,
    "start_time": "2023-03-26T17:45:32.272Z"
   },
   {
    "duration": 19,
    "start_time": "2023-03-26T17:45:32.279Z"
   },
   {
    "duration": 10,
    "start_time": "2023-03-26T17:45:32.300Z"
   },
   {
    "duration": 16,
    "start_time": "2023-03-26T17:45:32.311Z"
   },
   {
    "duration": 6,
    "start_time": "2023-03-26T17:45:32.328Z"
   },
   {
    "duration": 8,
    "start_time": "2023-03-26T17:45:32.336Z"
   },
   {
    "duration": 19,
    "start_time": "2023-03-26T17:45:32.347Z"
   },
   {
    "duration": 58,
    "start_time": "2023-03-26T17:45:32.368Z"
   },
   {
    "duration": 6,
    "start_time": "2023-03-26T17:45:32.428Z"
   },
   {
    "duration": 20,
    "start_time": "2023-03-26T17:45:32.439Z"
   },
   {
    "duration": 5,
    "start_time": "2023-03-26T17:45:32.462Z"
   },
   {
    "duration": 4,
    "start_time": "2023-03-26T17:45:32.469Z"
   },
   {
    "duration": 20,
    "start_time": "2023-03-26T17:45:32.476Z"
   },
   {
    "duration": 36,
    "start_time": "2023-03-26T17:45:32.498Z"
   },
   {
    "duration": 9,
    "start_time": "2023-03-26T17:45:32.537Z"
   },
   {
    "duration": 9,
    "start_time": "2023-03-26T17:45:32.548Z"
   },
   {
    "duration": 7,
    "start_time": "2023-03-26T17:45:32.559Z"
   },
   {
    "duration": 4,
    "start_time": "2023-03-26T17:45:32.568Z"
   },
   {
    "duration": 4,
    "start_time": "2023-03-26T17:45:32.574Z"
   },
   {
    "duration": 45,
    "start_time": "2023-03-26T17:45:32.580Z"
   },
   {
    "duration": 5,
    "start_time": "2023-03-26T17:45:32.626Z"
   },
   {
    "duration": 5,
    "start_time": "2023-03-26T17:45:32.633Z"
   },
   {
    "duration": 7,
    "start_time": "2023-03-26T17:45:32.639Z"
   },
   {
    "duration": 6,
    "start_time": "2023-03-26T17:45:32.648Z"
   },
   {
    "duration": 627,
    "start_time": "2023-03-26T17:45:32.655Z"
   },
   {
    "duration": 21,
    "start_time": "2023-03-26T17:45:33.283Z"
   },
   {
    "duration": 589,
    "start_time": "2023-03-26T17:45:33.305Z"
   },
   {
    "duration": 129,
    "start_time": "2023-03-26T17:45:33.895Z"
   },
   {
    "duration": 483,
    "start_time": "2023-03-26T17:45:34.027Z"
   },
   {
    "duration": 1999,
    "start_time": "2023-03-26T17:45:34.512Z"
   },
   {
    "duration": 15219,
    "start_time": "2023-03-26T17:45:36.513Z"
   },
   {
    "duration": 213,
    "start_time": "2023-03-26T17:45:51.736Z"
   },
   {
    "duration": 174,
    "start_time": "2023-03-26T17:45:51.950Z"
   },
   {
    "duration": 7,
    "start_time": "2023-03-26T17:45:52.126Z"
   },
   {
    "duration": 18,
    "start_time": "2023-03-26T17:45:52.135Z"
   },
   {
    "duration": 15,
    "start_time": "2023-03-26T17:45:52.155Z"
   },
   {
    "duration": 26,
    "start_time": "2023-03-26T17:45:52.175Z"
   },
   {
    "duration": 235,
    "start_time": "2023-03-26T17:45:52.203Z"
   },
   {
    "duration": 4,
    "start_time": "2023-03-26T17:45:52.440Z"
   },
   {
    "duration": 32,
    "start_time": "2023-03-26T17:45:52.446Z"
   },
   {
    "duration": 12,
    "start_time": "2023-03-26T17:45:52.480Z"
   },
   {
    "duration": 104,
    "start_time": "2023-03-26T17:45:52.494Z"
   },
   {
    "duration": 368,
    "start_time": "2023-03-26T17:45:52.600Z"
   },
   {
    "duration": 8,
    "start_time": "2023-03-26T17:45:52.970Z"
   },
   {
    "duration": 7,
    "start_time": "2023-03-26T17:45:52.979Z"
   },
   {
    "duration": 5,
    "start_time": "2023-03-26T17:45:52.988Z"
   },
   {
    "duration": 36,
    "start_time": "2023-03-26T17:45:52.995Z"
   },
   {
    "duration": 252,
    "start_time": "2023-03-26T17:45:53.033Z"
   },
   {
    "duration": 24,
    "start_time": "2023-03-26T17:45:53.287Z"
   },
   {
    "duration": 11,
    "start_time": "2023-03-26T17:45:53.322Z"
   },
   {
    "duration": 26,
    "start_time": "2023-03-26T17:45:53.335Z"
   },
   {
    "duration": 34,
    "start_time": "2023-03-26T17:45:53.362Z"
   },
   {
    "duration": 207,
    "start_time": "2023-03-26T17:45:53.398Z"
   },
   {
    "duration": 49,
    "start_time": "2023-03-26T17:49:17.233Z"
   },
   {
    "duration": 520,
    "start_time": "2023-03-26T17:49:21.871Z"
   },
   {
    "duration": 9,
    "start_time": "2023-03-26T17:49:45.671Z"
   },
   {
    "duration": 4,
    "start_time": "2023-03-26T17:58:39.348Z"
   },
   {
    "duration": 1311,
    "start_time": "2023-03-26T18:11:58.345Z"
   },
   {
    "duration": 48,
    "start_time": "2023-03-26T18:11:59.658Z"
   },
   {
    "duration": 17,
    "start_time": "2023-03-26T18:11:59.708Z"
   },
   {
    "duration": 1528,
    "start_time": "2023-03-26T18:11:59.728Z"
   },
   {
    "duration": 6,
    "start_time": "2023-03-26T18:12:01.258Z"
   },
   {
    "duration": 81,
    "start_time": "2023-03-26T18:12:01.266Z"
   },
   {
    "duration": 45,
    "start_time": "2023-03-26T18:12:01.349Z"
   },
   {
    "duration": 49,
    "start_time": "2023-03-26T18:12:01.396Z"
   },
   {
    "duration": 44,
    "start_time": "2023-03-26T18:12:01.447Z"
   },
   {
    "duration": 32,
    "start_time": "2023-03-26T18:12:01.494Z"
   },
   {
    "duration": 67,
    "start_time": "2023-03-26T18:12:01.528Z"
   },
   {
    "duration": 57,
    "start_time": "2023-03-26T18:12:01.598Z"
   },
   {
    "duration": 29,
    "start_time": "2023-03-26T18:12:01.657Z"
   },
   {
    "duration": 69,
    "start_time": "2023-03-26T18:12:01.688Z"
   },
   {
    "duration": 69,
    "start_time": "2023-03-26T18:12:01.760Z"
   },
   {
    "duration": 67,
    "start_time": "2023-03-26T18:12:01.831Z"
   },
   {
    "duration": 60,
    "start_time": "2023-03-26T18:12:01.900Z"
   },
   {
    "duration": 53,
    "start_time": "2023-03-26T18:12:01.961Z"
   },
   {
    "duration": 30,
    "start_time": "2023-03-26T18:12:02.016Z"
   },
   {
    "duration": 20,
    "start_time": "2023-03-26T18:12:02.048Z"
   },
   {
    "duration": 23,
    "start_time": "2023-03-26T18:12:02.071Z"
   },
   {
    "duration": 41,
    "start_time": "2023-03-26T18:12:02.096Z"
   },
   {
    "duration": 578,
    "start_time": "2023-03-26T18:12:02.139Z"
   },
   {
    "duration": 22,
    "start_time": "2023-03-26T18:12:02.724Z"
   },
   {
    "duration": 547,
    "start_time": "2023-03-26T18:12:02.749Z"
   },
   {
    "duration": 38,
    "start_time": "2023-03-26T18:12:03.298Z"
   },
   {
    "duration": 535,
    "start_time": "2023-03-26T18:12:03.338Z"
   },
   {
    "duration": 1821,
    "start_time": "2023-03-26T18:12:03.877Z"
   },
   {
    "duration": 14701,
    "start_time": "2023-03-26T18:12:05.700Z"
   },
   {
    "duration": 251,
    "start_time": "2023-03-26T18:12:20.403Z"
   },
   {
    "duration": 171,
    "start_time": "2023-03-26T18:12:20.655Z"
   },
   {
    "duration": 5,
    "start_time": "2023-03-26T18:12:20.828Z"
   },
   {
    "duration": 14,
    "start_time": "2023-03-26T18:12:20.835Z"
   },
   {
    "duration": 21,
    "start_time": "2023-03-26T18:12:20.851Z"
   },
   {
    "duration": 24,
    "start_time": "2023-03-26T18:12:20.874Z"
   },
   {
    "duration": 226,
    "start_time": "2023-03-26T18:12:20.900Z"
   },
   {
    "duration": 5,
    "start_time": "2023-03-26T18:12:21.127Z"
   },
   {
    "duration": 24,
    "start_time": "2023-03-26T18:12:21.134Z"
   },
   {
    "duration": 6,
    "start_time": "2023-03-26T18:12:21.161Z"
   },
   {
    "duration": 123,
    "start_time": "2023-03-26T18:12:21.169Z"
   },
   {
    "duration": 246,
    "start_time": "2023-03-26T18:12:21.294Z"
   },
   {
    "duration": 7,
    "start_time": "2023-03-26T18:12:21.542Z"
   },
   {
    "duration": 15,
    "start_time": "2023-03-26T18:12:21.550Z"
   },
   {
    "duration": 17,
    "start_time": "2023-03-26T18:12:21.566Z"
   },
   {
    "duration": 38,
    "start_time": "2023-03-26T18:12:21.585Z"
   },
   {
    "duration": 245,
    "start_time": "2023-03-26T18:12:21.626Z"
   },
   {
    "duration": 25,
    "start_time": "2023-03-26T18:12:21.873Z"
   },
   {
    "duration": 26,
    "start_time": "2023-03-26T18:12:21.899Z"
   },
   {
    "duration": 33,
    "start_time": "2023-03-26T18:12:21.927Z"
   },
   {
    "duration": 32,
    "start_time": "2023-03-26T18:12:21.962Z"
   },
   {
    "duration": 201,
    "start_time": "2023-03-26T18:12:21.995Z"
   }
  ],
  "kernelspec": {
   "display_name": "Python 3 (ipykernel)",
   "language": "python",
   "name": "python3"
  },
  "language_info": {
   "codemirror_mode": {
    "name": "ipython",
    "version": 3
   },
   "file_extension": ".py",
   "mimetype": "text/x-python",
   "name": "python",
   "nbconvert_exporter": "python",
   "pygments_lexer": "ipython3",
   "version": "3.8.5"
  },
  "toc": {
   "base_numbering": 1,
   "nav_menu": {},
   "number_sections": true,
   "sideBar": true,
   "skip_h1_title": true,
   "title_cell": "Содержание",
   "title_sidebar": "Contents",
   "toc_cell": true,
   "toc_position": {
    "height": "calc(100% - 180px)",
    "left": "10px",
    "top": "150px",
    "width": "206.155px"
   },
   "toc_section_display": true,
   "toc_window_display": false
  }
 },
 "nbformat": 4,
 "nbformat_minor": 4
}
